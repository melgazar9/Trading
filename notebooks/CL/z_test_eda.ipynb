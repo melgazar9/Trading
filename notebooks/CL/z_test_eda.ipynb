{
 "cells": [
  {
   "cell_type": "code",
   "execution_count": 1,
   "metadata": {},
   "outputs": [
    {
     "name": "stderr",
     "output_type": "stream",
     "text": [
      "/home/melgazar9/anaconda3/lib/python3.6/importlib/_bootstrap.py:219: RuntimeWarning: numpy.ufunc size changed, may indicate binary incompatibility. Expected 216, got 192\n",
      "  return f(*args, **kwds)\n",
      "/home/melgazar9/anaconda3/lib/python3.6/importlib/_bootstrap.py:219: RuntimeWarning: numpy.ufunc size changed, may indicate binary incompatibility. Expected 216, got 192\n",
      "  return f(*args, **kwds)\n",
      "/home/melgazar9/anaconda3/lib/python3.6/importlib/_bootstrap.py:219: RuntimeWarning: numpy.dtype size changed, may indicate binary incompatibility. Expected 96, got 88\n",
      "  return f(*args, **kwds)\n",
      "/home/melgazar9/anaconda3/lib/python3.6/importlib/_bootstrap.py:219: RuntimeWarning: numpy.ufunc size changed, may indicate binary incompatibility. Expected 216, got 192\n",
      "  return f(*args, **kwds)\n",
      "/home/melgazar9/anaconda3/lib/python3.6/importlib/_bootstrap.py:219: RuntimeWarning: numpy.ufunc size changed, may indicate binary incompatibility. Expected 216, got 192\n",
      "  return f(*args, **kwds)\n",
      "/home/melgazar9/anaconda3/lib/python3.6/importlib/_bootstrap.py:219: RuntimeWarning: numpy.ufunc size changed, may indicate binary incompatibility. Expected 192 from C header, got 216 from PyObject\n",
      "  return f(*args, **kwds)\n",
      "/home/melgazar9/anaconda3/lib/python3.6/importlib/_bootstrap.py:219: RuntimeWarning: numpy.ufunc size changed, may indicate binary incompatibility. Expected 216, got 192\n",
      "  return f(*args, **kwds)\n",
      "/home/melgazar9/anaconda3/lib/python3.6/importlib/_bootstrap.py:219: RuntimeWarning: numpy.ufunc size changed, may indicate binary incompatibility. Expected 192 from C header, got 216 from PyObject\n",
      "  return f(*args, **kwds)\n",
      "/home/melgazar9/anaconda3/lib/python3.6/importlib/_bootstrap.py:219: RuntimeWarning: numpy.ufunc size changed, may indicate binary incompatibility. Expected 216, got 192\n",
      "  return f(*args, **kwds)\n"
     ]
    },
    {
     "name": "stdout",
     "output_type": "stream",
     "text": [
      "**************** RUNNING CL_10min_  ****************\n",
      "Datetime index is already set!\n"
     ]
    },
    {
     "data": {
      "text/html": [
       "<div>\n",
       "<style scoped>\n",
       "    .dataframe tbody tr th:only-of-type {\n",
       "        vertical-align: middle;\n",
       "    }\n",
       "\n",
       "    .dataframe tbody tr th {\n",
       "        vertical-align: top;\n",
       "    }\n",
       "\n",
       "    .dataframe thead th {\n",
       "        text-align: right;\n",
       "    }\n",
       "</style>\n",
       "<table border=\"1\" class=\"dataframe\">\n",
       "  <thead>\n",
       "    <tr style=\"text-align: right;\">\n",
       "      <th></th>\n",
       "      <th>Prev1minMove</th>\n",
       "      <th>Prev1minRange</th>\n",
       "      <th>Prev1minHighMove</th>\n",
       "      <th>Prev1minLowMove</th>\n",
       "      <th>Prev1minVolume</th>\n",
       "      <th>Prev2minMove</th>\n",
       "      <th>Prev2minRange</th>\n",
       "      <th>Prev2minHighMove</th>\n",
       "      <th>Prev2minLowMove</th>\n",
       "      <th>Prev2minVolume</th>\n",
       "      <th>...</th>\n",
       "      <th>Prev5minLowMove_Opinion</th>\n",
       "      <th>Prev10minMove_Opinion</th>\n",
       "      <th>Prev10minHighMove_Opinion</th>\n",
       "      <th>Prev10minLowMove_Opinion</th>\n",
       "      <th>Prev15minMove_Opinion</th>\n",
       "      <th>Prev15minHighMove_Opinion</th>\n",
       "      <th>Prev15minLowMove_Opinion</th>\n",
       "      <th>Actual10minMove</th>\n",
       "      <th>Actual10minHighMove</th>\n",
       "      <th>Actual10minLowMove</th>\n",
       "    </tr>\n",
       "    <tr>\n",
       "      <th>Datetime</th>\n",
       "      <th></th>\n",
       "      <th></th>\n",
       "      <th></th>\n",
       "      <th></th>\n",
       "      <th></th>\n",
       "      <th></th>\n",
       "      <th></th>\n",
       "      <th></th>\n",
       "      <th></th>\n",
       "      <th></th>\n",
       "      <th></th>\n",
       "      <th></th>\n",
       "      <th></th>\n",
       "      <th></th>\n",
       "      <th></th>\n",
       "      <th></th>\n",
       "      <th></th>\n",
       "      <th></th>\n",
       "      <th></th>\n",
       "      <th></th>\n",
       "      <th></th>\n",
       "    </tr>\n",
       "  </thead>\n",
       "  <tbody>\n",
       "    <tr>\n",
       "      <th>2015-01-01 18:00:00-06:00</th>\n",
       "      <td>-0.05</td>\n",
       "      <td>0.05</td>\n",
       "      <td>0.00</td>\n",
       "      <td>-0.05</td>\n",
       "      <td>28.0</td>\n",
       "      <td>-0.04</td>\n",
       "      <td>0.08</td>\n",
       "      <td>0.04</td>\n",
       "      <td>-0.04</td>\n",
       "      <td>69.0</td>\n",
       "      <td>...</td>\n",
       "      <td>0</td>\n",
       "      <td>1</td>\n",
       "      <td>1</td>\n",
       "      <td>0</td>\n",
       "      <td>1</td>\n",
       "      <td>1</td>\n",
       "      <td>0</td>\n",
       "      <td>0.03</td>\n",
       "      <td>0.18</td>\n",
       "      <td>-0.17</td>\n",
       "    </tr>\n",
       "    <tr>\n",
       "      <th>2015-01-01 18:01:00-06:00</th>\n",
       "      <td>-0.07</td>\n",
       "      <td>0.12</td>\n",
       "      <td>0.02</td>\n",
       "      <td>-0.10</td>\n",
       "      <td>102.0</td>\n",
       "      <td>-0.04</td>\n",
       "      <td>0.08</td>\n",
       "      <td>0.04</td>\n",
       "      <td>-0.04</td>\n",
       "      <td>69.0</td>\n",
       "      <td>...</td>\n",
       "      <td>0</td>\n",
       "      <td>1</td>\n",
       "      <td>1</td>\n",
       "      <td>0</td>\n",
       "      <td>1</td>\n",
       "      <td>1</td>\n",
       "      <td>0</td>\n",
       "      <td>NaN</td>\n",
       "      <td>NaN</td>\n",
       "      <td>NaN</td>\n",
       "    </tr>\n",
       "    <tr>\n",
       "      <th>2015-01-01 18:02:00-06:00</th>\n",
       "      <td>0.00</td>\n",
       "      <td>0.11</td>\n",
       "      <td>0.00</td>\n",
       "      <td>-0.11</td>\n",
       "      <td>111.0</td>\n",
       "      <td>-0.06</td>\n",
       "      <td>0.19</td>\n",
       "      <td>0.02</td>\n",
       "      <td>-0.17</td>\n",
       "      <td>213.0</td>\n",
       "      <td>...</td>\n",
       "      <td>0</td>\n",
       "      <td>1</td>\n",
       "      <td>1</td>\n",
       "      <td>0</td>\n",
       "      <td>1</td>\n",
       "      <td>1</td>\n",
       "      <td>0</td>\n",
       "      <td>NaN</td>\n",
       "      <td>NaN</td>\n",
       "      <td>NaN</td>\n",
       "    </tr>\n",
       "    <tr>\n",
       "      <th>2015-01-01 18:03:00-06:00</th>\n",
       "      <td>0.23</td>\n",
       "      <td>0.29</td>\n",
       "      <td>0.29</td>\n",
       "      <td>0.00</td>\n",
       "      <td>156.0</td>\n",
       "      <td>-0.06</td>\n",
       "      <td>0.19</td>\n",
       "      <td>0.02</td>\n",
       "      <td>-0.17</td>\n",
       "      <td>213.0</td>\n",
       "      <td>...</td>\n",
       "      <td>0</td>\n",
       "      <td>1</td>\n",
       "      <td>1</td>\n",
       "      <td>0</td>\n",
       "      <td>1</td>\n",
       "      <td>1</td>\n",
       "      <td>0</td>\n",
       "      <td>NaN</td>\n",
       "      <td>NaN</td>\n",
       "      <td>NaN</td>\n",
       "    </tr>\n",
       "    <tr>\n",
       "      <th>2015-01-01 18:04:00-06:00</th>\n",
       "      <td>-0.04</td>\n",
       "      <td>0.11</td>\n",
       "      <td>0.02</td>\n",
       "      <td>-0.09</td>\n",
       "      <td>75.0</td>\n",
       "      <td>0.22</td>\n",
       "      <td>0.29</td>\n",
       "      <td>0.29</td>\n",
       "      <td>0.00</td>\n",
       "      <td>231.0</td>\n",
       "      <td>...</td>\n",
       "      <td>0</td>\n",
       "      <td>1</td>\n",
       "      <td>1</td>\n",
       "      <td>0</td>\n",
       "      <td>1</td>\n",
       "      <td>1</td>\n",
       "      <td>0</td>\n",
       "      <td>NaN</td>\n",
       "      <td>NaN</td>\n",
       "      <td>NaN</td>\n",
       "    </tr>\n",
       "  </tbody>\n",
       "</table>\n",
       "<p>5 rows × 362 columns</p>\n",
       "</div>"
      ],
      "text/plain": [
       "                           Prev1minMove  Prev1minRange  Prev1minHighMove  \\\n",
       "Datetime                                                                   \n",
       "2015-01-01 18:00:00-06:00         -0.05           0.05              0.00   \n",
       "2015-01-01 18:01:00-06:00         -0.07           0.12              0.02   \n",
       "2015-01-01 18:02:00-06:00          0.00           0.11              0.00   \n",
       "2015-01-01 18:03:00-06:00          0.23           0.29              0.29   \n",
       "2015-01-01 18:04:00-06:00         -0.04           0.11              0.02   \n",
       "\n",
       "                           Prev1minLowMove  Prev1minVolume  Prev2minMove  \\\n",
       "Datetime                                                                   \n",
       "2015-01-01 18:00:00-06:00            -0.05            28.0         -0.04   \n",
       "2015-01-01 18:01:00-06:00            -0.10           102.0         -0.04   \n",
       "2015-01-01 18:02:00-06:00            -0.11           111.0         -0.06   \n",
       "2015-01-01 18:03:00-06:00             0.00           156.0         -0.06   \n",
       "2015-01-01 18:04:00-06:00            -0.09            75.0          0.22   \n",
       "\n",
       "                           Prev2minRange  Prev2minHighMove  Prev2minLowMove  \\\n",
       "Datetime                                                                      \n",
       "2015-01-01 18:00:00-06:00           0.08              0.04            -0.04   \n",
       "2015-01-01 18:01:00-06:00           0.08              0.04            -0.04   \n",
       "2015-01-01 18:02:00-06:00           0.19              0.02            -0.17   \n",
       "2015-01-01 18:03:00-06:00           0.19              0.02            -0.17   \n",
       "2015-01-01 18:04:00-06:00           0.29              0.29             0.00   \n",
       "\n",
       "                           Prev2minVolume  ...  Prev5minLowMove_Opinion  \\\n",
       "Datetime                                   ...                            \n",
       "2015-01-01 18:00:00-06:00            69.0  ...                        0   \n",
       "2015-01-01 18:01:00-06:00            69.0  ...                        0   \n",
       "2015-01-01 18:02:00-06:00           213.0  ...                        0   \n",
       "2015-01-01 18:03:00-06:00           213.0  ...                        0   \n",
       "2015-01-01 18:04:00-06:00           231.0  ...                        0   \n",
       "\n",
       "                           Prev10minMove_Opinion  Prev10minHighMove_Opinion  \\\n",
       "Datetime                                                                      \n",
       "2015-01-01 18:00:00-06:00                      1                          1   \n",
       "2015-01-01 18:01:00-06:00                      1                          1   \n",
       "2015-01-01 18:02:00-06:00                      1                          1   \n",
       "2015-01-01 18:03:00-06:00                      1                          1   \n",
       "2015-01-01 18:04:00-06:00                      1                          1   \n",
       "\n",
       "                           Prev10minLowMove_Opinion  Prev15minMove_Opinion  \\\n",
       "Datetime                                                                     \n",
       "2015-01-01 18:00:00-06:00                         0                      1   \n",
       "2015-01-01 18:01:00-06:00                         0                      1   \n",
       "2015-01-01 18:02:00-06:00                         0                      1   \n",
       "2015-01-01 18:03:00-06:00                         0                      1   \n",
       "2015-01-01 18:04:00-06:00                         0                      1   \n",
       "\n",
       "                           Prev15minHighMove_Opinion  \\\n",
       "Datetime                                               \n",
       "2015-01-01 18:00:00-06:00                          1   \n",
       "2015-01-01 18:01:00-06:00                          1   \n",
       "2015-01-01 18:02:00-06:00                          1   \n",
       "2015-01-01 18:03:00-06:00                          1   \n",
       "2015-01-01 18:04:00-06:00                          1   \n",
       "\n",
       "                           Prev15minLowMove_Opinion  Actual10minMove  \\\n",
       "Datetime                                                               \n",
       "2015-01-01 18:00:00-06:00                         0             0.03   \n",
       "2015-01-01 18:01:00-06:00                         0              NaN   \n",
       "2015-01-01 18:02:00-06:00                         0              NaN   \n",
       "2015-01-01 18:03:00-06:00                         0              NaN   \n",
       "2015-01-01 18:04:00-06:00                         0              NaN   \n",
       "\n",
       "                           Actual10minHighMove  Actual10minLowMove  \n",
       "Datetime                                                            \n",
       "2015-01-01 18:00:00-06:00                 0.18               -0.17  \n",
       "2015-01-01 18:01:00-06:00                  NaN                 NaN  \n",
       "2015-01-01 18:02:00-06:00                  NaN                 NaN  \n",
       "2015-01-01 18:03:00-06:00                  NaN                 NaN  \n",
       "2015-01-01 18:04:00-06:00                  NaN                 NaN  \n",
       "\n",
       "[5 rows x 362 columns]"
      ]
     },
     "execution_count": 1,
     "metadata": {},
     "output_type": "execute_result"
    }
   ],
   "source": [
    "from scipy.stats import norm\n",
    "import time\n",
    "import pandas as pd\n",
    "import dask.dataframe as dd\n",
    "import numpy as np\n",
    "import feather\n",
    "import matplotlib.pyplot as plt\n",
    "import seaborn as sns\n",
    "import gc\n",
    "from imblearn.over_sampling import SMOTE, SMOTENC, SVMSMOTE, ADASYN, BorderlineSMOTE, RandomOverSampler\n",
    "from sklearn.metrics import *\n",
    "from imblearn.metrics import classification_report_imbalanced\n",
    "import datetime\n",
    "from sklearn.preprocessing import MinMaxScaler, StandardScaler\n",
    "from collections import Counter\n",
    "import configparser\n",
    "import ast\n",
    "import pickle\n",
    "import sys\n",
    "from multiprocessing import Pool, Process\n",
    "import warnings\n",
    "from sklearn.decomposition import PCA, TruncatedSVD\n",
    "from sklearn.manifold import TSNE\n",
    "from sklearn.linear_model import LogisticRegressionCV\n",
    "\n",
    "config = configparser.ConfigParser()\n",
    "\n",
    "config_path = config.read('/home/melgazar9/Trading/TD/Scripts/Trading-Scripts/CL/scripts/CL_10min_TRAIN-MODEL.ini'.format(sys.argv[1]))\n",
    "\n",
    "print('**************** RUNNING', config['NAME']['product'], ' ****************')\n",
    "\n",
    "train_start_date = config['PARAMS']['train_start_date']\n",
    "train_end_date = config['PARAMS']['train_end_date']\n",
    "val_start_date = config['PARAMS']['val_start_date']\n",
    "val_end_date = config['PARAMS']['val_end_date']\n",
    "test_start_date = config['PARAMS']['test_start_date']\n",
    "\n",
    "threshold = float(config['PARAMS']['threshold'])\n",
    "multiplier = float(config['PARAMS']['multiplier'])\n",
    "\n",
    "strong_buy_actual = float(config['PARAMS']['strong_buy_actual'])\n",
    "med_buy_actual = float(config['PARAMS']['med_buy_actual'])\n",
    "no_trade_actual = float(config['PARAMS']['no_trade_actual'])\n",
    "med_sell_actual = float(config['PARAMS']['med_sell_actual'])\n",
    "strong_sell_actual = float(config['PARAMS']['strong_sell_actual'])\n",
    "stop_actual = float(config['PARAMS']['stop_actual'])\n",
    "\n",
    "strong_buy_HL = float(config['PARAMS']['strong_buy_HL'])\n",
    "med_buy_HL = float(config['PARAMS']['med_buy_HL'])\n",
    "no_trade_HL = float(config['PARAMS']['no_trade_HL'])\n",
    "med_sell_HL = float(config['PARAMS']['med_sell_HL'])\n",
    "strong_sell_HL = float(config['PARAMS']['strong_sell_HL'])\n",
    "stop_HL = float(config['PARAMS']['stop_HL'])\n",
    "\n",
    "strong_cap_actual = float(config['PARAMS']['strong_cap_actual'])\n",
    "med_cap_actual = float(config['PARAMS']['med_cap_actual'])\n",
    "strong_cap_HL = float(config['PARAMS']['strong_cap_HL'])\n",
    "med_cap_HL = float(config['PARAMS']['med_cap_actual'])\n",
    "\n",
    "min_prob0 = float(config['PARAMS']['min_prob0'])\n",
    "min_prob1 = float(config['PARAMS']['min_prob1'])\n",
    "min_prob3 = float(config['PARAMS']['min_prob3'])\n",
    "min_prob4 = float(config['PARAMS']['min_prob4'])\n",
    "\n",
    "min_prob_override0 = float(config['PARAMS']['min_prob_override0'])\n",
    "min_prob_override1 = float(config['PARAMS']['min_prob_override1'])\n",
    "min_prob_override3 = float(config['PARAMS']['min_prob_override3'])\n",
    "min_prob_override4 = float(config['PARAMS']['min_prob_override4'])\n",
    "\n",
    "Actual_Move = config['PARAMS']['Actual_Move_Name']\n",
    "Actual_HighMove = config['PARAMS']['Actual_HighMove_Name']\n",
    "Actual_LowMove = config['PARAMS']['Actual_LowMove_Name']\n",
    "\n",
    "round_trip_fee = float(config['PARAMS']['round_trip_fee'])\n",
    "\n",
    "if config['PARAMS']['read_csv'] == 'TRUE':\n",
    "    print('Reading CSV...')\n",
    "    ddf = dd.read_csv(config['PATH']['filename'])\n",
    "elif config['PARAMS']['read_feather'] == 'TRUE':\n",
    "    print('Reading Feather File...')\n",
    "    # df = pd.read_feather(config['PATH']['filename'], use_threads=32)\n",
    "    df = feather.read_dataframe(config['PATH']['filename'])\n",
    "elif config['PARAMS']['read_parquet'] == 'TRUE':\n",
    "    ddf = dd.read_parquet(config['PATH']['filename'])\n",
    "\n",
    "df = ddf.compute()\n",
    "\n",
    "try:\n",
    "    df.set_index('Datetime', inplace=True)\n",
    "except KeyError:\n",
    "    print('Datetime index is already set!')\n",
    "    pass\n",
    "\n",
    "\n",
    "df.index = pd.to_datetime(df.index)\n",
    "df.index = df.index.tz_localize('utc').tz_convert('US/Central')\n",
    "\n",
    "df.dropna(axis=0, inplace=True)\n",
    "\n",
    "df[Actual_Move] = df[['Prev' + Actual_Move.strip('Actual')]].resample(config['NAME']['product'][3:5] + 'min').first().rename(columns={'Prev' + Actual_Move.strip('Actual') : Actual_Move}).shift(-1)\n",
    "df[Actual_HighMove] = df[['Prev' + Actual_HighMove.strip('Actual')]].resample(config['NAME']['product'][3:5] + 'min').first().rename(columns={'Prev' + Actual_HighMove.strip('Actual') : Actual_HighMove}).shift(-1)\n",
    "df[Actual_LowMove] = df[['Prev' + Actual_LowMove.strip('Actual')]].resample(config['NAME']['product'][3:5] + 'min').first().rename(columns={'Prev' + Actual_LowMove.strip('Actual'): Actual_LowMove}).shift(-1)\n",
    "\n",
    "df.head()"
   ]
  },
  {
   "cell_type": "code",
   "execution_count": 6,
   "metadata": {},
   "outputs": [
    {
     "data": {
      "text/plain": [
       "<matplotlib.axes._subplots.AxesSubplot at 0x7fa2b4ddaf60>"
      ]
     },
     "execution_count": 6,
     "metadata": {},
     "output_type": "execute_result"
    },
    {
     "data": {
      "image/png": "[encoded data removed]",
      "text/plain": [
       "<Figure size 864x576 with 1 Axes>"
      ]
     },
     "metadata": {
      "needs_background": "light"
     },
     "output_type": "display_data"
    }
   ],
   "source": [
    "plt.figure(figsize=(12,8))\n",
    "sns.distplot(df['Actual10minMove'].dropna())"
   ]
  },
  {
   "cell_type": "code",
   "execution_count": 10,
   "metadata": {},
   "outputs": [
    {
     "data": {
      "text/html": [
       "<div>\n",
       "<style scoped>\n",
       "    .dataframe tbody tr th:only-of-type {\n",
       "        vertical-align: middle;\n",
       "    }\n",
       "\n",
       "    .dataframe tbody tr th {\n",
       "        vertical-align: top;\n",
       "    }\n",
       "\n",
       "    .dataframe thead th {\n",
       "        text-align: right;\n",
       "    }\n",
       "</style>\n",
       "<table border=\"1\" class=\"dataframe\">\n",
       "  <thead>\n",
       "    <tr style=\"text-align: right;\">\n",
       "      <th></th>\n",
       "      <th>Prev1minMove</th>\n",
       "      <th>Prev1minRange</th>\n",
       "      <th>Prev1minHighMove</th>\n",
       "      <th>Prev1minLowMove</th>\n",
       "      <th>Prev1minVolume</th>\n",
       "      <th>Prev2minMove</th>\n",
       "      <th>Prev2minRange</th>\n",
       "      <th>Prev2minHighMove</th>\n",
       "      <th>Prev2minLowMove</th>\n",
       "      <th>Prev2minVolume</th>\n",
       "      <th>...</th>\n",
       "      <th>Prev5minLowMove_Opinion</th>\n",
       "      <th>Prev10minMove_Opinion</th>\n",
       "      <th>Prev10minHighMove_Opinion</th>\n",
       "      <th>Prev10minLowMove_Opinion</th>\n",
       "      <th>Prev15minMove_Opinion</th>\n",
       "      <th>Prev15minHighMove_Opinion</th>\n",
       "      <th>Prev15minLowMove_Opinion</th>\n",
       "      <th>Actual10minMove</th>\n",
       "      <th>Actual10minHighMove</th>\n",
       "      <th>Actual10minLowMove</th>\n",
       "    </tr>\n",
       "    <tr>\n",
       "      <th>Datetime</th>\n",
       "      <th></th>\n",
       "      <th></th>\n",
       "      <th></th>\n",
       "      <th></th>\n",
       "      <th></th>\n",
       "      <th></th>\n",
       "      <th></th>\n",
       "      <th></th>\n",
       "      <th></th>\n",
       "      <th></th>\n",
       "      <th></th>\n",
       "      <th></th>\n",
       "      <th></th>\n",
       "      <th></th>\n",
       "      <th></th>\n",
       "      <th></th>\n",
       "      <th></th>\n",
       "      <th></th>\n",
       "      <th></th>\n",
       "      <th></th>\n",
       "      <th></th>\n",
       "    </tr>\n",
       "  </thead>\n",
       "  <tbody>\n",
       "    <tr>\n",
       "      <th>2018-06-20 11:48:00-05:00</th>\n",
       "      <td>-0.03</td>\n",
       "      <td>0.07</td>\n",
       "      <td>0.02</td>\n",
       "      <td>-0.05</td>\n",
       "      <td>332.0</td>\n",
       "      <td>-0.02</td>\n",
       "      <td>0.07</td>\n",
       "      <td>0.03</td>\n",
       "      <td>-0.04</td>\n",
       "      <td>721.0</td>\n",
       "      <td>...</td>\n",
       "      <td>0</td>\n",
       "      <td>0</td>\n",
       "      <td>0</td>\n",
       "      <td>0</td>\n",
       "      <td>0</td>\n",
       "      <td>0</td>\n",
       "      <td>0</td>\n",
       "      <td>NaN</td>\n",
       "      <td>NaN</td>\n",
       "      <td>NaN</td>\n",
       "    </tr>\n",
       "    <tr>\n",
       "      <th>2015-10-08 12:49:00-05:00</th>\n",
       "      <td>0.02</td>\n",
       "      <td>0.05</td>\n",
       "      <td>0.04</td>\n",
       "      <td>-0.01</td>\n",
       "      <td>262.0</td>\n",
       "      <td>-0.06</td>\n",
       "      <td>0.12</td>\n",
       "      <td>0.02</td>\n",
       "      <td>-0.10</td>\n",
       "      <td>862.0</td>\n",
       "      <td>...</td>\n",
       "      <td>0</td>\n",
       "      <td>0</td>\n",
       "      <td>0</td>\n",
       "      <td>0</td>\n",
       "      <td>0</td>\n",
       "      <td>0</td>\n",
       "      <td>0</td>\n",
       "      <td>NaN</td>\n",
       "      <td>NaN</td>\n",
       "      <td>NaN</td>\n",
       "    </tr>\n",
       "    <tr>\n",
       "      <th>2017-05-19 09:09:00-05:00</th>\n",
       "      <td>-0.02</td>\n",
       "      <td>0.02</td>\n",
       "      <td>0.00</td>\n",
       "      <td>-0.02</td>\n",
       "      <td>779.0</td>\n",
       "      <td>-0.03</td>\n",
       "      <td>0.07</td>\n",
       "      <td>0.01</td>\n",
       "      <td>-0.06</td>\n",
       "      <td>2087.0</td>\n",
       "      <td>...</td>\n",
       "      <td>0</td>\n",
       "      <td>0</td>\n",
       "      <td>0</td>\n",
       "      <td>0</td>\n",
       "      <td>0</td>\n",
       "      <td>0</td>\n",
       "      <td>0</td>\n",
       "      <td>NaN</td>\n",
       "      <td>NaN</td>\n",
       "      <td>NaN</td>\n",
       "    </tr>\n",
       "    <tr>\n",
       "      <th>2015-11-10 14:52:00-06:00</th>\n",
       "      <td>-0.01</td>\n",
       "      <td>0.01</td>\n",
       "      <td>0.00</td>\n",
       "      <td>-0.01</td>\n",
       "      <td>16.0</td>\n",
       "      <td>-0.01</td>\n",
       "      <td>0.02</td>\n",
       "      <td>0.01</td>\n",
       "      <td>-0.01</td>\n",
       "      <td>59.0</td>\n",
       "      <td>...</td>\n",
       "      <td>0</td>\n",
       "      <td>0</td>\n",
       "      <td>0</td>\n",
       "      <td>0</td>\n",
       "      <td>0</td>\n",
       "      <td>0</td>\n",
       "      <td>0</td>\n",
       "      <td>NaN</td>\n",
       "      <td>NaN</td>\n",
       "      <td>NaN</td>\n",
       "    </tr>\n",
       "    <tr>\n",
       "      <th>2016-12-30 06:12:00-06:00</th>\n",
       "      <td>-0.03</td>\n",
       "      <td>0.04</td>\n",
       "      <td>0.01</td>\n",
       "      <td>-0.03</td>\n",
       "      <td>229.0</td>\n",
       "      <td>-0.04</td>\n",
       "      <td>0.05</td>\n",
       "      <td>0.01</td>\n",
       "      <td>-0.04</td>\n",
       "      <td>446.0</td>\n",
       "      <td>...</td>\n",
       "      <td>0</td>\n",
       "      <td>0</td>\n",
       "      <td>0</td>\n",
       "      <td>0</td>\n",
       "      <td>0</td>\n",
       "      <td>0</td>\n",
       "      <td>0</td>\n",
       "      <td>NaN</td>\n",
       "      <td>NaN</td>\n",
       "      <td>NaN</td>\n",
       "    </tr>\n",
       "  </tbody>\n",
       "</table>\n",
       "<p>5 rows × 362 columns</p>\n",
       "</div>"
      ],
      "text/plain": [
       "                           Prev1minMove  Prev1minRange  Prev1minHighMove  \\\n",
       "Datetime                                                                   \n",
       "2018-06-20 11:48:00-05:00         -0.03           0.07              0.02   \n",
       "2015-10-08 12:49:00-05:00          0.02           0.05              0.04   \n",
       "2017-05-19 09:09:00-05:00         -0.02           0.02              0.00   \n",
       "2015-11-10 14:52:00-06:00         -0.01           0.01              0.00   \n",
       "2016-12-30 06:12:00-06:00         -0.03           0.04              0.01   \n",
       "\n",
       "                           Prev1minLowMove  Prev1minVolume  Prev2minMove  \\\n",
       "Datetime                                                                   \n",
       "2018-06-20 11:48:00-05:00            -0.05           332.0         -0.02   \n",
       "2015-10-08 12:49:00-05:00            -0.01           262.0         -0.06   \n",
       "2017-05-19 09:09:00-05:00            -0.02           779.0         -0.03   \n",
       "2015-11-10 14:52:00-06:00            -0.01            16.0         -0.01   \n",
       "2016-12-30 06:12:00-06:00            -0.03           229.0         -0.04   \n",
       "\n",
       "                           Prev2minRange  Prev2minHighMove  Prev2minLowMove  \\\n",
       "Datetime                                                                      \n",
       "2018-06-20 11:48:00-05:00           0.07              0.03            -0.04   \n",
       "2015-10-08 12:49:00-05:00           0.12              0.02            -0.10   \n",
       "2017-05-19 09:09:00-05:00           0.07              0.01            -0.06   \n",
       "2015-11-10 14:52:00-06:00           0.02              0.01            -0.01   \n",
       "2016-12-30 06:12:00-06:00           0.05              0.01            -0.04   \n",
       "\n",
       "                           Prev2minVolume  ...  Prev5minLowMove_Opinion  \\\n",
       "Datetime                                   ...                            \n",
       "2018-06-20 11:48:00-05:00           721.0  ...                        0   \n",
       "2015-10-08 12:49:00-05:00           862.0  ...                        0   \n",
       "2017-05-19 09:09:00-05:00          2087.0  ...                        0   \n",
       "2015-11-10 14:52:00-06:00            59.0  ...                        0   \n",
       "2016-12-30 06:12:00-06:00           446.0  ...                        0   \n",
       "\n",
       "                           Prev10minMove_Opinion  Prev10minHighMove_Opinion  \\\n",
       "Datetime                                                                      \n",
       "2018-06-20 11:48:00-05:00                      0                          0   \n",
       "2015-10-08 12:49:00-05:00                      0                          0   \n",
       "2017-05-19 09:09:00-05:00                      0                          0   \n",
       "2015-11-10 14:52:00-06:00                      0                          0   \n",
       "2016-12-30 06:12:00-06:00                      0                          0   \n",
       "\n",
       "                           Prev10minLowMove_Opinion  Prev15minMove_Opinion  \\\n",
       "Datetime                                                                     \n",
       "2018-06-20 11:48:00-05:00                         0                      0   \n",
       "2015-10-08 12:49:00-05:00                         0                      0   \n",
       "2017-05-19 09:09:00-05:00                         0                      0   \n",
       "2015-11-10 14:52:00-06:00                         0                      0   \n",
       "2016-12-30 06:12:00-06:00                         0                      0   \n",
       "\n",
       "                           Prev15minHighMove_Opinion  \\\n",
       "Datetime                                               \n",
       "2018-06-20 11:48:00-05:00                          0   \n",
       "2015-10-08 12:49:00-05:00                          0   \n",
       "2017-05-19 09:09:00-05:00                          0   \n",
       "2015-11-10 14:52:00-06:00                          0   \n",
       "2016-12-30 06:12:00-06:00                          0   \n",
       "\n",
       "                           Prev15minLowMove_Opinion  Actual10minMove  \\\n",
       "Datetime                                                               \n",
       "2018-06-20 11:48:00-05:00                         0              NaN   \n",
       "2015-10-08 12:49:00-05:00                         0              NaN   \n",
       "2017-05-19 09:09:00-05:00                         0              NaN   \n",
       "2015-11-10 14:52:00-06:00                         0              NaN   \n",
       "2016-12-30 06:12:00-06:00                         0              NaN   \n",
       "\n",
       "                           Actual10minHighMove  Actual10minLowMove  \n",
       "Datetime                                                            \n",
       "2018-06-20 11:48:00-05:00                  NaN                 NaN  \n",
       "2015-10-08 12:49:00-05:00                  NaN                 NaN  \n",
       "2017-05-19 09:09:00-05:00                  NaN                 NaN  \n",
       "2015-11-10 14:52:00-06:00                  NaN                 NaN  \n",
       "2016-12-30 06:12:00-06:00                  NaN                 NaN  \n",
       "\n",
       "[5 rows x 362 columns]"
      ]
     },
     "execution_count": 10,
     "metadata": {},
     "output_type": "execute_result"
    }
   ],
   "source": [
    "samp = df.sample(n=5000)\n",
    "samp.head()"
   ]
  },
  {
   "cell_type": "code",
   "execution_count": 11,
   "metadata": {},
   "outputs": [
    {
     "data": {
      "text/plain": [
       "<matplotlib.axes._subplots.AxesSubplot at 0x7fa2642973c8>"
      ]
     },
     "execution_count": 11,
     "metadata": {},
     "output_type": "execute_result"
    },
    {
     "data": {
      "image/png": "[encoded data removed]",
      "text/plain": [
       "<Figure size 864x576 with 1 Axes>"
      ]
     },
     "metadata": {
      "needs_background": "light"
     },
     "output_type": "display_data"
    }
   ],
   "source": [
    "plt.figure(figsize=(12,8))\n",
    "sns.distplot(samp['Actual10minMove'].dropna())"
   ]
  },
  {
   "cell_type": "code",
   "execution_count": 20,
   "metadata": {},
   "outputs": [
    {
     "data": {
      "text/plain": [
       "(-0.00048267668443202725,\n",
       " 0.0028830645161289957,\n",
       " 0.09600879930864184,\n",
       " 0.10098481951865855,\n",
       " 2.356728900422424)"
      ]
     },
     "execution_count": 20,
     "metadata": {},
     "output_type": "execute_result"
    }
   ],
   "source": [
    "mu = df['Actual10minMove'].mean()\n",
    "sigma = df['Actual10minMove'].std()\n",
    "x_bar = samp['Actual10minMove'].mean()\n",
    "\n",
    "s = samp['Actual10minMove'].std()\n",
    "\n",
    "Z = (x_bar - mu) / (s/np.sqrt(len(samp)))\n",
    "mu, x_bar, sigma, s, Z"
   ]
  },
  {
   "cell_type": "code",
   "execution_count": 25,
   "metadata": {},
   "outputs": [
    {
     "data": {
      "text/plain": [
       "0.9907816494804071"
      ]
     },
     "execution_count": 25,
     "metadata": {},
     "output_type": "execute_result"
    }
   ],
   "source": [
    "norm.cdf(Z)"
   ]
  },
  {
   "cell_type": "code",
   "execution_count": 28,
   "metadata": {},
   "outputs": [
    {
     "data": {
      "text/plain": [
       "0.009218350519592907"
      ]
     },
     "execution_count": 28,
     "metadata": {},
     "output_type": "execute_result"
    }
   ],
   "source": [
    "norm.sf(Z)"
   ]
  },
  {
   "cell_type": "code",
   "execution_count": 27,
   "metadata": {},
   "outputs": [
    {
     "data": {
      "text/plain": [
       "1.0"
      ]
     },
     "execution_count": 27,
     "metadata": {},
     "output_type": "execute_result"
    }
   ],
   "source": [
    "norm.cdf(Z) + norm.sf(Z)"
   ]
  },
  {
   "cell_type": "code",
   "execution_count": 40,
   "metadata": {},
   "outputs": [
    {
     "data": {
      "text/plain": [
       "(0.7789615510370191, 0.43600236418417215)"
      ]
     },
     "execution_count": 40,
     "metadata": {},
     "output_type": "execute_result"
    }
   ],
   "source": [
    "from statsmodels.stats.weightstats import ztest\n",
    "\n",
    "ztest(samp['Actual10minMove'].dropna(), df['Actual10minMove'].dropna(), value=0, alternative='two-sided')"
   ]
  },
  {
   "cell_type": "code",
   "execution_count": 47,
   "metadata": {},
   "outputs": [
    {
     "data": {
      "text/plain": [
       "(-0.00048267668443202714, 0.006248805716690019)"
      ]
     },
     "execution_count": 47,
     "metadata": {},
     "output_type": "execute_result"
    }
   ],
   "source": [
    "(x_bar - Z*(s/np.sqrt(len(samp))), x_bar + Z*(s/np.sqrt(len(samp))))"
   ]
  },
  {
   "cell_type": "code",
   "execution_count": 55,
   "metadata": {},
   "outputs": [
    {
     "data": {
      "text/plain": [
       "<matplotlib.axes._subplots.AxesSubplot at 0x7fa1c3b65ba8>"
      ]
     },
     "execution_count": 55,
     "metadata": {},
     "output_type": "execute_result"
    },
    {
     "data": {
      "image/png": "[encoded data removed]",
      "text/plain": [
       "<Figure size 432x288 with 1 Axes>"
      ]
     },
     "metadata": {
      "needs_background": "light"
     },
     "output_type": "display_data"
    }
   ],
   "source": [
    "sns.distplot(df['Actual10minMove'].sample(n=10000).dropna())"
   ]
  },
  {
   "cell_type": "code",
   "execution_count": 56,
   "metadata": {},
   "outputs": [
    {
     "data": {
      "text/plain": [
       "<matplotlib.axes._subplots.AxesSubplot at 0x7fa1c3ce49e8>"
      ]
     },
     "execution_count": 56,
     "metadata": {},
     "output_type": "execute_result"
    },
    {
     "data": {
      "image/png": "[encoded data removed]",
      "text/plain": [
       "<Figure size 432x288 with 1 Axes>"
      ]
     },
     "metadata": {
      "needs_background": "light"
     },
     "output_type": "display_data"
    }
   ],
   "source": [
    "sns.distplot(df['Actual10minMove'].sample(n=10000).dropna())"
   ]
  },
  {
   "cell_type": "code",
   "execution_count": 57,
   "metadata": {},
   "outputs": [
    {
     "data": {
      "text/plain": [
       "<matplotlib.axes._subplots.AxesSubplot at 0x7fa1c3c117b8>"
      ]
     },
     "execution_count": 57,
     "metadata": {},
     "output_type": "execute_result"
    },
    {
     "data": {
      "image/png": "[encoded data removed]",
      "text/plain": [
       "<Figure size 432x288 with 1 Axes>"
      ]
     },
     "metadata": {
      "needs_background": "light"
     },
     "output_type": "display_data"
    }
   ],
   "source": [
    "sns.distplot(df['Actual10minMove'].sample(n=10000).dropna())"
   ]
  },
  {
   "cell_type": "code",
   "execution_count": 58,
   "metadata": {},
   "outputs": [
    {
     "data": {
      "text/plain": [
       "<matplotlib.axes._subplots.AxesSubplot at 0x7fa1c3b656a0>"
      ]
     },
     "execution_count": 58,
     "metadata": {},
     "output_type": "execute_result"
    },
    {
     "data": {
      "image/png": "[encoded data removed]",
      "text/plain": [
       "<Figure size 432x288 with 1 Axes>"
      ]
     },
     "metadata": {
      "needs_background": "light"
     },
     "output_type": "display_data"
    }
   ],
   "source": [
    "sns.distplot(df['Actual10minMove'].sample(n=10000).dropna())"
   ]
  },
  {
   "cell_type": "code",
   "execution_count": 59,
   "metadata": {},
   "outputs": [
    {
     "data": {
      "text/plain": [
       "<matplotlib.axes._subplots.AxesSubplot at 0x7fa1c3a83a58>"
      ]
     },
     "execution_count": 59,
     "metadata": {},
     "output_type": "execute_result"
    },
    {
     "data": {
      "image/png": "[encoded data removed]",
      "text/plain": [
       "<Figure size 432x288 with 1 Axes>"
      ]
     },
     "metadata": {
      "needs_background": "light"
     },
     "output_type": "display_data"
    }
   ],
   "source": [
    "sns.distplot(df['Actual10minMove'].sample(n=10000).dropna())"
   ]
  },
  {
   "cell_type": "code",
   "execution_count": null,
   "metadata": {},
   "outputs": [],
   "source": []
  },
  {
   "cell_type": "code",
   "execution_count": null,
   "metadata": {},
   "outputs": [],
   "source": []
  },
  {
   "cell_type": "code",
   "execution_count": null,
   "metadata": {},
   "outputs": [],
   "source": []
  }
 ],
 "metadata": {
  "kernelspec": {
   "display_name": "Python 3",
   "language": "python",
   "name": "python3"
  },
  "language_info": {
   "codemirror_mode": {
    "name": "ipython",
    "version": 3
   },
   "file_extension": ".py",
   "mimetype": "text/x-python",
   "name": "python",
   "nbconvert_exporter": "python",
   "pygments_lexer": "ipython3",
   "version": "3.6.7"
  }
 },
 "nbformat": 4,
 "nbformat_minor": 2
}
