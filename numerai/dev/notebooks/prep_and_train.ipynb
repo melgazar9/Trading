{
 "cells": [
  {
   "cell_type": "code",
   "execution_count": 1,
   "metadata": {},
   "outputs": [],
   "source": [
    "#####################\n",
    "###### Imports ######\n",
    "#####################\n",
    "\n",
    "import os\n",
    "from configparser import ConfigParser\n",
    "import sys\n",
    "import re\n",
    "if not os.getcwd().endswith('trading'): os.chdir('../../..') # local machine\n",
    "assert os.getcwd().endswith('trading'), 'Wrong path!'\n",
    "import numerapi\n",
    "import plotly.express as px\n",
    "\n",
    "\n",
    "os.environ['NUMEXPR_MAX_THREADS'] = '32'\n",
    "os.environ['NUMEXPR_NUM_THREADS'] = '16'\n",
    "\n",
    "sys.path.append(os.getcwd())\n",
    "from dev.scripts.ML_utils import * # run if on local machine\n",
    "from dev.scripts.trading_utils import * # run if on local machine\n",
    "from numerai.dev.scripts.numerai_utils import *\n",
    "from numerai.dev.configs.prep_and_train_cfg import *\n",
    "\n",
    "pd.set_option('display.float_format', lambda x: '%.5f' % x)\n",
    "config = ConfigParser()\n",
    "config.read('numerai/numerai_keys.ini')is_f\n",
    "\n",
    "# Connect to the Numerai API\n",
    "napi = numerapi.SignalsAPI(config['KEYS']['NUMERAI_PUBLIC_KEY'], config['KEYS']['NUMERAI_SECRET_KEY'])\n",
    "\n",
    "### Load in the data created from build_numerai_dataset.py ###\n",
    "\n",
    "if LOAD_DATA_FILEPATH.endswith('feather'):\n",
    "    df_numerai = pd.read_feather(LOAD_DATA_FILEPATH)\n",
    "elif LOAD_DATA_FILEPATH.endswith('pq') or LOAD_DATA_FILEPATH.endswith('parquet'):\n",
    "    df_numerai = pd.read_parquet(LOAD_DATA_FILEPATH)\n",
    "elif LOAD_DATA_FILEPATH.endswith('csv'):\n",
    "    df_numerai = pd.read_csv(LOAD_DATA_FILEPATH)"
   ]
  },
  {
   "cell_type": "code",
   "execution_count": 2,
   "metadata": {},
   "outputs": [],
   "source": [
    "### dropnas ###\n",
    "\n",
    "if DROP_NA_TARGETS:\n",
    "    df_numerai.dropna(subset=[TARGET], how='any', inplace=True)\n",
    "    df_numerai.reset_index(inplace=True)\n",
    "\n",
    "\n",
    "### Timeseries Split ###\n",
    "\n",
    "df_numerai = timeseries_split(df_numerai, **TIMESERIES_SPLIT_PARAMS)\n",
    "\n",
    "if START_DATE:\n",
    "    df_numerai = df_numerai[df_numerai[DATE_COL] >= START_DATE]\n",
    "\n",
    "\n",
    "### train test split ###\n",
    "\n",
    "input_features = eval(INPUT_FEATURES_STRING)\n",
    "preserve_vars = eval(PRESERVE_VARS_STRING)\n",
    "\n",
    "X_train, y_train = df_numerai[df_numerai[SPLIT_COLNAME].str.startswith('train')][input_features], df_numerai[df_numerai[SPLIT_COLNAME].str.startswith('train')][TARGET]\n",
    "X_val, y_val = df_numerai[df_numerai[SPLIT_COLNAME].str.startswith('val')][input_features], df_numerai[df_numerai[SPLIT_COLNAME].str.startswith('val')][TARGET]\n",
    "X_test, y_test = df_numerai[df_numerai[SPLIT_COLNAME].str.startswith('test')][input_features], df_numerai[df_numerai[SPLIT_COLNAME].str.startswith('test')][TARGET]"
   ]
  },
  {
   "cell_type": "code",
   "execution_count": 3,
   "metadata": {},
   "outputs": [
    {
     "name": "stdout",
     "output_type": "stream",
     "text": [
      "Overlap between numeric and oh_features: ['prev2_target_HL5', 'prev5_target', 'prev1_target_HL5', 'prev4_target_HL3', 'prev1_target_HL3', 'prev4_target', 'prev2_target_HL3', 'prev5_target_HL3', 'prev3_target_HL3', 'prev1_target', 'prev5_target_HL5', 'prev3_target', 'prev4_target_HL5', 'prev2_target', 'prev3_target_HL5']\n",
      "Overlap between numeric and hc_features: []\n",
      "Overlap between numeric oh_features and hc_features: []\n",
      "Overlap between oh_features and hc_features will be moved to oh_features\n",
      "\n",
      "numeric_features:['high_move_pct_1d_diff', 'high_minus_close_1d_diff_pct_change', 'high_minus_prev_low_1d_pct_change', 'prev_close_minus_low_1d_pct_change', 'move_1d_iar', 'high_move_1d', 'open_minus_prev_close_1d_diff_pct_change', 'prev_close_pct_chg_1d_diff', 'prev4_volume_1d', 'low_move_1d_diff', 'high_move_pct_1d_diff_pct_change', 'prev_close_minus_low_1d', 'open_minus_prev_close_1d_pct_change', 'prev1_target_HL5_ewm_mean', 'prev1_target_rolling_mean', 'prev4_move_1d', 'move_1d_diff_pct_change', 'high_minus_prev_high_1d_diff_pct_change', 'low_minus_prev_high_1d_diff', 'low_move_pct_1d_diff_pct_change', 'prev_close_pct_chg_1d', 'high_minus_close_1d_pct_change', 'high_move_pct_1d', 'high_move_1d_diff', 'move_1d_diff', 'open_minus_prev_close_1d', 'high_minus_prev_close_1d_diff_pct_change', 'low_minus_close_pct_1d_diff', 'prev1_move_1d', 'prev1_target_HL5_rolling_mean', 'high_move_pct_1d_pct_change', 'low_minus_prev_high_1d_diff_pct_change', 'high_minus_prev_high_1d_pct_change', 'move_1d', 'low_minus_prev_low_1d_diff', 'move_pct_1d_pct_change', 'move_pct_1d_diff_pct_change', 'high_minus_close_pct_1d_diff', 'low_minus_close_pct_1d_pct_change', 'high_minus_close_pct_1d_diff_pct_change', 'low_move_1d_diff_pct_change', 'low_minus_close_pct_1d_diff_pct_change', 'range_1d', 'prev3_adj_close_1d', 'prev_close_minus_low_1d_diff_pct_change', 'prev3_move_1d', 'prev2_move_1d', 'prev1_volume_1d', 'prev_close_minus_low_1d_diff', 'prev5_move_1d', 'low_move_1d', 'move_pct_1d', 'prev_close_pct_chg_1d_diff_pct_change', 'high_minus_close_1d_diff', 'high_minus_prev_close_1d_pct_change', 'high_move_1d_iar', 'high_minus_prev_low_1d', 'low_minus_close_pct_1d', 'high_minus_prev_high_1d_diff', 'low_minus_prev_low_1d_diff_pct_change', 'move_pct_1d_diff', 'prev5_adj_close_1d', 'low_move_pct_1d', 'high_minus_close_1d', 'prev1_adj_close_1d', 'low_minus_close_1d', 'open_minus_prev_close_1d_diff', 'prev3_volume_1d', 'high_minus_prev_close_1d_diff', 'prev2_volume_1d', 'low_minus_prev_low_1d_pct_change', 'low_move_1d_iar', 'prev5_volume_1d', 'low_minus_prev_high_1d_pct_change', 'high_minus_prev_close_1d', 'low_minus_close_1d_diff_pct_change', 'low_move_pct_1d_pct_change', 'low_minus_prev_low_1d', 'prev_close_pct_chg_1d_pct_change', 'low_move_1d_pct_change', 'low_move_pct_1d_diff', 'high_minus_prev_high_1d', 'high_minus_prev_low_1d_diff_pct_change', 'prev2_adj_close_1d', 'high_move_1d_diff_pct_change', 'high_minus_prev_low_1d_diff', 'move_1d_pct_change', 'low_minus_close_1d_diff', 'high_minus_close_pct_1d_pct_change', 'prev1_target_ewm_mean', 'low_minus_prev_high_1d', 'high_move_1d_pct_change', 'prev4_adj_close_1d', 'low_minus_close_1d_pct_change', 'high_minus_close_pct_1d']\n",
      "\n",
      "hc_features:[]\n",
      "\n",
      "oh_features:['prev2_target_HL5', 'prev5_target', 'prev1_target_HL5', 'prev4_target_HL3', 'prev1_target_HL3', 'prev4_target', 'prev2_target_HL3', 'prev5_target_HL3', 'prev3_target_HL3', 'prev5_target_HL5', 'prev1_target', 'prev3_target', 'prev4_target_HL5', 'prev2_target', 'prev3_target_HL5']\n"
     ]
    }
   ],
   "source": [
    "### Preprocessing ###\n",
    "\n",
    "# df_train = df_numerai[list(set(input_features + preserve_vars + [TARGET]))]\n",
    "\n",
    "PREPROCESS_FEATURES_PARAMS['preserve_vars'] = preserve_vars\n",
    "feature_transformer = PreprocessFeatures(**PREPROCESS_FEATURES_PARAMS).fit(X_train, y_train)"
   ]
  },
  {
   "cell_type": "code",
   "execution_count": 68,
   "metadata": {},
   "outputs": [
    {
     "data": {
      "text/plain": [
       "'/media/melgazar9/HDD_10TB/trading/objects/feature_transformers/feature_transformer_2021-04-24_13_46_00'"
      ]
     },
     "execution_count": 68,
     "metadata": {},
     "output_type": "execute_result"
    }
   ],
   "source": [
    "FEATURE_TRANSFORMER_OUTPATH + 'feature_transformer_' + str(datetime.datetime.today().replace(second=0, microsecond=0)).replace(' ', '_').replace(':', '_')"
   ]
  },
  {
   "cell_type": "code",
   "execution_count": 73,
   "metadata": {},
   "outputs": [
    {
     "data": {
      "text/plain": [
       "True"
      ]
     },
     "execution_count": 73,
     "metadata": {},
     "output_type": "execute_result"
    }
   ],
   "source": [
    "FEATURE_TRANSFORMER_OUTPATH == '/media/melgazar9/HDD_10TB/trading/objects/feature_transformers/'"
   ]
  },
  {
   "cell_type": "code",
   "execution_count": 75,
   "metadata": {},
   "outputs": [],
   "source": [
    "if SAVE_FEATURE_TRANSFORMER:\n",
    "    dill.dump(feature_transformer, open(FEATURE_TRANSFORMER_OUTPATH + 'feature_transformer_' + str(datetime.datetime.today().replace(second=0, microsecond=0)).replace(' ', '_').replace(':', '_') + '.pkl', 'wb'))"
   ]
  },
  {
   "cell_type": "code",
   "execution_count": 4,
   "metadata": {
    "scrolled": true
   },
   "outputs": [
    {
     "name": "stdout",
     "output_type": "stream",
     "text": [
      "\n",
      "\n",
      "---------\n",
      "Running get_feature_names\n",
      "---------\n",
      "\n",
      "\n",
      "\n",
      " 0 . Transformer/Pipeline:  hc_pipeline , Pipeline \n",
      "\n",
      "\tn_orig_feature_names: 0\n",
      "transformer 0 is not fitted!\n",
      "\n",
      "\n",
      " 1 . Transformer/Pipeline:  numeric_pipeline , Pipeline \n",
      "\n",
      "\tn_orig_feature_names: 95\n",
      "\tn_new_features: 190\n",
      "\tnew_features:\n",
      " ['high_move_pct_1d_diff', 'high_minus_close_1d_diff_pct_change', 'high_minus_prev_low_1d_pct_change', 'prev_close_minus_low_1d_pct_change', 'move_1d_iar', 'high_move_1d', 'open_minus_prev_close_1d_diff_pct_change', 'prev_close_pct_chg_1d_diff', 'prev4_volume_1d', 'low_move_1d_diff', 'high_move_pct_1d_diff_pct_change', 'prev_close_minus_low_1d', 'open_minus_prev_close_1d_pct_change', 'prev1_target_HL5_ewm_mean', 'prev1_target_rolling_mean', 'prev4_move_1d', 'move_1d_diff_pct_change', 'high_minus_prev_high_1d_diff_pct_change', 'low_minus_prev_high_1d_diff', 'low_move_pct_1d_diff_pct_change', 'prev_close_pct_chg_1d', 'high_minus_close_1d_pct_change', 'high_move_pct_1d', 'high_move_1d_diff', 'move_1d_diff', 'open_minus_prev_close_1d', 'high_minus_prev_close_1d_diff_pct_change', 'low_minus_close_pct_1d_diff', 'prev1_move_1d', 'prev1_target_HL5_rolling_mean', 'high_move_pct_1d_pct_change', 'low_minus_prev_high_1d_diff_pct_change', 'high_minus_prev_high_1d_pct_change', 'move_1d', 'low_minus_prev_low_1d_diff', 'move_pct_1d_pct_change', 'move_pct_1d_diff_pct_change', 'high_minus_close_pct_1d_diff', 'low_minus_close_pct_1d_pct_change', 'high_minus_close_pct_1d_diff_pct_change', 'low_move_1d_diff_pct_change', 'low_minus_close_pct_1d_diff_pct_change', 'range_1d', 'prev3_adj_close_1d', 'prev_close_minus_low_1d_diff_pct_change', 'prev3_move_1d', 'prev2_move_1d', 'prev1_volume_1d', 'prev_close_minus_low_1d_diff', 'prev5_move_1d', 'low_move_1d', 'move_pct_1d', 'prev_close_pct_chg_1d_diff_pct_change', 'high_minus_close_1d_diff', 'high_minus_prev_close_1d_pct_change', 'high_move_1d_iar', 'high_minus_prev_low_1d', 'low_minus_close_pct_1d', 'high_minus_prev_high_1d_diff', 'low_minus_prev_low_1d_diff_pct_change', 'move_pct_1d_diff', 'prev5_adj_close_1d', 'low_move_pct_1d', 'high_minus_close_1d', 'prev1_adj_close_1d', 'low_minus_close_1d', 'open_minus_prev_close_1d_diff', 'prev3_volume_1d', 'high_minus_prev_close_1d_diff', 'prev2_volume_1d', 'low_minus_prev_low_1d_pct_change', 'low_move_1d_iar', 'prev5_volume_1d', 'low_minus_prev_high_1d_pct_change', 'high_minus_prev_close_1d', 'low_minus_close_1d_diff_pct_change', 'low_move_pct_1d_pct_change', 'low_minus_prev_low_1d', 'prev_close_pct_chg_1d_pct_change', 'low_move_1d_pct_change', 'low_move_pct_1d_diff', 'high_minus_prev_high_1d', 'high_minus_prev_low_1d_diff_pct_change', 'prev2_adj_close_1d', 'high_move_1d_diff_pct_change', 'high_minus_prev_low_1d_diff', 'move_1d_pct_change', 'low_minus_close_1d_diff', 'high_minus_close_pct_1d_pct_change', 'prev1_target_ewm_mean', 'low_minus_prev_high_1d', 'high_move_1d_pct_change', 'prev4_adj_close_1d', 'low_minus_close_1d_pct_change', 'high_minus_close_pct_1d', 'high_move_pct_1d_diff_missing_flag', 'high_minus_close_1d_diff_pct_change_missing_flag', 'high_minus_prev_low_1d_pct_change_missing_flag', 'prev_close_minus_low_1d_pct_change_missing_flag', 'move_1d_iar_missing_flag', 'high_move_1d_missing_flag', 'open_minus_prev_close_1d_diff_pct_change_missing_flag', 'prev_close_pct_chg_1d_diff_missing_flag', 'prev4_volume_1d_missing_flag', 'low_move_1d_diff_missing_flag', 'high_move_pct_1d_diff_pct_change_missing_flag', 'prev_close_minus_low_1d_missing_flag', 'open_minus_prev_close_1d_pct_change_missing_flag', 'prev1_target_HL5_ewm_mean_missing_flag', 'prev1_target_rolling_mean_missing_flag', 'prev4_move_1d_missing_flag', 'move_1d_diff_pct_change_missing_flag', 'high_minus_prev_high_1d_diff_pct_change_missing_flag', 'low_minus_prev_high_1d_diff_missing_flag', 'low_move_pct_1d_diff_pct_change_missing_flag', 'prev_close_pct_chg_1d_missing_flag', 'high_minus_close_1d_pct_change_missing_flag', 'high_move_pct_1d_missing_flag', 'high_move_1d_diff_missing_flag', 'move_1d_diff_missing_flag', 'open_minus_prev_close_1d_missing_flag', 'high_minus_prev_close_1d_diff_pct_change_missing_flag', 'low_minus_close_pct_1d_diff_missing_flag', 'prev1_move_1d_missing_flag', 'prev1_target_HL5_rolling_mean_missing_flag', 'high_move_pct_1d_pct_change_missing_flag', 'low_minus_prev_high_1d_diff_pct_change_missing_flag', 'high_minus_prev_high_1d_pct_change_missing_flag', 'move_1d_missing_flag', 'low_minus_prev_low_1d_diff_missing_flag', 'move_pct_1d_pct_change_missing_flag', 'move_pct_1d_diff_pct_change_missing_flag', 'high_minus_close_pct_1d_diff_missing_flag', 'low_minus_close_pct_1d_pct_change_missing_flag', 'high_minus_close_pct_1d_diff_pct_change_missing_flag', 'low_move_1d_diff_pct_change_missing_flag', 'low_minus_close_pct_1d_diff_pct_change_missing_flag', 'range_1d_missing_flag', 'prev3_adj_close_1d_missing_flag', 'prev_close_minus_low_1d_diff_pct_change_missing_flag', 'prev3_move_1d_missing_flag', 'prev2_move_1d_missing_flag', 'prev1_volume_1d_missing_flag', 'prev_close_minus_low_1d_diff_missing_flag', 'prev5_move_1d_missing_flag', 'low_move_1d_missing_flag', 'move_pct_1d_missing_flag', 'prev_close_pct_chg_1d_diff_pct_change_missing_flag', 'high_minus_close_1d_diff_missing_flag', 'high_minus_prev_close_1d_pct_change_missing_flag', 'high_move_1d_iar_missing_flag', 'high_minus_prev_low_1d_missing_flag', 'low_minus_close_pct_1d_missing_flag', 'high_minus_prev_high_1d_diff_missing_flag', 'low_minus_prev_low_1d_diff_pct_change_missing_flag', 'move_pct_1d_diff_missing_flag', 'prev5_adj_close_1d_missing_flag', 'low_move_pct_1d_missing_flag', 'high_minus_close_1d_missing_flag', 'prev1_adj_close_1d_missing_flag', 'low_minus_close_1d_missing_flag', 'open_minus_prev_close_1d_diff_missing_flag', 'prev3_volume_1d_missing_flag', 'high_minus_prev_close_1d_diff_missing_flag', 'prev2_volume_1d_missing_flag', 'low_minus_prev_low_1d_pct_change_missing_flag', 'low_move_1d_iar_missing_flag', 'prev5_volume_1d_missing_flag', 'low_minus_prev_high_1d_pct_change_missing_flag', 'high_minus_prev_close_1d_missing_flag', 'low_minus_close_1d_diff_pct_change_missing_flag', 'low_move_pct_1d_pct_change_missing_flag', 'low_minus_prev_low_1d_missing_flag', 'prev_close_pct_chg_1d_pct_change_missing_flag', 'low_move_1d_pct_change_missing_flag', 'low_move_pct_1d_diff_missing_flag', 'high_minus_prev_high_1d_missing_flag', 'high_minus_prev_low_1d_diff_pct_change_missing_flag', 'prev2_adj_close_1d_missing_flag', 'high_move_1d_diff_pct_change_missing_flag', 'high_minus_prev_low_1d_diff_missing_flag', 'move_1d_pct_change_missing_flag', 'low_minus_close_1d_diff_missing_flag', 'high_minus_close_pct_1d_pct_change_missing_flag', 'prev1_target_ewm_mean_missing_flag', 'low_minus_prev_high_1d_missing_flag', 'high_move_1d_pct_change_missing_flag', 'prev4_adj_close_1d_missing_flag', 'low_minus_close_1d_pct_change_missing_flag', 'high_minus_close_pct_1d_missing_flag']\n",
      "\n",
      "\n",
      " 2 . Transformer/Pipeline:  oh_encoder , Pipeline \n",
      "\n",
      "\tn_orig_feature_names: 15\n",
      "\tn_new_features: 80\n",
      "\tnew_features:\n",
      " ['prev2_target_HL5_0.0', 'prev2_target_HL5_1.0', 'prev2_target_HL5_2.0', 'prev2_target_HL5_3.0', 'prev2_target_HL5_4.0', 'prev2_target_HL5_nan', 'prev5_target_0.0', 'prev5_target_0.25', 'prev5_target_0.5', 'prev5_target_0.75', 'prev5_target_1.0', 'prev5_target_nan', 'prev1_target_HL5_0.0', 'prev1_target_HL5_1.0', 'prev1_target_HL5_2.0', 'prev1_target_HL5_3.0', 'prev1_target_HL5_4.0', 'prev1_target_HL5_nan', 'prev4_target_HL3_0.0', 'prev4_target_HL3_1.0', 'prev4_target_HL3_2.0', 'prev4_target_HL3_nan', 'prev1_target_HL3_0.0', 'prev1_target_HL3_1.0', 'prev1_target_HL3_2.0', 'prev1_target_HL3_nan', 'prev4_target_0.0', 'prev4_target_0.25', 'prev4_target_0.5', 'prev4_target_0.75', 'prev4_target_1.0', 'prev4_target_nan', 'prev2_target_HL3_0.0', 'prev2_target_HL3_1.0', 'prev2_target_HL3_2.0', 'prev2_target_HL3_nan', 'prev5_target_HL3_0.0', 'prev5_target_HL3_1.0', 'prev5_target_HL3_2.0', 'prev5_target_HL3_nan', 'prev3_target_HL3_0.0', 'prev3_target_HL3_1.0', 'prev3_target_HL3_2.0', 'prev3_target_HL3_nan', 'prev5_target_HL5_0.0', 'prev5_target_HL5_1.0', 'prev5_target_HL5_2.0', 'prev5_target_HL5_3.0', 'prev5_target_HL5_4.0', 'prev5_target_HL5_nan', 'prev1_target_0.0', 'prev1_target_0.25', 'prev1_target_0.5', 'prev1_target_0.75', 'prev1_target_1.0', 'prev1_target_nan', 'prev3_target_0.0', 'prev3_target_0.25', 'prev3_target_0.5', 'prev3_target_0.75', 'prev3_target_1.0', 'prev3_target_nan', 'prev4_target_HL5_0.0', 'prev4_target_HL5_1.0', 'prev4_target_HL5_2.0', 'prev4_target_HL5_3.0', 'prev4_target_HL5_4.0', 'prev4_target_HL5_nan', 'prev2_target_0.0', 'prev2_target_0.25', 'prev2_target_0.5', 'prev2_target_0.75', 'prev2_target_1.0', 'prev2_target_nan', 'prev3_target_HL5_0.0', 'prev3_target_HL5_1.0', 'prev3_target_HL5_2.0', 'prev3_target_HL5_3.0', 'prev3_target_HL5_4.0', 'prev3_target_HL5_nan']\n"
     ]
    }
   ],
   "source": [
    "final_features = FeatureImportance(feature_transformer, verbose=VERBOSE).get_feature_names()\n",
    "X_train_transformed = pd.DataFrame(feature_transformer.transform(X_train), columns=final_features)\n",
    "X_val_transformed = pd.DataFrame(feature_transformer.transform(X_val), columns=final_features)\n",
    "X_test_transformed = pd.DataFrame(feature_transformer.transform(X_test), columns=final_features)\n",
    "X_transformed = pd.concat([X_train_transformed, X_val_transformed, X_test_transformed])"
   ]
  },
  {
   "cell_type": "code",
   "execution_count": 5,
   "metadata": {},
   "outputs": [
    {
     "name": "stdout",
     "output_type": "stream",
     "text": [
      "\n",
      "Running XGBRegressor...\n",
      "\n",
      "\n",
      "Not using an eval_set for XGBRegressor...\n",
      "\n",
      "\n",
      "XGBRegressor training done!\n",
      "\n",
      "Returning df_full to df_pred in model_dict\n"
     ]
    }
   ],
   "source": [
    "### Train model ###\n",
    "\n",
    "model_dict = RunModel(X_test=X_transformed,\n",
    "                      features=final_features,\n",
    "                      X_train=X_train_transformed.tail(10000),\n",
    "                      y_train=y_train.tail(10000),\n",
    "                      algorithm=ALGORITHM,\n",
    "                      eval_set=[(X_val_transformed, y_val)],\n",
    "                      df_full=df_numerai,\n",
    "                      **RUN_MODEL_PARAMS).run_everything()\n",
    "\n",
    "try:\n",
    "    pred_colname = RUN_MODEL_PARAMS['prediction_colname']\n",
    "\n",
    "except:\n",
    "    pred_colname = 'prediction'"
   ]
  },
  {
   "cell_type": "code",
   "execution_count": 6,
   "metadata": {},
   "outputs": [],
   "source": [
    "########################\n",
    "###### evaluation ######\n",
    "########################\n",
    "\n",
    "### run numerai analytics ###\n",
    "\n",
    "importances = pd.DataFrame({(f, imp) for f, imp in zip(X_train_transformed.columns, model_dict['model'].feature_importances_)})\\\n",
    "                .rename(columns={0: 'feature', 1: 'importance'})\\\n",
    "                .sort_values(by='importance', ascending=False)\n",
    "\n",
    "### corr_coefs for train / val / test ###\n",
    "\n",
    "train_era_scores = model_dict['df_pred'][model_dict['df_pred'][SPLIT_COLNAME].str.startswith('train')]\\\n",
    "                    .groupby(DATE_COL)\\\n",
    "                    .apply(calc_coef, TARGET, pred_colname)\n",
    "\n",
    "val_era_scores = model_dict['df_pred'][model_dict['df_pred'][SPLIT_COLNAME].str.startswith('val')]\\\n",
    "                    .groupby(DATE_COL)\\\n",
    "                    .apply(calc_coef, TARGET, pred_colname)\n",
    "test_era_scores = model_dict['df_pred'][model_dict['df_pred'][SPLIT_COLNAME].str.startswith('test')]\\\n",
    "                    .groupby(DATE_COL)\\\n",
    "                    .apply(calc_coef, TARGET, pred_colname)"
   ]
  },
  {
   "cell_type": "code",
   "execution_count": 13,
   "metadata": {},
   "outputs": [
    {
     "data": {
      "application/vnd.plotly.v1+json": {
       "config": {
        "plotlyServerURL": "https://plot.ly"
       },
       "data": [
        {
         "hovertemplate": "era=train<br>date=%{x}<br>era_score=%{y}<extra></extra>",
         "legendgroup": "train",
         "line": {
          "color": "#636efa",
          "dash": "solid"
         },
         "mode": "lines",
         "name": "train",
         "orientation": "v",
         "showlegend": true,
         "type": "scatter",
         "x": [
          "2005-01-07T00:00:00",
          "2005-01-14T00:00:00",
          "2005-01-21T00:00:00",
          "2005-01-28T00:00:00",
          "2005-02-04T00:00:00",
          "2005-02-11T00:00:00",
          "2005-02-18T00:00:00",
          "2005-02-25T00:00:00",
          "2005-03-04T00:00:00",
          "2005-03-11T00:00:00",
          "2005-03-18T00:00:00",
          "2005-03-25T00:00:00",
          "2005-04-01T00:00:00",
          "2005-04-08T00:00:00",
          "2005-04-15T00:00:00",
          "2005-04-22T00:00:00",
          "2005-04-29T00:00:00",
          "2005-05-06T00:00:00",
          "2005-05-13T00:00:00",
          "2005-05-20T00:00:00",
          "2005-05-27T00:00:00",
          "2005-06-03T00:00:00",
          "2005-06-10T00:00:00",
          "2005-06-17T00:00:00",
          "2005-06-24T00:00:00",
          "2005-07-01T00:00:00",
          "2005-07-08T00:00:00",
          "2005-07-15T00:00:00",
          "2005-07-22T00:00:00",
          "2005-07-29T00:00:00",
          "2005-08-05T00:00:00",
          "2005-08-12T00:00:00",
          "2005-08-19T00:00:00",
          "2005-08-26T00:00:00",
          "2005-09-02T00:00:00",
          "2005-09-09T00:00:00",
          "2005-09-16T00:00:00",
          "2005-09-23T00:00:00",
          "2005-09-30T00:00:00",
          "2005-10-07T00:00:00",
          "2005-10-14T00:00:00",
          "2005-10-21T00:00:00",
          "2005-10-28T00:00:00",
          "2005-11-04T00:00:00",
          "2005-11-11T00:00:00",
          "2005-11-18T00:00:00",
          "2005-11-25T00:00:00",
          "2005-12-02T00:00:00",
          "2005-12-09T00:00:00",
          "2005-12-16T00:00:00",
          "2005-12-23T00:00:00",
          "2005-12-30T00:00:00",
          "2006-01-06T00:00:00",
          "2006-01-13T00:00:00",
          "2006-01-20T00:00:00",
          "2006-01-27T00:00:00",
          "2006-02-03T00:00:00",
          "2006-02-10T00:00:00",
          "2006-02-17T00:00:00",
          "2006-02-24T00:00:00",
          "2006-03-03T00:00:00",
          "2006-03-10T00:00:00",
          "2006-03-17T00:00:00",
          "2006-03-24T00:00:00",
          "2006-03-31T00:00:00",
          "2006-04-07T00:00:00",
          "2006-04-14T00:00:00",
          "2006-04-21T00:00:00",
          "2006-04-28T00:00:00",
          "2006-05-05T00:00:00",
          "2006-05-12T00:00:00",
          "2006-05-19T00:00:00",
          "2006-05-26T00:00:00",
          "2006-06-02T00:00:00",
          "2006-06-09T00:00:00",
          "2006-06-16T00:00:00",
          "2006-06-23T00:00:00",
          "2006-06-30T00:00:00",
          "2006-07-07T00:00:00",
          "2006-07-14T00:00:00",
          "2006-07-21T00:00:00",
          "2006-07-28T00:00:00",
          "2006-08-04T00:00:00",
          "2006-08-11T00:00:00",
          "2006-08-18T00:00:00",
          "2006-08-25T00:00:00",
          "2006-09-01T00:00:00",
          "2006-09-08T00:00:00",
          "2006-09-15T00:00:00",
          "2006-09-22T00:00:00",
          "2006-09-29T00:00:00",
          "2006-10-06T00:00:00",
          "2006-10-13T00:00:00",
          "2006-10-20T00:00:00",
          "2006-10-27T00:00:00",
          "2006-11-03T00:00:00",
          "2006-11-10T00:00:00",
          "2006-11-17T00:00:00",
          "2006-11-24T00:00:00",
          "2006-12-01T00:00:00",
          "2006-12-08T00:00:00",
          "2006-12-15T00:00:00",
          "2006-12-22T00:00:00",
          "2006-12-29T00:00:00",
          "2007-01-05T00:00:00",
          "2007-01-12T00:00:00",
          "2007-01-19T00:00:00",
          "2007-01-26T00:00:00",
          "2007-02-02T00:00:00",
          "2007-02-09T00:00:00",
          "2007-02-16T00:00:00",
          "2007-02-23T00:00:00",
          "2007-03-02T00:00:00",
          "2007-03-09T00:00:00",
          "2007-03-16T00:00:00",
          "2007-03-23T00:00:00",
          "2007-03-30T00:00:00",
          "2007-04-06T00:00:00",
          "2007-04-13T00:00:00",
          "2007-04-20T00:00:00",
          "2007-04-27T00:00:00",
          "2007-05-04T00:00:00",
          "2007-05-11T00:00:00",
          "2007-05-18T00:00:00",
          "2007-05-25T00:00:00",
          "2007-06-01T00:00:00",
          "2007-06-08T00:00:00",
          "2007-06-15T00:00:00",
          "2007-06-22T00:00:00",
          "2007-06-29T00:00:00",
          "2007-07-06T00:00:00",
          "2007-07-13T00:00:00",
          "2007-07-20T00:00:00",
          "2007-07-27T00:00:00",
          "2007-08-03T00:00:00",
          "2007-08-10T00:00:00",
          "2007-08-17T00:00:00",
          "2007-08-24T00:00:00",
          "2007-08-31T00:00:00",
          "2007-09-07T00:00:00",
          "2007-09-14T00:00:00",
          "2007-09-21T00:00:00",
          "2007-09-28T00:00:00",
          "2007-10-05T00:00:00",
          "2007-10-12T00:00:00",
          "2007-10-19T00:00:00",
          "2007-10-26T00:00:00",
          "2007-11-02T00:00:00",
          "2007-11-09T00:00:00",
          "2007-11-16T00:00:00",
          "2007-11-23T00:00:00",
          "2007-11-30T00:00:00",
          "2007-12-07T00:00:00",
          "2007-12-14T00:00:00",
          "2007-12-21T00:00:00",
          "2007-12-28T00:00:00",
          "2008-01-04T00:00:00",
          "2008-01-11T00:00:00",
          "2008-01-18T00:00:00",
          "2008-01-25T00:00:00",
          "2008-02-01T00:00:00",
          "2008-02-08T00:00:00",
          "2008-02-15T00:00:00",
          "2008-02-22T00:00:00",
          "2008-02-29T00:00:00",
          "2008-03-07T00:00:00",
          "2008-03-14T00:00:00",
          "2008-03-21T00:00:00",
          "2008-03-28T00:00:00",
          "2008-04-04T00:00:00",
          "2008-04-11T00:00:00",
          "2008-04-18T00:00:00",
          "2008-04-25T00:00:00",
          "2008-05-02T00:00:00",
          "2008-05-09T00:00:00",
          "2008-05-16T00:00:00",
          "2008-05-23T00:00:00",
          "2008-05-30T00:00:00",
          "2008-06-06T00:00:00",
          "2008-06-13T00:00:00",
          "2008-06-20T00:00:00",
          "2008-06-27T00:00:00",
          "2008-07-04T00:00:00",
          "2008-07-11T00:00:00",
          "2008-07-18T00:00:00",
          "2008-07-25T00:00:00",
          "2008-08-01T00:00:00",
          "2008-08-08T00:00:00",
          "2008-08-15T00:00:00",
          "2008-08-22T00:00:00",
          "2008-08-29T00:00:00",
          "2008-09-05T00:00:00",
          "2008-09-12T00:00:00",
          "2008-09-19T00:00:00",
          "2008-09-26T00:00:00",
          "2008-10-03T00:00:00",
          "2008-10-10T00:00:00",
          "2008-10-17T00:00:00",
          "2008-10-24T00:00:00",
          "2008-10-31T00:00:00",
          "2008-11-07T00:00:00",
          "2008-11-14T00:00:00",
          "2008-11-21T00:00:00",
          "2008-11-28T00:00:00",
          "2008-12-05T00:00:00",
          "2008-12-12T00:00:00",
          "2008-12-19T00:00:00",
          "2008-12-26T00:00:00",
          "2009-01-02T00:00:00",
          "2009-01-09T00:00:00",
          "2009-01-16T00:00:00",
          "2009-01-23T00:00:00",
          "2009-01-30T00:00:00",
          "2009-02-06T00:00:00",
          "2009-02-13T00:00:00",
          "2009-02-20T00:00:00",
          "2009-02-27T00:00:00",
          "2009-03-06T00:00:00",
          "2009-03-13T00:00:00",
          "2009-03-20T00:00:00",
          "2009-03-27T00:00:00",
          "2009-04-03T00:00:00",
          "2009-04-10T00:00:00",
          "2009-04-17T00:00:00",
          "2009-04-24T00:00:00",
          "2009-05-01T00:00:00",
          "2009-05-08T00:00:00",
          "2009-05-15T00:00:00",
          "2009-05-22T00:00:00",
          "2009-05-29T00:00:00",
          "2009-06-05T00:00:00",
          "2009-06-12T00:00:00",
          "2009-06-19T00:00:00",
          "2009-06-26T00:00:00",
          "2009-07-03T00:00:00",
          "2009-07-10T00:00:00",
          "2009-07-17T00:00:00",
          "2009-07-24T00:00:00",
          "2009-07-31T00:00:00",
          "2009-08-07T00:00:00",
          "2009-08-14T00:00:00",
          "2009-08-21T00:00:00",
          "2009-08-28T00:00:00",
          "2009-09-04T00:00:00",
          "2009-09-11T00:00:00",
          "2009-09-18T00:00:00",
          "2009-09-25T00:00:00",
          "2009-10-02T00:00:00",
          "2009-10-09T00:00:00",
          "2009-10-16T00:00:00",
          "2009-10-23T00:00:00",
          "2009-10-30T00:00:00",
          "2009-11-06T00:00:00",
          "2009-11-13T00:00:00",
          "2009-11-20T00:00:00",
          "2009-11-27T00:00:00",
          "2009-12-04T00:00:00",
          "2009-12-11T00:00:00",
          "2009-12-18T00:00:00",
          "2009-12-25T00:00:00",
          "2010-01-01T00:00:00",
          "2010-01-08T00:00:00",
          "2010-01-15T00:00:00",
          "2010-01-22T00:00:00",
          "2010-01-29T00:00:00",
          "2010-02-05T00:00:00",
          "2010-02-12T00:00:00",
          "2010-02-19T00:00:00",
          "2010-02-26T00:00:00",
          "2010-03-05T00:00:00",
          "2010-03-12T00:00:00",
          "2010-03-19T00:00:00",
          "2010-03-26T00:00:00",
          "2010-04-02T00:00:00",
          "2010-04-09T00:00:00",
          "2010-04-16T00:00:00",
          "2010-04-23T00:00:00",
          "2010-04-30T00:00:00",
          "2010-05-07T00:00:00",
          "2010-05-14T00:00:00",
          "2010-05-21T00:00:00",
          "2010-05-28T00:00:00",
          "2010-06-04T00:00:00",
          "2010-06-11T00:00:00",
          "2010-06-18T00:00:00",
          "2010-06-25T00:00:00",
          "2010-07-02T00:00:00",
          "2010-07-09T00:00:00",
          "2010-07-16T00:00:00",
          "2010-07-23T00:00:00",
          "2010-07-30T00:00:00",
          "2010-08-06T00:00:00",
          "2010-08-13T00:00:00",
          "2010-08-20T00:00:00",
          "2010-08-27T00:00:00",
          "2010-09-03T00:00:00",
          "2010-09-10T00:00:00",
          "2010-09-17T00:00:00",
          "2010-09-24T00:00:00",
          "2010-10-01T00:00:00",
          "2010-10-08T00:00:00",
          "2010-10-15T00:00:00",
          "2010-10-22T00:00:00",
          "2010-10-29T00:00:00",
          "2010-11-05T00:00:00",
          "2010-11-12T00:00:00",
          "2010-11-19T00:00:00",
          "2010-11-26T00:00:00",
          "2010-12-03T00:00:00",
          "2010-12-10T00:00:00",
          "2010-12-17T00:00:00",
          "2010-12-24T00:00:00",
          "2010-12-31T00:00:00",
          "2011-01-07T00:00:00",
          "2011-01-14T00:00:00",
          "2011-01-21T00:00:00",
          "2011-01-28T00:00:00",
          "2011-02-04T00:00:00",
          "2011-02-11T00:00:00",
          "2011-02-18T00:00:00",
          "2011-02-25T00:00:00",
          "2011-03-04T00:00:00",
          "2011-03-11T00:00:00",
          "2011-03-18T00:00:00",
          "2011-03-25T00:00:00",
          "2011-04-01T00:00:00",
          "2011-04-08T00:00:00",
          "2011-04-15T00:00:00",
          "2011-04-22T00:00:00",
          "2011-04-29T00:00:00",
          "2011-05-06T00:00:00",
          "2011-05-13T00:00:00",
          "2011-05-20T00:00:00",
          "2011-05-27T00:00:00",
          "2011-06-03T00:00:00",
          "2011-06-10T00:00:00",
          "2011-06-17T00:00:00",
          "2011-06-24T00:00:00",
          "2011-07-01T00:00:00",
          "2011-07-08T00:00:00",
          "2011-07-15T00:00:00",
          "2011-07-22T00:00:00",
          "2011-07-29T00:00:00",
          "2011-08-05T00:00:00",
          "2011-08-12T00:00:00",
          "2011-08-19T00:00:00",
          "2011-08-26T00:00:00",
          "2011-09-02T00:00:00",
          "2011-09-09T00:00:00",
          "2011-09-16T00:00:00",
          "2011-09-23T00:00:00",
          "2011-09-30T00:00:00",
          "2011-10-07T00:00:00",
          "2011-10-14T00:00:00",
          "2011-10-21T00:00:00",
          "2011-10-28T00:00:00",
          "2011-11-04T00:00:00",
          "2011-11-11T00:00:00",
          "2011-11-18T00:00:00",
          "2011-11-25T00:00:00",
          "2011-12-02T00:00:00",
          "2011-12-09T00:00:00",
          "2011-12-16T00:00:00",
          "2011-12-23T00:00:00",
          "2011-12-30T00:00:00",
          "2012-01-06T00:00:00",
          "2012-01-13T00:00:00",
          "2012-01-20T00:00:00",
          "2012-01-27T00:00:00",
          "2012-02-03T00:00:00",
          "2012-02-10T00:00:00",
          "2012-02-17T00:00:00",
          "2012-02-24T00:00:00",
          "2012-03-02T00:00:00",
          "2012-03-09T00:00:00",
          "2012-03-16T00:00:00",
          "2012-03-23T00:00:00",
          "2012-03-30T00:00:00",
          "2012-04-06T00:00:00",
          "2012-04-13T00:00:00",
          "2012-04-20T00:00:00",
          "2012-04-27T00:00:00",
          "2012-05-04T00:00:00",
          "2012-05-11T00:00:00",
          "2012-05-18T00:00:00",
          "2012-05-25T00:00:00",
          "2012-06-01T00:00:00",
          "2012-06-08T00:00:00",
          "2012-06-15T00:00:00",
          "2012-06-22T00:00:00",
          "2012-06-29T00:00:00",
          "2012-07-06T00:00:00",
          "2012-07-13T00:00:00",
          "2012-07-20T00:00:00",
          "2012-07-27T00:00:00",
          "2012-08-03T00:00:00",
          "2012-08-10T00:00:00",
          "2012-08-17T00:00:00",
          "2012-08-24T00:00:00",
          "2012-08-31T00:00:00",
          "2012-09-07T00:00:00",
          "2012-09-14T00:00:00",
          "2012-09-21T00:00:00",
          "2012-09-28T00:00:00",
          "2012-10-05T00:00:00",
          "2012-10-12T00:00:00",
          "2012-10-19T00:00:00",
          "2012-10-26T00:00:00",
          "2012-11-02T00:00:00",
          "2012-11-09T00:00:00",
          "2012-11-16T00:00:00",
          "2012-11-23T00:00:00",
          "2012-11-30T00:00:00",
          "2012-12-07T00:00:00",
          "2012-12-14T00:00:00",
          "2012-12-21T00:00:00",
          "2012-12-28T00:00:00",
          "2013-01-04T00:00:00",
          "2013-01-11T00:00:00",
          "2013-01-18T00:00:00",
          "2013-01-25T00:00:00",
          "2013-02-01T00:00:00",
          "2013-02-08T00:00:00",
          "2013-02-15T00:00:00",
          "2013-02-22T00:00:00",
          "2013-03-01T00:00:00",
          "2013-03-08T00:00:00",
          "2013-03-15T00:00:00",
          "2013-03-22T00:00:00",
          "2013-03-29T00:00:00",
          "2013-04-05T00:00:00",
          "2013-04-12T00:00:00",
          "2013-04-19T00:00:00",
          "2013-04-26T00:00:00",
          "2013-05-03T00:00:00",
          "2013-05-10T00:00:00",
          "2013-05-17T00:00:00",
          "2013-05-24T00:00:00",
          "2013-05-31T00:00:00",
          "2013-06-07T00:00:00",
          "2013-06-14T00:00:00",
          "2013-06-21T00:00:00",
          "2013-06-28T00:00:00",
          "2013-07-05T00:00:00",
          "2013-07-12T00:00:00",
          "2013-07-19T00:00:00",
          "2013-07-26T00:00:00",
          "2013-08-02T00:00:00",
          "2013-08-09T00:00:00",
          "2013-08-16T00:00:00",
          "2013-08-23T00:00:00",
          "2013-08-30T00:00:00",
          "2013-09-06T00:00:00",
          "2013-09-13T00:00:00",
          "2013-09-20T00:00:00",
          "2013-09-27T00:00:00",
          "2013-10-04T00:00:00",
          "2013-10-11T00:00:00",
          "2013-10-18T00:00:00",
          "2013-10-25T00:00:00",
          "2013-11-01T00:00:00",
          "2013-11-08T00:00:00",
          "2013-11-15T00:00:00",
          "2013-11-22T00:00:00",
          "2013-11-29T00:00:00",
          "2013-12-06T00:00:00",
          "2013-12-13T00:00:00",
          "2013-12-20T00:00:00",
          "2013-12-27T00:00:00",
          "2014-01-03T00:00:00",
          "2014-01-10T00:00:00",
          "2014-01-17T00:00:00",
          "2014-01-24T00:00:00",
          "2014-01-31T00:00:00",
          "2014-02-07T00:00:00",
          "2014-02-14T00:00:00",
          "2014-02-21T00:00:00",
          "2014-02-28T00:00:00",
          "2014-03-07T00:00:00",
          "2014-03-14T00:00:00",
          "2014-03-21T00:00:00",
          "2014-03-28T00:00:00",
          "2014-04-04T00:00:00",
          "2014-04-11T00:00:00",
          "2014-04-18T00:00:00",
          "2014-04-25T00:00:00",
          "2014-05-02T00:00:00",
          "2014-05-09T00:00:00",
          "2014-05-16T00:00:00",
          "2014-05-23T00:00:00",
          "2014-05-30T00:00:00",
          "2014-06-06T00:00:00",
          "2014-06-13T00:00:00",
          "2014-06-20T00:00:00",
          "2014-06-27T00:00:00",
          "2014-07-04T00:00:00",
          "2014-07-11T00:00:00",
          "2014-07-18T00:00:00",
          "2014-07-25T00:00:00",
          "2014-08-01T00:00:00",
          "2014-08-08T00:00:00",
          "2014-08-15T00:00:00",
          "2014-08-22T00:00:00",
          "2014-08-29T00:00:00",
          "2014-09-05T00:00:00",
          "2014-09-12T00:00:00",
          "2014-09-19T00:00:00",
          "2014-09-26T00:00:00",
          "2014-10-03T00:00:00",
          "2014-10-10T00:00:00",
          "2014-10-17T00:00:00",
          "2014-10-24T00:00:00",
          "2014-10-31T00:00:00",
          "2014-11-07T00:00:00",
          "2014-11-14T00:00:00",
          "2014-11-21T00:00:00",
          "2014-11-28T00:00:00",
          "2014-12-05T00:00:00",
          "2014-12-12T00:00:00",
          "2014-12-19T00:00:00",
          "2014-12-26T00:00:00",
          "2015-01-02T00:00:00",
          "2015-01-09T00:00:00",
          "2015-01-16T00:00:00",
          "2015-01-23T00:00:00",
          "2015-01-30T00:00:00",
          "2015-02-06T00:00:00",
          "2015-02-13T00:00:00",
          "2015-02-20T00:00:00",
          "2015-02-27T00:00:00",
          "2015-03-06T00:00:00",
          "2015-03-13T00:00:00",
          "2015-03-20T00:00:00",
          "2015-03-27T00:00:00",
          "2015-04-03T00:00:00",
          "2015-04-10T00:00:00",
          "2015-04-17T00:00:00",
          "2015-04-24T00:00:00",
          "2015-05-01T00:00:00",
          "2015-05-08T00:00:00",
          "2015-05-15T00:00:00",
          "2015-05-22T00:00:00",
          "2015-05-29T00:00:00",
          "2015-06-05T00:00:00",
          "2015-06-12T00:00:00",
          "2015-06-19T00:00:00",
          "2015-06-26T00:00:00",
          "2015-07-03T00:00:00",
          "2015-07-10T00:00:00",
          "2015-07-17T00:00:00",
          "2015-07-24T00:00:00",
          "2015-07-31T00:00:00",
          "2015-08-07T00:00:00",
          "2015-08-14T00:00:00",
          "2015-08-21T00:00:00",
          "2015-08-28T00:00:00",
          "2015-09-04T00:00:00",
          "2015-09-11T00:00:00",
          "2015-09-18T00:00:00",
          "2015-09-25T00:00:00",
          "2015-10-02T00:00:00",
          "2015-10-09T00:00:00",
          "2015-10-16T00:00:00",
          "2015-10-23T00:00:00",
          "2015-10-30T00:00:00",
          "2015-11-06T00:00:00",
          "2015-11-13T00:00:00",
          "2015-11-20T00:00:00",
          "2015-11-27T00:00:00",
          "2015-12-04T00:00:00",
          "2015-12-11T00:00:00",
          "2015-12-18T00:00:00",
          "2015-12-25T00:00:00",
          "2016-01-01T00:00:00",
          "2016-01-08T00:00:00",
          "2016-01-15T00:00:00",
          "2016-01-22T00:00:00",
          "2016-01-29T00:00:00",
          "2016-02-05T00:00:00",
          "2016-02-12T00:00:00",
          "2016-02-19T00:00:00",
          "2016-02-26T00:00:00",
          "2016-03-04T00:00:00",
          "2016-03-11T00:00:00",
          "2016-03-18T00:00:00",
          "2016-03-25T00:00:00",
          "2016-04-01T00:00:00",
          "2016-04-08T00:00:00",
          "2016-04-15T00:00:00",
          "2016-04-22T00:00:00",
          "2016-04-29T00:00:00",
          "2016-05-06T00:00:00",
          "2016-05-13T00:00:00",
          "2016-05-20T00:00:00",
          "2016-05-27T00:00:00",
          "2016-06-03T00:00:00"
         ],
         "xaxis": "x",
         "y": [
          -0.017972628897510043,
          0.0069113680397129215,
          0.011323070714303487,
          -0.01804113698678511,
          0.0121836273684457,
          0.007049084719395304,
          0.007586141096281047,
          -0.001565106700586686,
          -0.01712743578863636,
          -0.02535788747550825,
          0.009799020443011277,
          -0.010306406469046809,
          -0.006304299191446957,
          -0.024502623588171145,
          0.0003588170989345279,
          -0.00835544276939303,
          -0.020625105568269318,
          0.0019362355130006733,
          0.00262890607638007,
          0.01642683559599061,
          0.0024008804409318984,
          0.001600242558655622,
          -0.02472206154945428,
          0.021047743514770373,
          0.020115608035173385,
          0.004295486454516981,
          -0.03046539936359033,
          0.00651028327503532,
          -0.003431058441292044,
          -0.021100089580844358,
          0.021468067138354818,
          0.011064353045205583,
          0.026235974918214486,
          0.028979062650128253,
          0.013913196786157458,
          0.007755821861075643,
          0.012651768821720115,
          0.010612659117430827,
          -0.0036126556313608024,
          -0.009273433977809704,
          0.026146502521368242,
          0.01607014008328271,
          0.030760788054302456,
          0.002740924631693709,
          0.015209817495409754,
          -0.006894034486992165,
          0.01172789763836621,
          0.013272174810662023,
          0.010629553318889621,
          -0.008594100907792728,
          0.011707840443241446,
          0.0038798052172281565,
          -0.0059143166432722915,
          0.019111173802481375,
          -0.024038109511243334,
          -0.014464587707925004,
          0.025151907198290056,
          0.03273957866130875,
          -0.014904787299328162,
          -0.009531574728394665,
          -0.030630748680493394,
          0.006092840727296246,
          0.017697013113645,
          -0.03449127960112041,
          0.011504762910762524,
          0.02737248871392669,
          0.0017026133901086769,
          -0.02400531244033053,
          0.0053376749831788575,
          -0.014613058434389673,
          0.018583258617777723,
          -0.01549542608420805,
          -0.020392547417284267,
          -0.025839976743050858,
          0.0050772316683147575,
          0.01815877447367624,
          -0.0019626401571117883,
          -0.011958985788926794,
          0.0014547849578790606,
          -0.010728797656514731,
          -0.014379469325932369,
          0.008659431600685755,
          0.00013878326380946493,
          0.001147021373416264,
          -0.022058974803662416,
          0.015414427915610705,
          -0.018456164519179422,
          0.025812924509209526,
          -0.02374123442344965,
          0.010795148190524214,
          0.031938071556456046,
          -0.00030296784914957196,
          -0.00964472605466875,
          -0.03336732663626201,
          -0.007259095825268973,
          0.002972187937496181,
          -0.01999678375906405,
          -0.001603000678871259,
          0.012317232750392607,
          -0.003326151665291673,
          0.004006188358479511,
          0.0023130150851350248,
          0.017751299496267366,
          0.005459320587446691,
          -0.02748155726537879,
          -0.034422005186395474,
          0.02646912616098016,
          -0.003916092428309233,
          0.010671140415933351,
          -0.005151483954430832,
          -0.00654922094377629,
          -0.0013636919565912626,
          -0.00352263211555202,
          0.014560070166490073,
          0.0005776961025609134,
          0.01772127114250512,
          -0.017829714090507296,
          -0.018040437852393617,
          -0.014623030869317015,
          0.0014957395598983391,
          -0.02136068726422082,
          -0.02017095822634788,
          0.026063094852241935,
          0.002998698602000858,
          -0.012401345160242678,
          0.006023247032386814,
          -0.004600205646885982,
          -0.018063849514004342,
          -0.016894797771355295,
          -0.009522199572072626,
          -0.013877396167416617,
          -0.013744803869631197,
          -0.006969222408621496,
          -0.013496502128164767,
          -0.028184413435511004,
          -0.015554493415032348,
          -0.0029350350826426188,
          0.011425713227376061,
          -0.006525025505284746,
          0.022424558804202917,
          0.004168554630767984,
          -0.034401356958427616,
          -0.026422479914708256,
          -0.019414523486422617,
          -0.0032987346095050335,
          0.012345703443529076,
          0.011470594199142906,
          -0.016333720261758323,
          -0.023946795282127946,
          -0.015681607432161265,
          0.0009748532969625315,
          0.028513781152946848,
          -0.0057507590918997745,
          -0.0014018901049768515,
          -0.02666676729845585,
          -0.01993965272844199,
          0.004971342522003896,
          0.023780221991873664,
          -0.01586622150192924,
          0.010440140324521834,
          0.012192509983895532,
          0.005347319974099992,
          0.00986370915381958,
          0.0012677601689070877,
          0.012488349096479409,
          -0.0012046891210453785,
          -0.012664292610837135,
          -0.006278969384509181,
          -0.016495163696944152,
          -0.005111328736303366,
          -0.0073232650471794876,
          0.007148196303836304,
          -0.005112361443823534,
          -0.0020494452522405986,
          -0.0067465604624008906,
          -0.008080670901154212,
          0.02313757151215722,
          -0.019755351750293495,
          -0.0002029423522908984,
          0.002273501680977198,
          0.00208782832360969,
          -0.013868351174954868,
          0.011621340018731774,
          -0.009800931596200832,
          0.010237006624734485,
          -0.0037634963734098762,
          0.012698222489127907,
          -0.02662571046488154,
          0.020473592310799926,
          0.02654681733413656,
          0.021372829890606897,
          0.01035133983666648,
          -0.007071738164731416,
          -0.019133640752422656,
          0.011197538866040049,
          0.017506661102283452,
          0.008131253422238081,
          0.0186805225058028,
          -0.0378305158804122,
          0.005763025477739359,
          -0.03302999086875663,
          -0.010814713992414435,
          -0.012731596263291947,
          -0.0010253135964595269,
          0.026877838580568646,
          0.02087382268937793,
          -0.01626095064240529,
          -0.015112754158380913,
          -0.02033073978795191,
          -0.019759586789139097,
          0.018505427137490957,
          -0.02699585260250813,
          0.009259674626308915,
          0.023398496632283376,
          -0.012573196663122874,
          0.010793360278861677,
          -0.018507323043506684,
          -0.01436882267484716,
          -0.0384975808299269,
          -0.029661736005733286,
          -0.011961641930602321,
          -0.001634095679489313,
          0.017653709998389184,
          0.001997052188045323,
          0.022507337595175158,
          0.021489059018486325,
          0.007076551648629426,
          -0.005635707935090101,
          0.00883516810833068,
          0.01363096049215164,
          -0.003397467075163813,
          0.011741820456096296,
          -0.00979325325591147,
          -0.027775949143612436,
          0.03575523477765378,
          -0.010806679092290949,
          -0.025853755573621275,
          0.016528502428537956,
          0.003495853441807465,
          0.002242002544060477,
          0.014742684701811129,
          -0.0016005925653027556,
          -0.030931920288190848,
          0.004076679162878657,
          -0.03324003109762873,
          0.012304569583973609,
          0.023758588259587855,
          -0.007675850858618109,
          0.019948147833853083,
          -0.03396989357003366,
          -0.009728231132025068,
          0.024612227488346402,
          0.012445648080266164,
          -0.015111763777375026,
          -0.0177381694479908,
          0.01472347832298555,
          0.037861914242347854,
          0.014689896181072526,
          -0.013207192310507796,
          0.011554263868471788,
          -0.010014238726924987,
          0.008013263965192474,
          0.018895328685191806,
          0.006971933728647274,
          -0.03000671029309482,
          0.002661514310881032,
          0.008352831799062347,
          -0.003165365335517856,
          0.01491968638693005,
          -0.00392143393818101,
          0.022529465477362003,
          -0.00944987435192595,
          0.01717885520170678,
          -0.006798956514145911,
          0.01905853622217635,
          0.006106097621381398,
          0.00527689132056059,
          -0.00316257206292254,
          0.014022148036349042,
          -0.008807655719932113,
          -0.04625456562257249,
          -0.02092366255442408,
          -0.018312857247763617,
          0.019583470458144257,
          0.02961197069920877,
          0.0058081497432999835,
          -0.002825675221870584,
          -0.020805774194119803,
          -0.01807143412986552,
          -0.009397861034036918,
          -0.003467251253082649,
          0.016732682826139197,
          -0.010640996439968249,
          -0.003528466836866564,
          0.025451660781759727,
          0.009955481640302629,
          -0.002026896510309189,
          0.005327271820575166,
          0.013173881953155657,
          -0.009303483399004962,
          -0.0295187949180534,
          -0.020908738230936644,
          0.01467752829453004,
          -0.009801947480383802,
          0.004850436242282059,
          -0.011401893835184558,
          -0.008303759865801098,
          0.033048040606341776,
          -0.013161818992711809,
          -0.00884951347399835,
          0.006402601461682537,
          -0.008357938815553587,
          0.02405089072516262,
          -0.02011526155064104,
          -0.0009042775969329406,
          0.00914026606098983,
          0.006428339897429502,
          -0.0012385417081861572,
          -0.005851654930534303,
          0.0022426001332666655,
          -0.0019082073499740349,
          -0.0023362091139132483,
          -0.01396617322716401,
          0.01763569526901855,
          0.009816524739033078,
          -0.005049106674996102,
          0.00211565159105595,
          -0.006982650815418209,
          0.03350575177263899,
          0.004383815120180901,
          -0.0014676989745003644,
          0.010690997832914714,
          0.007395276527364448,
          -0.0055031040326626755,
          0.012851373592607693,
          0.005362118340067125,
          0.004355802715693267,
          -0.0016050656293519277,
          -0.024164277125414687,
          0.025422287226973393,
          0.0028458975269048787,
          -0.0015581161656515283,
          0.010441564864411437,
          0.007650516078880909,
          0.021115621941173435,
          0.00046307314507984196,
          -0.033313578057298295,
          0.006771729788958771,
          0.012855692524944201,
          0.019857298895230902,
          0.021594475854605742,
          0.001805752250678627,
          -0.012195959337519628,
          0.022252754617390836,
          -0.004277136771910923,
          0.030009992151166714,
          0.0034140613780194017,
          0.022338844835406785,
          -0.0052808191244635245,
          0.000941390999331851,
          0.022548656905449733,
          -0.02097640316835035,
          0.024394140006499813,
          -0.00982983426697981,
          -0.0048255378263029605,
          0.017024507130438554,
          0.0030269313872634276,
          -0.0057208142424113794,
          0.002525199971636206,
          0.019487003197006466,
          7.655337259872886e-05,
          0.010232422273827691,
          0.013978785980218142,
          0.023121199697559772,
          -0.019462585867827058,
          0.007315560066177002,
          0.0006283128754165719,
          -0.01838597588513438,
          -0.00853828977985992,
          -0.01755016772133048,
          -0.004721244090261908,
          -0.01091903267578784,
          -0.024004376737732945,
          0.006218423196363604,
          -0.007628361103217455,
          -0.020469843332333933,
          -0.008543114037654457,
          -0.016954044395026874,
          0.002432256874006176,
          -0.008997416083246992,
          -0.0020593485258948185,
          0.011901530993976155,
          0.010602092044933162,
          -0.02602580625420296,
          -0.01881217630328901,
          -0.00022868582397813904,
          0.00221130760259534,
          0.008973459685158194,
          0.023925076405911613,
          0.007660517568845513,
          -0.003582965546872424,
          0.004972674264538768,
          0.01656863192653421,
          0.028903962528379748,
          -0.002335163119706554,
          -0.009569322036742928,
          0.003436158731986324,
          0.012379656869097814,
          -0.022724408515492064,
          -0.022270427872023518,
          -0.028708728347334917,
          -0.005851442350470246,
          0.018223982943500312,
          -0.016260911952170738,
          -0.01480008201863467,
          0.012462606057293744,
          -0.006645774593128477,
          -0.01869883869872824,
          -0.012331623765401615,
          -8.693381195529242e-06,
          -0.000726582048765132,
          0.0031643349053521595,
          -0.005001849385527336,
          -0.010592389159802111,
          0.014041178130473835,
          -0.010745614227386917,
          0.01837561041259376,
          -0.04261633876389813,
          -0.0018541073376508279,
          7.815130481028597e-05,
          -0.004923994394890406,
          -0.010840631227203223,
          -0.024769965920402395,
          0.011216358966191574,
          0.0017759189106986422,
          -0.002869846567242304,
          0.023734695998593052,
          0.02841639139527795,
          -0.006431086537200448,
          -0.01816662118887545,
          -0.010131544983577528,
          0.0029834156079893877,
          -0.03431967830894317,
          -0.017751448508961327,
          -0.0010575199870505728,
          0.0028197769007408625,
          -0.025284794317661053,
          -0.006221938266258261,
          0.022948489388145584,
          -0.014705681922449743,
          0.0012708352977741058,
          -0.01772653084735281,
          -0.005241404568323099,
          -0.015612034724883444,
          0.0169929332553146,
          0.030465008019650016,
          -0.014445963006853815,
          0.02571735253811461,
          -0.02437150248410028,
          -0.02150777122495732,
          0.010872002630545241,
          0.026739524393920258,
          -0.019975750238538644,
          0.01253553104223511,
          -0.019134470239404355,
          -0.01624872333550729,
          -0.023590423762980157,
          -0.01228624048976078,
          -0.0010699912638092455,
          0.010215977353111038,
          -0.0012360859878681274,
          0.011091433218808856,
          0.027474434659878318,
          0.0017960607526148608,
          0.008843578537389565,
          0.01819516951460802,
          -0.009207228616189181,
          0.012471130034013442,
          0.013878921371348649,
          0.011478613578567484,
          0.006415829060107153,
          -0.025391727479546496,
          0.003199468081346773,
          0.021829590573614117,
          0.0029556953875414156,
          -0.0018542583257511315,
          0.009012701471565894,
          -0.022022697178126147,
          0.0034831092322091827,
          0.003788093921072163,
          0.005060983616360396,
          -0.01322603455742414,
          -0.014810908845084418,
          0.0059808697049553725,
          -0.01036973509564819,
          0.006077677608461989,
          -0.009858838737899445,
          -0.016918140645406806,
          -0.00033170897770540096,
          0.0016539939391695983,
          -0.02707391308574411,
          0.02700845748798911,
          -0.011256879210711505,
          0.029964015733930253,
          0.004823498334574303,
          -0.030968303462464753,
          -0.01325066086479159,
          -0.005024706370966513,
          -0.030940365027455265,
          -0.028580276727857422,
          -0.0010322479494132362,
          0.011646879552713686,
          -0.00575342486257133,
          0.02890096381522337,
          -0.00985524030202473,
          -0.017460032399198987,
          0.007976327312667574,
          -0.027009304427566164,
          -0.009425021205467145,
          -0.0021130866792518454,
          0.0036514552322788178,
          0.008151742955761125,
          0.01972581079653441,
          -0.0082731556915044,
          -0.010615540801785079,
          -0.01703552770641417,
          0.0059179132011490205,
          0.007846307865545308,
          -0.022448133482750265,
          -0.009347854917333687,
          0.015176950735333638,
          0.020538427171367328,
          -0.006945387611146706,
          0.027405556002692982,
          -0.011119280802659047,
          -0.0016563069784509361,
          0.003402544785437206,
          -0.0025746751230395055,
          0.01683844974928002,
          -0.010419096451572987,
          0.005238902844162078,
          0.015693639237271313,
          0.0010498327301798514,
          0.008207256519582306,
          0.011242856036319745,
          -0.03596585374425512,
          0.028623555043558506,
          0.02366603299249225,
          0.0072884987739035125,
          -0.000534414180786378,
          -0.00835396396108717,
          0.003774610790175936,
          0.00012503056784583127,
          0.017235869099779443,
          0.007213861999980811,
          -0.02241521463568981,
          -0.013087585393860415,
          0.018443083986770598,
          0.0048845969509588825,
          -0.004643977640294257,
          0.027789740797756583,
          -0.006065219533320773,
          -0.005099372935398428,
          0.02006844622803102,
          0.006005439628829444,
          0.01825382744049765,
          -0.0046936442940742505,
          -0.012770134380786523,
          0.014008314849100676,
          0.006655432198888933,
          -0.019380453059287678,
          0.03173558669234541,
          -0.012345046749156888,
          0.012666016574138022,
          0.011635676363480953,
          -0.007201072314671392,
          0.00017965007435836682,
          0.017528718256138075,
          0.028335249464461056,
          -0.015348619455490395,
          0.00670322567241307,
          0.012003230662168829,
          -0.021427733709374716,
          0.023686492951286983,
          -0.017160973052291726,
          -0.012590092456823774,
          0.022702706883125794,
          0.0207441110993471,
          0.028407164865247983,
          0.004958031305296991,
          0.00012572325651772498,
          -0.003226357397686642,
          0.0037023612942019444,
          0.2732399765952885,
          0.47750413698032856,
          0.502371184607851
         ],
         "yaxis": "y"
        },
        {
         "hovertemplate": "era=val<br>date=%{x}<br>era_score=%{y}<extra></extra>",
         "legendgroup": "val",
         "line": {
          "color": "#EF553B",
          "dash": "solid"
         },
         "mode": "lines",
         "name": "val",
         "orientation": "v",
         "showlegend": true,
         "type": "scatter",
         "x": [
          "2016-06-03T00:00:00",
          "2016-06-10T00:00:00",
          "2016-06-17T00:00:00",
          "2016-06-24T00:00:00",
          "2016-07-01T00:00:00",
          "2016-07-08T00:00:00",
          "2016-07-15T00:00:00",
          "2016-07-22T00:00:00",
          "2016-07-29T00:00:00",
          "2016-08-05T00:00:00",
          "2016-08-12T00:00:00",
          "2016-08-19T00:00:00",
          "2016-08-26T00:00:00",
          "2016-09-02T00:00:00",
          "2016-09-09T00:00:00",
          "2016-09-16T00:00:00",
          "2016-09-23T00:00:00",
          "2016-09-30T00:00:00",
          "2016-10-07T00:00:00",
          "2016-10-14T00:00:00",
          "2016-10-21T00:00:00",
          "2016-10-28T00:00:00",
          "2016-11-04T00:00:00",
          "2016-11-11T00:00:00",
          "2016-11-18T00:00:00",
          "2016-11-25T00:00:00",
          "2016-12-02T00:00:00",
          "2016-12-09T00:00:00",
          "2016-12-16T00:00:00",
          "2016-12-23T00:00:00",
          "2016-12-30T00:00:00",
          "2017-01-06T00:00:00",
          "2017-01-13T00:00:00",
          "2017-01-20T00:00:00",
          "2017-01-27T00:00:00",
          "2017-02-03T00:00:00",
          "2017-02-10T00:00:00",
          "2017-02-17T00:00:00",
          "2017-02-24T00:00:00",
          "2017-03-03T00:00:00",
          "2017-03-10T00:00:00",
          "2017-03-17T00:00:00",
          "2017-03-24T00:00:00",
          "2017-03-31T00:00:00",
          "2017-04-07T00:00:00",
          "2017-04-14T00:00:00",
          "2017-04-21T00:00:00",
          "2017-04-28T00:00:00",
          "2017-05-05T00:00:00",
          "2017-05-12T00:00:00",
          "2017-05-19T00:00:00",
          "2017-05-26T00:00:00",
          "2017-06-02T00:00:00",
          "2017-06-09T00:00:00",
          "2017-06-16T00:00:00",
          "2017-06-23T00:00:00",
          "2017-06-30T00:00:00",
          "2017-07-07T00:00:00",
          "2017-07-14T00:00:00",
          "2017-07-21T00:00:00",
          "2017-07-28T00:00:00",
          "2017-08-04T00:00:00",
          "2017-08-11T00:00:00",
          "2017-08-18T00:00:00",
          "2017-08-25T00:00:00",
          "2017-09-01T00:00:00",
          "2017-09-08T00:00:00",
          "2017-09-15T00:00:00",
          "2017-09-22T00:00:00",
          "2017-09-29T00:00:00",
          "2017-10-06T00:00:00",
          "2017-10-13T00:00:00",
          "2017-10-20T00:00:00",
          "2017-10-27T00:00:00",
          "2017-11-03T00:00:00",
          "2017-11-10T00:00:00",
          "2017-11-17T00:00:00",
          "2017-11-24T00:00:00",
          "2017-12-01T00:00:00",
          "2017-12-08T00:00:00",
          "2017-12-15T00:00:00",
          "2017-12-22T00:00:00",
          "2017-12-29T00:00:00",
          "2018-01-05T00:00:00",
          "2018-01-12T00:00:00",
          "2018-01-19T00:00:00",
          "2018-01-26T00:00:00",
          "2018-02-02T00:00:00",
          "2018-02-09T00:00:00",
          "2018-02-16T00:00:00",
          "2018-02-23T00:00:00",
          "2018-03-02T00:00:00",
          "2018-03-09T00:00:00",
          "2018-03-16T00:00:00",
          "2018-03-23T00:00:00",
          "2018-03-30T00:00:00",
          "2018-04-06T00:00:00",
          "2018-04-13T00:00:00",
          "2018-04-20T00:00:00",
          "2018-04-27T00:00:00",
          "2018-05-04T00:00:00",
          "2018-05-11T00:00:00",
          "2018-05-18T00:00:00",
          "2018-05-25T00:00:00",
          "2018-06-01T00:00:00",
          "2018-06-08T00:00:00",
          "2018-06-15T00:00:00",
          "2018-06-22T00:00:00",
          "2018-06-29T00:00:00",
          "2018-07-06T00:00:00",
          "2018-07-13T00:00:00",
          "2018-07-20T00:00:00",
          "2018-07-27T00:00:00",
          "2018-08-03T00:00:00",
          "2018-08-10T00:00:00",
          "2018-08-17T00:00:00",
          "2018-08-24T00:00:00",
          "2018-08-31T00:00:00",
          "2018-09-07T00:00:00",
          "2018-09-14T00:00:00",
          "2018-09-21T00:00:00",
          "2018-09-28T00:00:00",
          "2018-10-05T00:00:00",
          "2018-10-12T00:00:00",
          "2018-10-19T00:00:00",
          "2018-10-26T00:00:00",
          "2018-11-02T00:00:00"
         ],
         "xaxis": "x",
         "y": [
          0.00959063384993924,
          -0.02844983687843632,
          -0.009288606549883853,
          0.023823452056953125,
          0.018989149801556377,
          -0.009242990121453912,
          -0.0021740024284121473,
          0.022926539000891887,
          0.02686451485297428,
          -0.030992547531313835,
          -0.006374068490378173,
          -0.006148086372087716,
          -0.006691280503026,
          -0.0067138599680528575,
          -0.007968241209666339,
          0.007726727421479443,
          -0.009437530962563742,
          -0.006590333014511964,
          -0.0019866776468369686,
          0.019970267524273264,
          0.006305053616862264,
          0.02372735655729482,
          -0.0012404190164754874,
          0.008902426597751272,
          0.003747798385582512,
          0.01583311761198662,
          -0.004834027264285476,
          0.011301039496213366,
          0.006405648275682638,
          -0.0007778662915166925,
          -0.01712673742596449,
          0.010002080039577093,
          0.008015528952654751,
          0.009438548261617339,
          -0.00784212129490163,
          -0.003642842499183734,
          0.015985608221545197,
          -0.0022883420948974125,
          0.011825603984669536,
          -0.018394307715641413,
          -0.009224190800191117,
          0.009252962947734025,
          0.021382343871885333,
          -0.022242700080746313,
          0.010809009807232603,
          -0.005477766948598212,
          0.015798577255917677,
          -0.003946757002405272,
          -0.009896413787691138,
          -0.013192644703537008,
          -0.013222621679906168,
          -0.03632717233302485,
          -0.021706848747422874,
          0.003740484804492138,
          -0.017081700148795082,
          -0.020327121858523024,
          0.011403959762235233,
          -0.0051258684014719655,
          0.0007049907682911085,
          0.016337939128961334,
          -0.015649629722437754,
          0.007293454834845678,
          0.004670840011262777,
          -0.00749402661109759,
          -0.01578851068249104,
          -0.014921728494154692,
          0.032447759543157546,
          0.009594797262525176,
          0.006871143979659353,
          -0.004701597894682715,
          0.011394276496258711,
          0.011348265428334427,
          -0.03462347600682427,
          0.02467835716230966,
          -0.018650495195613723,
          -0.01242757827989986,
          -0.0021197419788108766,
          -0.01996105567777773,
          0.0007726545862057414,
          0.03934805468911254,
          0.008282551174867847,
          -0.022843755214616745,
          0.012312990532689673,
          0.0037073810402752424,
          -0.000949784196636559,
          -0.004859017817248713,
          0.010454556519881274,
          -0.010569809986021727,
          -0.0027794919008695593,
          0.015418426045655936,
          0.016483614509258674,
          -0.0009365600649170845,
          -0.010793147675845764,
          0.0013715089274982401,
          -0.00260361161578941,
          0.010463056786836844,
          0.01805024103956475,
          0.013171013899614914,
          -0.009054273994788743,
          -0.023707828768069362,
          0.02680329342414941,
          -0.001091278233282267,
          -0.00117000167915225,
          -0.008903561775973476,
          0.0025883715904977548,
          0.003588875932748712,
          -0.0282412653579911,
          0.01924586408317728,
          -0.006577733529763839,
          -0.002590573183019485,
          0.038994405267687465,
          -0.008903129615203741,
          0.011106104763565796,
          -0.013626343844025059,
          0.01875278769833858,
          -0.00998037845731778,
          -0.004655397297347198,
          -0.002719303135864877,
          -0.0020735416688978394,
          0.03534226293632245,
          0.005779465663941625,
          0.006449165795463677,
          0.007090902239386131,
          -0.017107473854924022,
          0.019807427055874783,
          -0.029488830179800214,
          0.017472024730114485
         ],
         "yaxis": "y"
        },
        {
         "hovertemplate": "era=test<br>date=%{x}<br>era_score=%{y}<extra></extra>",
         "legendgroup": "test",
         "line": {
          "color": "#00cc96",
          "dash": "solid"
         },
         "mode": "lines",
         "name": "test",
         "orientation": "v",
         "showlegend": true,
         "type": "scatter",
         "x": [
          "2018-11-02T00:00:00",
          "2018-11-09T00:00:00",
          "2018-11-16T00:00:00",
          "2018-11-23T00:00:00",
          "2018-11-30T00:00:00",
          "2018-12-07T00:00:00",
          "2018-12-14T00:00:00",
          "2018-12-21T00:00:00",
          "2018-12-28T00:00:00",
          "2019-01-04T00:00:00",
          "2019-01-11T00:00:00",
          "2019-01-18T00:00:00",
          "2019-01-25T00:00:00",
          "2019-02-01T00:00:00",
          "2019-02-08T00:00:00",
          "2019-02-15T00:00:00",
          "2019-02-22T00:00:00",
          "2019-03-01T00:00:00",
          "2019-03-08T00:00:00",
          "2019-03-15T00:00:00",
          "2019-03-22T00:00:00",
          "2019-03-29T00:00:00",
          "2019-04-05T00:00:00",
          "2019-04-12T00:00:00",
          "2019-04-19T00:00:00",
          "2019-04-26T00:00:00",
          "2019-05-03T00:00:00",
          "2019-05-10T00:00:00",
          "2019-05-17T00:00:00",
          "2019-05-24T00:00:00",
          "2019-05-31T00:00:00",
          "2019-06-07T00:00:00",
          "2019-06-14T00:00:00",
          "2019-06-21T00:00:00",
          "2019-06-28T00:00:00",
          "2019-07-05T00:00:00",
          "2019-07-12T00:00:00",
          "2019-07-19T00:00:00",
          "2019-07-26T00:00:00",
          "2019-08-02T00:00:00",
          "2019-08-09T00:00:00",
          "2019-08-16T00:00:00",
          "2019-08-23T00:00:00",
          "2019-08-30T00:00:00",
          "2019-09-06T00:00:00",
          "2019-09-13T00:00:00",
          "2019-09-20T00:00:00",
          "2019-09-27T00:00:00",
          "2019-10-04T00:00:00",
          "2019-10-11T00:00:00",
          "2019-10-18T00:00:00",
          "2019-10-25T00:00:00",
          "2019-11-01T00:00:00",
          "2019-11-08T00:00:00",
          "2019-11-15T00:00:00",
          "2019-11-22T00:00:00",
          "2019-11-29T00:00:00",
          "2019-12-06T00:00:00",
          "2019-12-13T00:00:00",
          "2019-12-20T00:00:00",
          "2019-12-27T00:00:00",
          "2020-01-03T00:00:00",
          "2020-01-10T00:00:00",
          "2020-01-17T00:00:00",
          "2020-01-24T00:00:00",
          "2020-01-31T00:00:00",
          "2020-02-07T00:00:00",
          "2020-02-14T00:00:00",
          "2020-02-21T00:00:00",
          "2020-02-28T00:00:00",
          "2020-03-06T00:00:00",
          "2020-03-13T00:00:00",
          "2020-03-20T00:00:00",
          "2020-03-27T00:00:00",
          "2020-04-03T00:00:00",
          "2020-04-10T00:00:00",
          "2020-04-17T00:00:00",
          "2020-04-24T00:00:00",
          "2020-05-01T00:00:00",
          "2020-05-08T00:00:00",
          "2020-05-15T00:00:00",
          "2020-05-22T00:00:00",
          "2020-05-29T00:00:00",
          "2020-06-05T00:00:00",
          "2020-06-12T00:00:00",
          "2020-06-19T00:00:00",
          "2020-06-26T00:00:00",
          "2020-07-03T00:00:00",
          "2020-07-10T00:00:00",
          "2020-07-17T00:00:00",
          "2020-07-24T00:00:00",
          "2020-07-31T00:00:00",
          "2020-08-07T00:00:00",
          "2020-08-14T00:00:00",
          "2020-08-21T00:00:00",
          "2020-08-28T00:00:00",
          "2020-09-04T00:00:00",
          "2020-09-11T00:00:00",
          "2020-09-18T00:00:00",
          "2020-09-25T00:00:00",
          "2020-10-02T00:00:00",
          "2020-10-09T00:00:00",
          "2020-10-16T00:00:00",
          "2020-10-23T00:00:00",
          "2020-10-30T00:00:00",
          "2020-11-06T00:00:00",
          "2020-11-13T00:00:00",
          "2020-11-20T00:00:00",
          "2020-11-27T00:00:00",
          "2020-12-04T00:00:00",
          "2020-12-11T00:00:00",
          "2020-12-18T00:00:00",
          "2020-12-25T00:00:00",
          "2021-01-01T00:00:00",
          "2021-01-08T00:00:00",
          "2021-01-15T00:00:00",
          "2021-01-22T00:00:00",
          "2021-01-29T00:00:00",
          "2021-02-05T00:00:00",
          "2021-02-12T00:00:00",
          "2021-02-19T00:00:00",
          "2021-02-26T00:00:00",
          "2021-03-05T00:00:00",
          "2021-03-12T00:00:00",
          "2021-03-19T00:00:00",
          "2021-03-26T00:00:00",
          "2021-04-02T00:00:00"
         ],
         "xaxis": "x",
         "y": [
          0.012783560571046643,
          0.002542763721714337,
          -0.01312232639341382,
          0.022686906841219448,
          0.009851413853764892,
          0.0016378476712327731,
          -0.00869497993705676,
          0.006446128633429081,
          0.023907382006575936,
          -0.005806916607199754,
          0.004557790582158805,
          -0.0019106449162472755,
          0.019084098786135272,
          0.0027144908381171694,
          0.02835074502716931,
          0.007930384591308825,
          -0.002019761810664098,
          -0.004001685840986322,
          -0.02963717356113845,
          -0.0006386352724177414,
          0.008690229699703666,
          -0.009450557694866624,
          0.01312426345378177,
          0.01894714761678805,
          -0.005665533649697928,
          -0.015326718164430722,
          0.006459886432337505,
          -0.0068822570230450035,
          0.03325707232668795,
          0.0037260164713778837,
          -0.018022764518227673,
          0.0073131181770771745,
          0.006966311603025568,
          0.0063599306701592855,
          -0.005637552566890119,
          0.012134576116835799,
          0.015670831174891965,
          0.00554749929250805,
          0.016722850136222628,
          0.006068070906275934,
          -0.000373826018809898,
          0.0027377002465161725,
          0.012302467569702958,
          0.01629191615248167,
          0.04257983460584284,
          -0.001293992092610874,
          0.005711602353082381,
          0.02065670677273458,
          0.013714936428307593,
          0.027387670135182597,
          0.025536499227307306,
          0.011109725430250426,
          0.002861478990160911,
          0.01412225331551223,
          -0.005646998244651468,
          -0.01890213025814967,
          -0.016695385019433753,
          -0.001194426848907773,
          -0.0065620242321395,
          -0.005379347985749951,
          -0.00408606773266705,
          -0.009353086713000785,
          0.006945180913315621,
          -0.010881259852028936,
          0.014930263627580279,
          -0.0028093198352276967,
          -0.021796957223908703,
          -0.003968879232900657,
          0.01726050228986477,
          0.04012647118529707,
          0.0032068066113180933,
          0.0077449903679411595,
          -0.031065633880742387,
          0.018550132788758743,
          -0.000311458410422388,
          -0.020282472171591435,
          0.018167118821435964,
          -0.000912995066283006,
          -0.006307986551300225,
          0.0129361261825602,
          0.006679965804271006,
          0.0025082328599575756,
          -0.018035982672883307,
          -0.017979356834934925,
          0.0041571808814691745,
          -0.0009320309100313333,
          -0.0011372678236498048,
          0.009637780459296525,
          -0.0017086904520864131,
          0.004458231544850719,
          0.012021130817332155,
          0.014534126687186247,
          -0.012196840689242164,
          0.005909930720098032,
          0.00461181771673841,
          -0.007817269307808903,
          -0.00233316456607685,
          -0.003059721454254215,
          -0.012088253330308663,
          0.005516926336857831,
          -0.01998898435593619,
          0.009613301337965043,
          0.01160479273017506,
          -0.00978303858089281,
          -0.008179089516516113,
          0.03475889199550504,
          -0.00431704613113377,
          -0.01444886450113123,
          -0.0016305759337386146,
          -0.0004955605883205359,
          -0.01429309049617551,
          0.017874031782657143,
          0.009239342776680844,
          0.0066582836387224405,
          0.005986488660977792,
          -0.0118881555200781,
          -0.007564096548639736,
          0.010479156396546412,
          -0.004016219058589116,
          -0.01285857230609903,
          0.019133199126677197,
          0.02944734205817947,
          -0.03111101110343791,
          -0.011809667253927897,
          -0.013116406360284714,
          -0.005146403721276977,
          -0.020958648477753753
         ],
         "yaxis": "y"
        }
       ],
       "layout": {
        "legend": {
         "title": {
          "text": "era"
         },
         "tracegroupgap": 0
        },
        "margin": {
         "t": 60
        },
        "template": {
         "data": {
          "bar": [
           {
            "error_x": {
             "color": "#2a3f5f"
            },
            "error_y": {
             "color": "#2a3f5f"
            },
            "marker": {
             "line": {
              "color": "#E5ECF6",
              "width": 0.5
             }
            },
            "type": "bar"
           }
          ],
          "barpolar": [
           {
            "marker": {
             "line": {
              "color": "#E5ECF6",
              "width": 0.5
             }
            },
            "type": "barpolar"
           }
          ],
          "carpet": [
           {
            "aaxis": {
             "endlinecolor": "#2a3f5f",
             "gridcolor": "white",
             "linecolor": "white",
             "minorgridcolor": "white",
             "startlinecolor": "#2a3f5f"
            },
            "baxis": {
             "endlinecolor": "#2a3f5f",
             "gridcolor": "white",
             "linecolor": "white",
             "minorgridcolor": "white",
             "startlinecolor": "#2a3f5f"
            },
            "type": "carpet"
           }
          ],
          "choropleth": [
           {
            "colorbar": {
             "outlinewidth": 0,
             "ticks": ""
            },
            "type": "choropleth"
           }
          ],
          "contour": [
           {
            "colorbar": {
             "outlinewidth": 0,
             "ticks": ""
            },
            "colorscale": [
             [
              0,
              "#0d0887"
             ],
             [
              0.1111111111111111,
              "#46039f"
             ],
             [
              0.2222222222222222,
              "#7201a8"
             ],
             [
              0.3333333333333333,
              "#9c179e"
             ],
             [
              0.4444444444444444,
              "#bd3786"
             ],
             [
              0.5555555555555556,
              "#d8576b"
             ],
             [
              0.6666666666666666,
              "#ed7953"
             ],
             [
              0.7777777777777778,
              "#fb9f3a"
             ],
             [
              0.8888888888888888,
              "#fdca26"
             ],
             [
              1,
              "#f0f921"
             ]
            ],
            "type": "contour"
           }
          ],
          "contourcarpet": [
           {
            "colorbar": {
             "outlinewidth": 0,
             "ticks": ""
            },
            "type": "contourcarpet"
           }
          ],
          "heatmap": [
           {
            "colorbar": {
             "outlinewidth": 0,
             "ticks": ""
            },
            "colorscale": [
             [
              0,
              "#0d0887"
             ],
             [
              0.1111111111111111,
              "#46039f"
             ],
             [
              0.2222222222222222,
              "#7201a8"
             ],
             [
              0.3333333333333333,
              "#9c179e"
             ],
             [
              0.4444444444444444,
              "#bd3786"
             ],
             [
              0.5555555555555556,
              "#d8576b"
             ],
             [
              0.6666666666666666,
              "#ed7953"
             ],
             [
              0.7777777777777778,
              "#fb9f3a"
             ],
             [
              0.8888888888888888,
              "#fdca26"
             ],
             [
              1,
              "#f0f921"
             ]
            ],
            "type": "heatmap"
           }
          ],
          "heatmapgl": [
           {
            "colorbar": {
             "outlinewidth": 0,
             "ticks": ""
            },
            "colorscale": [
             [
              0,
              "#0d0887"
             ],
             [
              0.1111111111111111,
              "#46039f"
             ],
             [
              0.2222222222222222,
              "#7201a8"
             ],
             [
              0.3333333333333333,
              "#9c179e"
             ],
             [
              0.4444444444444444,
              "#bd3786"
             ],
             [
              0.5555555555555556,
              "#d8576b"
             ],
             [
              0.6666666666666666,
              "#ed7953"
             ],
             [
              0.7777777777777778,
              "#fb9f3a"
             ],
             [
              0.8888888888888888,
              "#fdca26"
             ],
             [
              1,
              "#f0f921"
             ]
            ],
            "type": "heatmapgl"
           }
          ],
          "histogram": [
           {
            "marker": {
             "colorbar": {
              "outlinewidth": 0,
              "ticks": ""
             }
            },
            "type": "histogram"
           }
          ],
          "histogram2d": [
           {
            "colorbar": {
             "outlinewidth": 0,
             "ticks": ""
            },
            "colorscale": [
             [
              0,
              "#0d0887"
             ],
             [
              0.1111111111111111,
              "#46039f"
             ],
             [
              0.2222222222222222,
              "#7201a8"
             ],
             [
              0.3333333333333333,
              "#9c179e"
             ],
             [
              0.4444444444444444,
              "#bd3786"
             ],
             [
              0.5555555555555556,
              "#d8576b"
             ],
             [
              0.6666666666666666,
              "#ed7953"
             ],
             [
              0.7777777777777778,
              "#fb9f3a"
             ],
             [
              0.8888888888888888,
              "#fdca26"
             ],
             [
              1,
              "#f0f921"
             ]
            ],
            "type": "histogram2d"
           }
          ],
          "histogram2dcontour": [
           {
            "colorbar": {
             "outlinewidth": 0,
             "ticks": ""
            },
            "colorscale": [
             [
              0,
              "#0d0887"
             ],
             [
              0.1111111111111111,
              "#46039f"
             ],
             [
              0.2222222222222222,
              "#7201a8"
             ],
             [
              0.3333333333333333,
              "#9c179e"
             ],
             [
              0.4444444444444444,
              "#bd3786"
             ],
             [
              0.5555555555555556,
              "#d8576b"
             ],
             [
              0.6666666666666666,
              "#ed7953"
             ],
             [
              0.7777777777777778,
              "#fb9f3a"
             ],
             [
              0.8888888888888888,
              "#fdca26"
             ],
             [
              1,
              "#f0f921"
             ]
            ],
            "type": "histogram2dcontour"
           }
          ],
          "mesh3d": [
           {
            "colorbar": {
             "outlinewidth": 0,
             "ticks": ""
            },
            "type": "mesh3d"
           }
          ],
          "parcoords": [
           {
            "line": {
             "colorbar": {
              "outlinewidth": 0,
              "ticks": ""
             }
            },
            "type": "parcoords"
           }
          ],
          "pie": [
           {
            "automargin": true,
            "type": "pie"
           }
          ],
          "scatter": [
           {
            "marker": {
             "colorbar": {
              "outlinewidth": 0,
              "ticks": ""
             }
            },
            "type": "scatter"
           }
          ],
          "scatter3d": [
           {
            "line": {
             "colorbar": {
              "outlinewidth": 0,
              "ticks": ""
             }
            },
            "marker": {
             "colorbar": {
              "outlinewidth": 0,
              "ticks": ""
             }
            },
            "type": "scatter3d"
           }
          ],
          "scattercarpet": [
           {
            "marker": {
             "colorbar": {
              "outlinewidth": 0,
              "ticks": ""
             }
            },
            "type": "scattercarpet"
           }
          ],
          "scattergeo": [
           {
            "marker": {
             "colorbar": {
              "outlinewidth": 0,
              "ticks": ""
             }
            },
            "type": "scattergeo"
           }
          ],
          "scattergl": [
           {
            "marker": {
             "colorbar": {
              "outlinewidth": 0,
              "ticks": ""
             }
            },
            "type": "scattergl"
           }
          ],
          "scattermapbox": [
           {
            "marker": {
             "colorbar": {
              "outlinewidth": 0,
              "ticks": ""
             }
            },
            "type": "scattermapbox"
           }
          ],
          "scatterpolar": [
           {
            "marker": {
             "colorbar": {
              "outlinewidth": 0,
              "ticks": ""
             }
            },
            "type": "scatterpolar"
           }
          ],
          "scatterpolargl": [
           {
            "marker": {
             "colorbar": {
              "outlinewidth": 0,
              "ticks": ""
             }
            },
            "type": "scatterpolargl"
           }
          ],
          "scatterternary": [
           {
            "marker": {
             "colorbar": {
              "outlinewidth": 0,
              "ticks": ""
             }
            },
            "type": "scatterternary"
           }
          ],
          "surface": [
           {
            "colorbar": {
             "outlinewidth": 0,
             "ticks": ""
            },
            "colorscale": [
             [
              0,
              "#0d0887"
             ],
             [
              0.1111111111111111,
              "#46039f"
             ],
             [
              0.2222222222222222,
              "#7201a8"
             ],
             [
              0.3333333333333333,
              "#9c179e"
             ],
             [
              0.4444444444444444,
              "#bd3786"
             ],
             [
              0.5555555555555556,
              "#d8576b"
             ],
             [
              0.6666666666666666,
              "#ed7953"
             ],
             [
              0.7777777777777778,
              "#fb9f3a"
             ],
             [
              0.8888888888888888,
              "#fdca26"
             ],
             [
              1,
              "#f0f921"
             ]
            ],
            "type": "surface"
           }
          ],
          "table": [
           {
            "cells": {
             "fill": {
              "color": "#EBF0F8"
             },
             "line": {
              "color": "white"
             }
            },
            "header": {
             "fill": {
              "color": "#C8D4E3"
             },
             "line": {
              "color": "white"
             }
            },
            "type": "table"
           }
          ]
         },
         "layout": {
          "annotationdefaults": {
           "arrowcolor": "#2a3f5f",
           "arrowhead": 0,
           "arrowwidth": 1
          },
          "autotypenumbers": "strict",
          "coloraxis": {
           "colorbar": {
            "outlinewidth": 0,
            "ticks": ""
           }
          },
          "colorscale": {
           "diverging": [
            [
             0,
             "#8e0152"
            ],
            [
             0.1,
             "#c51b7d"
            ],
            [
             0.2,
             "#de77ae"
            ],
            [
             0.3,
             "#f1b6da"
            ],
            [
             0.4,
             "#fde0ef"
            ],
            [
             0.5,
             "#f7f7f7"
            ],
            [
             0.6,
             "#e6f5d0"
            ],
            [
             0.7,
             "#b8e186"
            ],
            [
             0.8,
             "#7fbc41"
            ],
            [
             0.9,
             "#4d9221"
            ],
            [
             1,
             "#276419"
            ]
           ],
           "sequential": [
            [
             0,
             "#0d0887"
            ],
            [
             0.1111111111111111,
             "#46039f"
            ],
            [
             0.2222222222222222,
             "#7201a8"
            ],
            [
             0.3333333333333333,
             "#9c179e"
            ],
            [
             0.4444444444444444,
             "#bd3786"
            ],
            [
             0.5555555555555556,
             "#d8576b"
            ],
            [
             0.6666666666666666,
             "#ed7953"
            ],
            [
             0.7777777777777778,
             "#fb9f3a"
            ],
            [
             0.8888888888888888,
             "#fdca26"
            ],
            [
             1,
             "#f0f921"
            ]
           ],
           "sequentialminus": [
            [
             0,
             "#0d0887"
            ],
            [
             0.1111111111111111,
             "#46039f"
            ],
            [
             0.2222222222222222,
             "#7201a8"
            ],
            [
             0.3333333333333333,
             "#9c179e"
            ],
            [
             0.4444444444444444,
             "#bd3786"
            ],
            [
             0.5555555555555556,
             "#d8576b"
            ],
            [
             0.6666666666666666,
             "#ed7953"
            ],
            [
             0.7777777777777778,
             "#fb9f3a"
            ],
            [
             0.8888888888888888,
             "#fdca26"
            ],
            [
             1,
             "#f0f921"
            ]
           ]
          },
          "colorway": [
           "#636efa",
           "#EF553B",
           "#00cc96",
           "#ab63fa",
           "#FFA15A",
           "#19d3f3",
           "#FF6692",
           "#B6E880",
           "#FF97FF",
           "#FECB52"
          ],
          "font": {
           "color": "#2a3f5f"
          },
          "geo": {
           "bgcolor": "white",
           "lakecolor": "white",
           "landcolor": "#E5ECF6",
           "showlakes": true,
           "showland": true,
           "subunitcolor": "white"
          },
          "hoverlabel": {
           "align": "left"
          },
          "hovermode": "closest",
          "mapbox": {
           "style": "light"
          },
          "paper_bgcolor": "white",
          "plot_bgcolor": "#E5ECF6",
          "polar": {
           "angularaxis": {
            "gridcolor": "white",
            "linecolor": "white",
            "ticks": ""
           },
           "bgcolor": "#E5ECF6",
           "radialaxis": {
            "gridcolor": "white",
            "linecolor": "white",
            "ticks": ""
           }
          },
          "scene": {
           "xaxis": {
            "backgroundcolor": "#E5ECF6",
            "gridcolor": "white",
            "gridwidth": 2,
            "linecolor": "white",
            "showbackground": true,
            "ticks": "",
            "zerolinecolor": "white"
           },
           "yaxis": {
            "backgroundcolor": "#E5ECF6",
            "gridcolor": "white",
            "gridwidth": 2,
            "linecolor": "white",
            "showbackground": true,
            "ticks": "",
            "zerolinecolor": "white"
           },
           "zaxis": {
            "backgroundcolor": "#E5ECF6",
            "gridcolor": "white",
            "gridwidth": 2,
            "linecolor": "white",
            "showbackground": true,
            "ticks": "",
            "zerolinecolor": "white"
           }
          },
          "shapedefaults": {
           "line": {
            "color": "#2a3f5f"
           }
          },
          "ternary": {
           "aaxis": {
            "gridcolor": "white",
            "linecolor": "white",
            "ticks": ""
           },
           "baxis": {
            "gridcolor": "white",
            "linecolor": "white",
            "ticks": ""
           },
           "bgcolor": "#E5ECF6",
           "caxis": {
            "gridcolor": "white",
            "linecolor": "white",
            "ticks": ""
           }
          },
          "title": {
           "x": 0.05
          },
          "xaxis": {
           "automargin": true,
           "gridcolor": "white",
           "linecolor": "white",
           "ticks": "",
           "title": {
            "standoff": 15
           },
           "zerolinecolor": "white",
           "zerolinewidth": 2
          },
          "yaxis": {
           "automargin": true,
           "gridcolor": "white",
           "linecolor": "white",
           "ticks": "",
           "title": {
            "standoff": 15
           },
           "zerolinecolor": "white",
           "zerolinewidth": 2
          }
         }
        },
        "xaxis": {
         "anchor": "y",
         "domain": [
          0,
          1
         ],
         "title": {
          "text": "date"
         }
        },
        "yaxis": {
         "anchor": "x",
         "domain": [
          0,
          1
         ],
         "title": {
          "text": "era_score"
         }
        }
       }
      },
      "text/html": [
       "<div>                            <div id=\"73f6cdc5-0372-445b-b1f1-824c8ab79eb4\" class=\"plotly-graph-div\" style=\"height:525px; width:100%;\"></div>            <script type=\"text/javascript\">                require([\"plotly\"], function(Plotly) {                    window.PLOTLYENV=window.PLOTLYENV || {};                                    if (document.getElementById(\"73f6cdc5-0372-445b-b1f1-824c8ab79eb4\")) {                    Plotly.newPlot(                        \"73f6cdc5-0372-445b-b1f1-824c8ab79eb4\",                        [{\"hovertemplate\": \"era=train<br>date=%{x}<br>era_score=%{y}<extra></extra>\", \"legendgroup\": \"train\", \"line\": {\"color\": \"#636efa\", \"dash\": \"solid\"}, \"mode\": \"lines\", \"name\": \"train\", \"orientation\": \"v\", \"showlegend\": true, \"type\": \"scatter\", \"x\": [\"2005-01-07T00:00:00\", \"2005-01-14T00:00:00\", \"2005-01-21T00:00:00\", \"2005-01-28T00:00:00\", \"2005-02-04T00:00:00\", \"2005-02-11T00:00:00\", \"2005-02-18T00:00:00\", \"2005-02-25T00:00:00\", \"2005-03-04T00:00:00\", \"2005-03-11T00:00:00\", \"2005-03-18T00:00:00\", \"2005-03-25T00:00:00\", \"2005-04-01T00:00:00\", \"2005-04-08T00:00:00\", \"2005-04-15T00:00:00\", \"2005-04-22T00:00:00\", \"2005-04-29T00:00:00\", \"2005-05-06T00:00:00\", \"2005-05-13T00:00:00\", \"2005-05-20T00:00:00\", \"2005-05-27T00:00:00\", \"2005-06-03T00:00:00\", \"2005-06-10T00:00:00\", \"2005-06-17T00:00:00\", \"2005-06-24T00:00:00\", \"2005-07-01T00:00:00\", \"2005-07-08T00:00:00\", \"2005-07-15T00:00:00\", \"2005-07-22T00:00:00\", \"2005-07-29T00:00:00\", \"2005-08-05T00:00:00\", \"2005-08-12T00:00:00\", \"2005-08-19T00:00:00\", \"2005-08-26T00:00:00\", \"2005-09-02T00:00:00\", \"2005-09-09T00:00:00\", \"2005-09-16T00:00:00\", \"2005-09-23T00:00:00\", \"2005-09-30T00:00:00\", \"2005-10-07T00:00:00\", \"2005-10-14T00:00:00\", \"2005-10-21T00:00:00\", \"2005-10-28T00:00:00\", \"2005-11-04T00:00:00\", \"2005-11-11T00:00:00\", \"2005-11-18T00:00:00\", \"2005-11-25T00:00:00\", \"2005-12-02T00:00:00\", \"2005-12-09T00:00:00\", \"2005-12-16T00:00:00\", \"2005-12-23T00:00:00\", \"2005-12-30T00:00:00\", \"2006-01-06T00:00:00\", \"2006-01-13T00:00:00\", \"2006-01-20T00:00:00\", \"2006-01-27T00:00:00\", \"2006-02-03T00:00:00\", \"2006-02-10T00:00:00\", \"2006-02-17T00:00:00\", \"2006-02-24T00:00:00\", \"2006-03-03T00:00:00\", \"2006-03-10T00:00:00\", \"2006-03-17T00:00:00\", \"2006-03-24T00:00:00\", \"2006-03-31T00:00:00\", \"2006-04-07T00:00:00\", \"2006-04-14T00:00:00\", \"2006-04-21T00:00:00\", \"2006-04-28T00:00:00\", \"2006-05-05T00:00:00\", \"2006-05-12T00:00:00\", \"2006-05-19T00:00:00\", \"2006-05-26T00:00:00\", \"2006-06-02T00:00:00\", \"2006-06-09T00:00:00\", \"2006-06-16T00:00:00\", \"2006-06-23T00:00:00\", \"2006-06-30T00:00:00\", \"2006-07-07T00:00:00\", \"2006-07-14T00:00:00\", \"2006-07-21T00:00:00\", \"2006-07-28T00:00:00\", \"2006-08-04T00:00:00\", \"2006-08-11T00:00:00\", \"2006-08-18T00:00:00\", \"2006-08-25T00:00:00\", \"2006-09-01T00:00:00\", \"2006-09-08T00:00:00\", \"2006-09-15T00:00:00\", \"2006-09-22T00:00:00\", \"2006-09-29T00:00:00\", \"2006-10-06T00:00:00\", \"2006-10-13T00:00:00\", \"2006-10-20T00:00:00\", \"2006-10-27T00:00:00\", \"2006-11-03T00:00:00\", \"2006-11-10T00:00:00\", \"2006-11-17T00:00:00\", \"2006-11-24T00:00:00\", \"2006-12-01T00:00:00\", \"2006-12-08T00:00:00\", \"2006-12-15T00:00:00\", \"2006-12-22T00:00:00\", \"2006-12-29T00:00:00\", \"2007-01-05T00:00:00\", \"2007-01-12T00:00:00\", \"2007-01-19T00:00:00\", \"2007-01-26T00:00:00\", \"2007-02-02T00:00:00\", \"2007-02-09T00:00:00\", \"2007-02-16T00:00:00\", \"2007-02-23T00:00:00\", \"2007-03-02T00:00:00\", \"2007-03-09T00:00:00\", \"2007-03-16T00:00:00\", \"2007-03-23T00:00:00\", \"2007-03-30T00:00:00\", \"2007-04-06T00:00:00\", \"2007-04-13T00:00:00\", \"2007-04-20T00:00:00\", \"2007-04-27T00:00:00\", \"2007-05-04T00:00:00\", \"2007-05-11T00:00:00\", \"2007-05-18T00:00:00\", \"2007-05-25T00:00:00\", \"2007-06-01T00:00:00\", \"2007-06-08T00:00:00\", \"2007-06-15T00:00:00\", \"2007-06-22T00:00:00\", \"2007-06-29T00:00:00\", \"2007-07-06T00:00:00\", \"2007-07-13T00:00:00\", \"2007-07-20T00:00:00\", \"2007-07-27T00:00:00\", \"2007-08-03T00:00:00\", \"2007-08-10T00:00:00\", \"2007-08-17T00:00:00\", \"2007-08-24T00:00:00\", \"2007-08-31T00:00:00\", \"2007-09-07T00:00:00\", \"2007-09-14T00:00:00\", \"2007-09-21T00:00:00\", \"2007-09-28T00:00:00\", \"2007-10-05T00:00:00\", \"2007-10-12T00:00:00\", \"2007-10-19T00:00:00\", \"2007-10-26T00:00:00\", \"2007-11-02T00:00:00\", \"2007-11-09T00:00:00\", \"2007-11-16T00:00:00\", \"2007-11-23T00:00:00\", \"2007-11-30T00:00:00\", \"2007-12-07T00:00:00\", \"2007-12-14T00:00:00\", \"2007-12-21T00:00:00\", \"2007-12-28T00:00:00\", \"2008-01-04T00:00:00\", \"2008-01-11T00:00:00\", \"2008-01-18T00:00:00\", \"2008-01-25T00:00:00\", \"2008-02-01T00:00:00\", \"2008-02-08T00:00:00\", \"2008-02-15T00:00:00\", \"2008-02-22T00:00:00\", \"2008-02-29T00:00:00\", \"2008-03-07T00:00:00\", \"2008-03-14T00:00:00\", \"2008-03-21T00:00:00\", \"2008-03-28T00:00:00\", \"2008-04-04T00:00:00\", \"2008-04-11T00:00:00\", \"2008-04-18T00:00:00\", \"2008-04-25T00:00:00\", \"2008-05-02T00:00:00\", \"2008-05-09T00:00:00\", \"2008-05-16T00:00:00\", \"2008-05-23T00:00:00\", \"2008-05-30T00:00:00\", \"2008-06-06T00:00:00\", \"2008-06-13T00:00:00\", \"2008-06-20T00:00:00\", \"2008-06-27T00:00:00\", \"2008-07-04T00:00:00\", \"2008-07-11T00:00:00\", \"2008-07-18T00:00:00\", \"2008-07-25T00:00:00\", \"2008-08-01T00:00:00\", \"2008-08-08T00:00:00\", \"2008-08-15T00:00:00\", \"2008-08-22T00:00:00\", \"2008-08-29T00:00:00\", \"2008-09-05T00:00:00\", \"2008-09-12T00:00:00\", \"2008-09-19T00:00:00\", \"2008-09-26T00:00:00\", \"2008-10-03T00:00:00\", \"2008-10-10T00:00:00\", \"2008-10-17T00:00:00\", \"2008-10-24T00:00:00\", \"2008-10-31T00:00:00\", \"2008-11-07T00:00:00\", \"2008-11-14T00:00:00\", \"2008-11-21T00:00:00\", \"2008-11-28T00:00:00\", \"2008-12-05T00:00:00\", \"2008-12-12T00:00:00\", \"2008-12-19T00:00:00\", \"2008-12-26T00:00:00\", \"2009-01-02T00:00:00\", \"2009-01-09T00:00:00\", \"2009-01-16T00:00:00\", \"2009-01-23T00:00:00\", \"2009-01-30T00:00:00\", \"2009-02-06T00:00:00\", \"2009-02-13T00:00:00\", \"2009-02-20T00:00:00\", \"2009-02-27T00:00:00\", \"2009-03-06T00:00:00\", \"2009-03-13T00:00:00\", \"2009-03-20T00:00:00\", \"2009-03-27T00:00:00\", \"2009-04-03T00:00:00\", \"2009-04-10T00:00:00\", \"2009-04-17T00:00:00\", \"2009-04-24T00:00:00\", \"2009-05-01T00:00:00\", \"2009-05-08T00:00:00\", \"2009-05-15T00:00:00\", \"2009-05-22T00:00:00\", \"2009-05-29T00:00:00\", \"2009-06-05T00:00:00\", \"2009-06-12T00:00:00\", \"2009-06-19T00:00:00\", \"2009-06-26T00:00:00\", \"2009-07-03T00:00:00\", \"2009-07-10T00:00:00\", \"2009-07-17T00:00:00\", \"2009-07-24T00:00:00\", \"2009-07-31T00:00:00\", \"2009-08-07T00:00:00\", \"2009-08-14T00:00:00\", \"2009-08-21T00:00:00\", \"2009-08-28T00:00:00\", \"2009-09-04T00:00:00\", \"2009-09-11T00:00:00\", \"2009-09-18T00:00:00\", \"2009-09-25T00:00:00\", \"2009-10-02T00:00:00\", \"2009-10-09T00:00:00\", \"2009-10-16T00:00:00\", \"2009-10-23T00:00:00\", \"2009-10-30T00:00:00\", \"2009-11-06T00:00:00\", \"2009-11-13T00:00:00\", \"2009-11-20T00:00:00\", \"2009-11-27T00:00:00\", \"2009-12-04T00:00:00\", \"2009-12-11T00:00:00\", \"2009-12-18T00:00:00\", \"2009-12-25T00:00:00\", \"2010-01-01T00:00:00\", \"2010-01-08T00:00:00\", \"2010-01-15T00:00:00\", \"2010-01-22T00:00:00\", \"2010-01-29T00:00:00\", \"2010-02-05T00:00:00\", \"2010-02-12T00:00:00\", \"2010-02-19T00:00:00\", \"2010-02-26T00:00:00\", \"2010-03-05T00:00:00\", \"2010-03-12T00:00:00\", \"2010-03-19T00:00:00\", \"2010-03-26T00:00:00\", \"2010-04-02T00:00:00\", \"2010-04-09T00:00:00\", \"2010-04-16T00:00:00\", \"2010-04-23T00:00:00\", \"2010-04-30T00:00:00\", \"2010-05-07T00:00:00\", \"2010-05-14T00:00:00\", \"2010-05-21T00:00:00\", \"2010-05-28T00:00:00\", \"2010-06-04T00:00:00\", \"2010-06-11T00:00:00\", \"2010-06-18T00:00:00\", \"2010-06-25T00:00:00\", \"2010-07-02T00:00:00\", \"2010-07-09T00:00:00\", \"2010-07-16T00:00:00\", \"2010-07-23T00:00:00\", \"2010-07-30T00:00:00\", \"2010-08-06T00:00:00\", \"2010-08-13T00:00:00\", \"2010-08-20T00:00:00\", \"2010-08-27T00:00:00\", \"2010-09-03T00:00:00\", \"2010-09-10T00:00:00\", \"2010-09-17T00:00:00\", \"2010-09-24T00:00:00\", \"2010-10-01T00:00:00\", \"2010-10-08T00:00:00\", \"2010-10-15T00:00:00\", \"2010-10-22T00:00:00\", \"2010-10-29T00:00:00\", \"2010-11-05T00:00:00\", \"2010-11-12T00:00:00\", \"2010-11-19T00:00:00\", \"2010-11-26T00:00:00\", \"2010-12-03T00:00:00\", \"2010-12-10T00:00:00\", \"2010-12-17T00:00:00\", \"2010-12-24T00:00:00\", \"2010-12-31T00:00:00\", \"2011-01-07T00:00:00\", \"2011-01-14T00:00:00\", \"2011-01-21T00:00:00\", \"2011-01-28T00:00:00\", \"2011-02-04T00:00:00\", \"2011-02-11T00:00:00\", \"2011-02-18T00:00:00\", \"2011-02-25T00:00:00\", \"2011-03-04T00:00:00\", \"2011-03-11T00:00:00\", \"2011-03-18T00:00:00\", \"2011-03-25T00:00:00\", \"2011-04-01T00:00:00\", \"2011-04-08T00:00:00\", \"2011-04-15T00:00:00\", \"2011-04-22T00:00:00\", \"2011-04-29T00:00:00\", \"2011-05-06T00:00:00\", \"2011-05-13T00:00:00\", \"2011-05-20T00:00:00\", \"2011-05-27T00:00:00\", \"2011-06-03T00:00:00\", \"2011-06-10T00:00:00\", \"2011-06-17T00:00:00\", \"2011-06-24T00:00:00\", \"2011-07-01T00:00:00\", \"2011-07-08T00:00:00\", \"2011-07-15T00:00:00\", \"2011-07-22T00:00:00\", \"2011-07-29T00:00:00\", \"2011-08-05T00:00:00\", \"2011-08-12T00:00:00\", \"2011-08-19T00:00:00\", \"2011-08-26T00:00:00\", \"2011-09-02T00:00:00\", \"2011-09-09T00:00:00\", \"2011-09-16T00:00:00\", \"2011-09-23T00:00:00\", \"2011-09-30T00:00:00\", \"2011-10-07T00:00:00\", \"2011-10-14T00:00:00\", \"2011-10-21T00:00:00\", \"2011-10-28T00:00:00\", \"2011-11-04T00:00:00\", \"2011-11-11T00:00:00\", \"2011-11-18T00:00:00\", \"2011-11-25T00:00:00\", \"2011-12-02T00:00:00\", \"2011-12-09T00:00:00\", \"2011-12-16T00:00:00\", \"2011-12-23T00:00:00\", \"2011-12-30T00:00:00\", \"2012-01-06T00:00:00\", \"2012-01-13T00:00:00\", \"2012-01-20T00:00:00\", \"2012-01-27T00:00:00\", \"2012-02-03T00:00:00\", \"2012-02-10T00:00:00\", \"2012-02-17T00:00:00\", \"2012-02-24T00:00:00\", \"2012-03-02T00:00:00\", \"2012-03-09T00:00:00\", \"2012-03-16T00:00:00\", \"2012-03-23T00:00:00\", \"2012-03-30T00:00:00\", \"2012-04-06T00:00:00\", \"2012-04-13T00:00:00\", \"2012-04-20T00:00:00\", \"2012-04-27T00:00:00\", \"2012-05-04T00:00:00\", \"2012-05-11T00:00:00\", \"2012-05-18T00:00:00\", \"2012-05-25T00:00:00\", \"2012-06-01T00:00:00\", \"2012-06-08T00:00:00\", \"2012-06-15T00:00:00\", \"2012-06-22T00:00:00\", \"2012-06-29T00:00:00\", \"2012-07-06T00:00:00\", \"2012-07-13T00:00:00\", \"2012-07-20T00:00:00\", \"2012-07-27T00:00:00\", \"2012-08-03T00:00:00\", \"2012-08-10T00:00:00\", \"2012-08-17T00:00:00\", \"2012-08-24T00:00:00\", \"2012-08-31T00:00:00\", \"2012-09-07T00:00:00\", \"2012-09-14T00:00:00\", \"2012-09-21T00:00:00\", \"2012-09-28T00:00:00\", \"2012-10-05T00:00:00\", \"2012-10-12T00:00:00\", \"2012-10-19T00:00:00\", \"2012-10-26T00:00:00\", \"2012-11-02T00:00:00\", \"2012-11-09T00:00:00\", \"2012-11-16T00:00:00\", \"2012-11-23T00:00:00\", \"2012-11-30T00:00:00\", \"2012-12-07T00:00:00\", \"2012-12-14T00:00:00\", \"2012-12-21T00:00:00\", \"2012-12-28T00:00:00\", \"2013-01-04T00:00:00\", \"2013-01-11T00:00:00\", \"2013-01-18T00:00:00\", \"2013-01-25T00:00:00\", \"2013-02-01T00:00:00\", \"2013-02-08T00:00:00\", \"2013-02-15T00:00:00\", \"2013-02-22T00:00:00\", \"2013-03-01T00:00:00\", \"2013-03-08T00:00:00\", \"2013-03-15T00:00:00\", \"2013-03-22T00:00:00\", \"2013-03-29T00:00:00\", \"2013-04-05T00:00:00\", \"2013-04-12T00:00:00\", \"2013-04-19T00:00:00\", \"2013-04-26T00:00:00\", \"2013-05-03T00:00:00\", \"2013-05-10T00:00:00\", \"2013-05-17T00:00:00\", \"2013-05-24T00:00:00\", \"2013-05-31T00:00:00\", \"2013-06-07T00:00:00\", \"2013-06-14T00:00:00\", \"2013-06-21T00:00:00\", \"2013-06-28T00:00:00\", \"2013-07-05T00:00:00\", \"2013-07-12T00:00:00\", \"2013-07-19T00:00:00\", \"2013-07-26T00:00:00\", \"2013-08-02T00:00:00\", \"2013-08-09T00:00:00\", \"2013-08-16T00:00:00\", \"2013-08-23T00:00:00\", \"2013-08-30T00:00:00\", \"2013-09-06T00:00:00\", \"2013-09-13T00:00:00\", \"2013-09-20T00:00:00\", \"2013-09-27T00:00:00\", \"2013-10-04T00:00:00\", \"2013-10-11T00:00:00\", \"2013-10-18T00:00:00\", \"2013-10-25T00:00:00\", \"2013-11-01T00:00:00\", \"2013-11-08T00:00:00\", \"2013-11-15T00:00:00\", \"2013-11-22T00:00:00\", \"2013-11-29T00:00:00\", \"2013-12-06T00:00:00\", \"2013-12-13T00:00:00\", \"2013-12-20T00:00:00\", \"2013-12-27T00:00:00\", \"2014-01-03T00:00:00\", \"2014-01-10T00:00:00\", \"2014-01-17T00:00:00\", \"2014-01-24T00:00:00\", \"2014-01-31T00:00:00\", \"2014-02-07T00:00:00\", \"2014-02-14T00:00:00\", \"2014-02-21T00:00:00\", \"2014-02-28T00:00:00\", \"2014-03-07T00:00:00\", \"2014-03-14T00:00:00\", \"2014-03-21T00:00:00\", \"2014-03-28T00:00:00\", \"2014-04-04T00:00:00\", \"2014-04-11T00:00:00\", \"2014-04-18T00:00:00\", \"2014-04-25T00:00:00\", \"2014-05-02T00:00:00\", \"2014-05-09T00:00:00\", \"2014-05-16T00:00:00\", \"2014-05-23T00:00:00\", \"2014-05-30T00:00:00\", \"2014-06-06T00:00:00\", \"2014-06-13T00:00:00\", \"2014-06-20T00:00:00\", \"2014-06-27T00:00:00\", \"2014-07-04T00:00:00\", \"2014-07-11T00:00:00\", \"2014-07-18T00:00:00\", \"2014-07-25T00:00:00\", \"2014-08-01T00:00:00\", \"2014-08-08T00:00:00\", \"2014-08-15T00:00:00\", \"2014-08-22T00:00:00\", \"2014-08-29T00:00:00\", \"2014-09-05T00:00:00\", \"2014-09-12T00:00:00\", \"2014-09-19T00:00:00\", \"2014-09-26T00:00:00\", \"2014-10-03T00:00:00\", \"2014-10-10T00:00:00\", \"2014-10-17T00:00:00\", \"2014-10-24T00:00:00\", \"2014-10-31T00:00:00\", \"2014-11-07T00:00:00\", \"2014-11-14T00:00:00\", \"2014-11-21T00:00:00\", \"2014-11-28T00:00:00\", \"2014-12-05T00:00:00\", \"2014-12-12T00:00:00\", \"2014-12-19T00:00:00\", \"2014-12-26T00:00:00\", \"2015-01-02T00:00:00\", \"2015-01-09T00:00:00\", \"2015-01-16T00:00:00\", \"2015-01-23T00:00:00\", \"2015-01-30T00:00:00\", \"2015-02-06T00:00:00\", \"2015-02-13T00:00:00\", \"2015-02-20T00:00:00\", \"2015-02-27T00:00:00\", \"2015-03-06T00:00:00\", \"2015-03-13T00:00:00\", \"2015-03-20T00:00:00\", \"2015-03-27T00:00:00\", \"2015-04-03T00:00:00\", \"2015-04-10T00:00:00\", \"2015-04-17T00:00:00\", \"2015-04-24T00:00:00\", \"2015-05-01T00:00:00\", \"2015-05-08T00:00:00\", \"2015-05-15T00:00:00\", \"2015-05-22T00:00:00\", \"2015-05-29T00:00:00\", \"2015-06-05T00:00:00\", \"2015-06-12T00:00:00\", \"2015-06-19T00:00:00\", \"2015-06-26T00:00:00\", \"2015-07-03T00:00:00\", \"2015-07-10T00:00:00\", \"2015-07-17T00:00:00\", \"2015-07-24T00:00:00\", \"2015-07-31T00:00:00\", \"2015-08-07T00:00:00\", \"2015-08-14T00:00:00\", \"2015-08-21T00:00:00\", \"2015-08-28T00:00:00\", \"2015-09-04T00:00:00\", \"2015-09-11T00:00:00\", \"2015-09-18T00:00:00\", \"2015-09-25T00:00:00\", \"2015-10-02T00:00:00\", \"2015-10-09T00:00:00\", \"2015-10-16T00:00:00\", \"2015-10-23T00:00:00\", \"2015-10-30T00:00:00\", \"2015-11-06T00:00:00\", \"2015-11-13T00:00:00\", \"2015-11-20T00:00:00\", \"2015-11-27T00:00:00\", \"2015-12-04T00:00:00\", \"2015-12-11T00:00:00\", \"2015-12-18T00:00:00\", \"2015-12-25T00:00:00\", \"2016-01-01T00:00:00\", \"2016-01-08T00:00:00\", \"2016-01-15T00:00:00\", \"2016-01-22T00:00:00\", \"2016-01-29T00:00:00\", \"2016-02-05T00:00:00\", \"2016-02-12T00:00:00\", \"2016-02-19T00:00:00\", \"2016-02-26T00:00:00\", \"2016-03-04T00:00:00\", \"2016-03-11T00:00:00\", \"2016-03-18T00:00:00\", \"2016-03-25T00:00:00\", \"2016-04-01T00:00:00\", \"2016-04-08T00:00:00\", \"2016-04-15T00:00:00\", \"2016-04-22T00:00:00\", \"2016-04-29T00:00:00\", \"2016-05-06T00:00:00\", \"2016-05-13T00:00:00\", \"2016-05-20T00:00:00\", \"2016-05-27T00:00:00\", \"2016-06-03T00:00:00\"], \"xaxis\": \"x\", \"y\": [-0.017972628897510043, 0.0069113680397129215, 0.011323070714303487, -0.01804113698678511, 0.0121836273684457, 0.007049084719395304, 0.007586141096281047, -0.001565106700586686, -0.01712743578863636, -0.02535788747550825, 0.009799020443011277, -0.010306406469046809, -0.006304299191446957, -0.024502623588171145, 0.0003588170989345279, -0.00835544276939303, -0.020625105568269318, 0.0019362355130006733, 0.00262890607638007, 0.01642683559599061, 0.0024008804409318984, 0.001600242558655622, -0.02472206154945428, 0.021047743514770373, 0.020115608035173385, 0.004295486454516981, -0.03046539936359033, 0.00651028327503532, -0.003431058441292044, -0.021100089580844358, 0.021468067138354818, 0.011064353045205583, 0.026235974918214486, 0.028979062650128253, 0.013913196786157458, 0.007755821861075643, 0.012651768821720115, 0.010612659117430827, -0.0036126556313608024, -0.009273433977809704, 0.026146502521368242, 0.01607014008328271, 0.030760788054302456, 0.002740924631693709, 0.015209817495409754, -0.006894034486992165, 0.01172789763836621, 0.013272174810662023, 0.010629553318889621, -0.008594100907792728, 0.011707840443241446, 0.0038798052172281565, -0.0059143166432722915, 0.019111173802481375, -0.024038109511243334, -0.014464587707925004, 0.025151907198290056, 0.03273957866130875, -0.014904787299328162, -0.009531574728394665, -0.030630748680493394, 0.006092840727296246, 0.017697013113645, -0.03449127960112041, 0.011504762910762524, 0.02737248871392669, 0.0017026133901086769, -0.02400531244033053, 0.0053376749831788575, -0.014613058434389673, 0.018583258617777723, -0.01549542608420805, -0.020392547417284267, -0.025839976743050858, 0.0050772316683147575, 0.01815877447367624, -0.0019626401571117883, -0.011958985788926794, 0.0014547849578790606, -0.010728797656514731, -0.014379469325932369, 0.008659431600685755, 0.00013878326380946493, 0.001147021373416264, -0.022058974803662416, 0.015414427915610705, -0.018456164519179422, 0.025812924509209526, -0.02374123442344965, 0.010795148190524214, 0.031938071556456046, -0.00030296784914957196, -0.00964472605466875, -0.03336732663626201, -0.007259095825268973, 0.002972187937496181, -0.01999678375906405, -0.001603000678871259, 0.012317232750392607, -0.003326151665291673, 0.004006188358479511, 0.0023130150851350248, 0.017751299496267366, 0.005459320587446691, -0.02748155726537879, -0.034422005186395474, 0.02646912616098016, -0.003916092428309233, 0.010671140415933351, -0.005151483954430832, -0.00654922094377629, -0.0013636919565912626, -0.00352263211555202, 0.014560070166490073, 0.0005776961025609134, 0.01772127114250512, -0.017829714090507296, -0.018040437852393617, -0.014623030869317015, 0.0014957395598983391, -0.02136068726422082, -0.02017095822634788, 0.026063094852241935, 0.002998698602000858, -0.012401345160242678, 0.006023247032386814, -0.004600205646885982, -0.018063849514004342, -0.016894797771355295, -0.009522199572072626, -0.013877396167416617, -0.013744803869631197, -0.006969222408621496, -0.013496502128164767, -0.028184413435511004, -0.015554493415032348, -0.0029350350826426188, 0.011425713227376061, -0.006525025505284746, 0.022424558804202917, 0.004168554630767984, -0.034401356958427616, -0.026422479914708256, -0.019414523486422617, -0.0032987346095050335, 0.012345703443529076, 0.011470594199142906, -0.016333720261758323, -0.023946795282127946, -0.015681607432161265, 0.0009748532969625315, 0.028513781152946848, -0.0057507590918997745, -0.0014018901049768515, -0.02666676729845585, -0.01993965272844199, 0.004971342522003896, 0.023780221991873664, -0.01586622150192924, 0.010440140324521834, 0.012192509983895532, 0.005347319974099992, 0.00986370915381958, 0.0012677601689070877, 0.012488349096479409, -0.0012046891210453785, -0.012664292610837135, -0.006278969384509181, -0.016495163696944152, -0.005111328736303366, -0.0073232650471794876, 0.007148196303836304, -0.005112361443823534, -0.0020494452522405986, -0.0067465604624008906, -0.008080670901154212, 0.02313757151215722, -0.019755351750293495, -0.0002029423522908984, 0.002273501680977198, 0.00208782832360969, -0.013868351174954868, 0.011621340018731774, -0.009800931596200832, 0.010237006624734485, -0.0037634963734098762, 0.012698222489127907, -0.02662571046488154, 0.020473592310799926, 0.02654681733413656, 0.021372829890606897, 0.01035133983666648, -0.007071738164731416, -0.019133640752422656, 0.011197538866040049, 0.017506661102283452, 0.008131253422238081, 0.0186805225058028, -0.0378305158804122, 0.005763025477739359, -0.03302999086875663, -0.010814713992414435, -0.012731596263291947, -0.0010253135964595269, 0.026877838580568646, 0.02087382268937793, -0.01626095064240529, -0.015112754158380913, -0.02033073978795191, -0.019759586789139097, 0.018505427137490957, -0.02699585260250813, 0.009259674626308915, 0.023398496632283376, -0.012573196663122874, 0.010793360278861677, -0.018507323043506684, -0.01436882267484716, -0.0384975808299269, -0.029661736005733286, -0.011961641930602321, -0.001634095679489313, 0.017653709998389184, 0.001997052188045323, 0.022507337595175158, 0.021489059018486325, 0.007076551648629426, -0.005635707935090101, 0.00883516810833068, 0.01363096049215164, -0.003397467075163813, 0.011741820456096296, -0.00979325325591147, -0.027775949143612436, 0.03575523477765378, -0.010806679092290949, -0.025853755573621275, 0.016528502428537956, 0.003495853441807465, 0.002242002544060477, 0.014742684701811129, -0.0016005925653027556, -0.030931920288190848, 0.004076679162878657, -0.03324003109762873, 0.012304569583973609, 0.023758588259587855, -0.007675850858618109, 0.019948147833853083, -0.03396989357003366, -0.009728231132025068, 0.024612227488346402, 0.012445648080266164, -0.015111763777375026, -0.0177381694479908, 0.01472347832298555, 0.037861914242347854, 0.014689896181072526, -0.013207192310507796, 0.011554263868471788, -0.010014238726924987, 0.008013263965192474, 0.018895328685191806, 0.006971933728647274, -0.03000671029309482, 0.002661514310881032, 0.008352831799062347, -0.003165365335517856, 0.01491968638693005, -0.00392143393818101, 0.022529465477362003, -0.00944987435192595, 0.01717885520170678, -0.006798956514145911, 0.01905853622217635, 0.006106097621381398, 0.00527689132056059, -0.00316257206292254, 0.014022148036349042, -0.008807655719932113, -0.04625456562257249, -0.02092366255442408, -0.018312857247763617, 0.019583470458144257, 0.02961197069920877, 0.0058081497432999835, -0.002825675221870584, -0.020805774194119803, -0.01807143412986552, -0.009397861034036918, -0.003467251253082649, 0.016732682826139197, -0.010640996439968249, -0.003528466836866564, 0.025451660781759727, 0.009955481640302629, -0.002026896510309189, 0.005327271820575166, 0.013173881953155657, -0.009303483399004962, -0.0295187949180534, -0.020908738230936644, 0.01467752829453004, -0.009801947480383802, 0.004850436242282059, -0.011401893835184558, -0.008303759865801098, 0.033048040606341776, -0.013161818992711809, -0.00884951347399835, 0.006402601461682537, -0.008357938815553587, 0.02405089072516262, -0.02011526155064104, -0.0009042775969329406, 0.00914026606098983, 0.006428339897429502, -0.0012385417081861572, -0.005851654930534303, 0.0022426001332666655, -0.0019082073499740349, -0.0023362091139132483, -0.01396617322716401, 0.01763569526901855, 0.009816524739033078, -0.005049106674996102, 0.00211565159105595, -0.006982650815418209, 0.03350575177263899, 0.004383815120180901, -0.0014676989745003644, 0.010690997832914714, 0.007395276527364448, -0.0055031040326626755, 0.012851373592607693, 0.005362118340067125, 0.004355802715693267, -0.0016050656293519277, -0.024164277125414687, 0.025422287226973393, 0.0028458975269048787, -0.0015581161656515283, 0.010441564864411437, 0.007650516078880909, 0.021115621941173435, 0.00046307314507984196, -0.033313578057298295, 0.006771729788958771, 0.012855692524944201, 0.019857298895230902, 0.021594475854605742, 0.001805752250678627, -0.012195959337519628, 0.022252754617390836, -0.004277136771910923, 0.030009992151166714, 0.0034140613780194017, 0.022338844835406785, -0.0052808191244635245, 0.000941390999331851, 0.022548656905449733, -0.02097640316835035, 0.024394140006499813, -0.00982983426697981, -0.0048255378263029605, 0.017024507130438554, 0.0030269313872634276, -0.0057208142424113794, 0.002525199971636206, 0.019487003197006466, 7.655337259872886e-05, 0.010232422273827691, 0.013978785980218142, 0.023121199697559772, -0.019462585867827058, 0.007315560066177002, 0.0006283128754165719, -0.01838597588513438, -0.00853828977985992, -0.01755016772133048, -0.004721244090261908, -0.01091903267578784, -0.024004376737732945, 0.006218423196363604, -0.007628361103217455, -0.020469843332333933, -0.008543114037654457, -0.016954044395026874, 0.002432256874006176, -0.008997416083246992, -0.0020593485258948185, 0.011901530993976155, 0.010602092044933162, -0.02602580625420296, -0.01881217630328901, -0.00022868582397813904, 0.00221130760259534, 0.008973459685158194, 0.023925076405911613, 0.007660517568845513, -0.003582965546872424, 0.004972674264538768, 0.01656863192653421, 0.028903962528379748, -0.002335163119706554, -0.009569322036742928, 0.003436158731986324, 0.012379656869097814, -0.022724408515492064, -0.022270427872023518, -0.028708728347334917, -0.005851442350470246, 0.018223982943500312, -0.016260911952170738, -0.01480008201863467, 0.012462606057293744, -0.006645774593128477, -0.01869883869872824, -0.012331623765401615, -8.693381195529242e-06, -0.000726582048765132, 0.0031643349053521595, -0.005001849385527336, -0.010592389159802111, 0.014041178130473835, -0.010745614227386917, 0.01837561041259376, -0.04261633876389813, -0.0018541073376508279, 7.815130481028597e-05, -0.004923994394890406, -0.010840631227203223, -0.024769965920402395, 0.011216358966191574, 0.0017759189106986422, -0.002869846567242304, 0.023734695998593052, 0.02841639139527795, -0.006431086537200448, -0.01816662118887545, -0.010131544983577528, 0.0029834156079893877, -0.03431967830894317, -0.017751448508961327, -0.0010575199870505728, 0.0028197769007408625, -0.025284794317661053, -0.006221938266258261, 0.022948489388145584, -0.014705681922449743, 0.0012708352977741058, -0.01772653084735281, -0.005241404568323099, -0.015612034724883444, 0.0169929332553146, 0.030465008019650016, -0.014445963006853815, 0.02571735253811461, -0.02437150248410028, -0.02150777122495732, 0.010872002630545241, 0.026739524393920258, -0.019975750238538644, 0.01253553104223511, -0.019134470239404355, -0.01624872333550729, -0.023590423762980157, -0.01228624048976078, -0.0010699912638092455, 0.010215977353111038, -0.0012360859878681274, 0.011091433218808856, 0.027474434659878318, 0.0017960607526148608, 0.008843578537389565, 0.01819516951460802, -0.009207228616189181, 0.012471130034013442, 0.013878921371348649, 0.011478613578567484, 0.006415829060107153, -0.025391727479546496, 0.003199468081346773, 0.021829590573614117, 0.0029556953875414156, -0.0018542583257511315, 0.009012701471565894, -0.022022697178126147, 0.0034831092322091827, 0.003788093921072163, 0.005060983616360396, -0.01322603455742414, -0.014810908845084418, 0.0059808697049553725, -0.01036973509564819, 0.006077677608461989, -0.009858838737899445, -0.016918140645406806, -0.00033170897770540096, 0.0016539939391695983, -0.02707391308574411, 0.02700845748798911, -0.011256879210711505, 0.029964015733930253, 0.004823498334574303, -0.030968303462464753, -0.01325066086479159, -0.005024706370966513, -0.030940365027455265, -0.028580276727857422, -0.0010322479494132362, 0.011646879552713686, -0.00575342486257133, 0.02890096381522337, -0.00985524030202473, -0.017460032399198987, 0.007976327312667574, -0.027009304427566164, -0.009425021205467145, -0.0021130866792518454, 0.0036514552322788178, 0.008151742955761125, 0.01972581079653441, -0.0082731556915044, -0.010615540801785079, -0.01703552770641417, 0.0059179132011490205, 0.007846307865545308, -0.022448133482750265, -0.009347854917333687, 0.015176950735333638, 0.020538427171367328, -0.006945387611146706, 0.027405556002692982, -0.011119280802659047, -0.0016563069784509361, 0.003402544785437206, -0.0025746751230395055, 0.01683844974928002, -0.010419096451572987, 0.005238902844162078, 0.015693639237271313, 0.0010498327301798514, 0.008207256519582306, 0.011242856036319745, -0.03596585374425512, 0.028623555043558506, 0.02366603299249225, 0.0072884987739035125, -0.000534414180786378, -0.00835396396108717, 0.003774610790175936, 0.00012503056784583127, 0.017235869099779443, 0.007213861999980811, -0.02241521463568981, -0.013087585393860415, 0.018443083986770598, 0.0048845969509588825, -0.004643977640294257, 0.027789740797756583, -0.006065219533320773, -0.005099372935398428, 0.02006844622803102, 0.006005439628829444, 0.01825382744049765, -0.0046936442940742505, -0.012770134380786523, 0.014008314849100676, 0.006655432198888933, -0.019380453059287678, 0.03173558669234541, -0.012345046749156888, 0.012666016574138022, 0.011635676363480953, -0.007201072314671392, 0.00017965007435836682, 0.017528718256138075, 0.028335249464461056, -0.015348619455490395, 0.00670322567241307, 0.012003230662168829, -0.021427733709374716, 0.023686492951286983, -0.017160973052291726, -0.012590092456823774, 0.022702706883125794, 0.0207441110993471, 0.028407164865247983, 0.004958031305296991, 0.00012572325651772498, -0.003226357397686642, 0.0037023612942019444, 0.2732399765952885, 0.47750413698032856, 0.502371184607851], \"yaxis\": \"y\"}, {\"hovertemplate\": \"era=val<br>date=%{x}<br>era_score=%{y}<extra></extra>\", \"legendgroup\": \"val\", \"line\": {\"color\": \"#EF553B\", \"dash\": \"solid\"}, \"mode\": \"lines\", \"name\": \"val\", \"orientation\": \"v\", \"showlegend\": true, \"type\": \"scatter\", \"x\": [\"2016-06-03T00:00:00\", \"2016-06-10T00:00:00\", \"2016-06-17T00:00:00\", \"2016-06-24T00:00:00\", \"2016-07-01T00:00:00\", \"2016-07-08T00:00:00\", \"2016-07-15T00:00:00\", \"2016-07-22T00:00:00\", \"2016-07-29T00:00:00\", \"2016-08-05T00:00:00\", \"2016-08-12T00:00:00\", \"2016-08-19T00:00:00\", \"2016-08-26T00:00:00\", \"2016-09-02T00:00:00\", \"2016-09-09T00:00:00\", \"2016-09-16T00:00:00\", \"2016-09-23T00:00:00\", \"2016-09-30T00:00:00\", \"2016-10-07T00:00:00\", \"2016-10-14T00:00:00\", \"2016-10-21T00:00:00\", \"2016-10-28T00:00:00\", \"2016-11-04T00:00:00\", \"2016-11-11T00:00:00\", \"2016-11-18T00:00:00\", \"2016-11-25T00:00:00\", \"2016-12-02T00:00:00\", \"2016-12-09T00:00:00\", \"2016-12-16T00:00:00\", \"2016-12-23T00:00:00\", \"2016-12-30T00:00:00\", \"2017-01-06T00:00:00\", \"2017-01-13T00:00:00\", \"2017-01-20T00:00:00\", \"2017-01-27T00:00:00\", \"2017-02-03T00:00:00\", \"2017-02-10T00:00:00\", \"2017-02-17T00:00:00\", \"2017-02-24T00:00:00\", \"2017-03-03T00:00:00\", \"2017-03-10T00:00:00\", \"2017-03-17T00:00:00\", \"2017-03-24T00:00:00\", \"2017-03-31T00:00:00\", \"2017-04-07T00:00:00\", \"2017-04-14T00:00:00\", \"2017-04-21T00:00:00\", \"2017-04-28T00:00:00\", \"2017-05-05T00:00:00\", \"2017-05-12T00:00:00\", \"2017-05-19T00:00:00\", \"2017-05-26T00:00:00\", \"2017-06-02T00:00:00\", \"2017-06-09T00:00:00\", \"2017-06-16T00:00:00\", \"2017-06-23T00:00:00\", \"2017-06-30T00:00:00\", \"2017-07-07T00:00:00\", \"2017-07-14T00:00:00\", \"2017-07-21T00:00:00\", \"2017-07-28T00:00:00\", \"2017-08-04T00:00:00\", \"2017-08-11T00:00:00\", \"2017-08-18T00:00:00\", \"2017-08-25T00:00:00\", \"2017-09-01T00:00:00\", \"2017-09-08T00:00:00\", \"2017-09-15T00:00:00\", \"2017-09-22T00:00:00\", \"2017-09-29T00:00:00\", \"2017-10-06T00:00:00\", \"2017-10-13T00:00:00\", \"2017-10-20T00:00:00\", \"2017-10-27T00:00:00\", \"2017-11-03T00:00:00\", \"2017-11-10T00:00:00\", \"2017-11-17T00:00:00\", \"2017-11-24T00:00:00\", \"2017-12-01T00:00:00\", \"2017-12-08T00:00:00\", \"2017-12-15T00:00:00\", \"2017-12-22T00:00:00\", \"2017-12-29T00:00:00\", \"2018-01-05T00:00:00\", \"2018-01-12T00:00:00\", \"2018-01-19T00:00:00\", \"2018-01-26T00:00:00\", \"2018-02-02T00:00:00\", \"2018-02-09T00:00:00\", \"2018-02-16T00:00:00\", \"2018-02-23T00:00:00\", \"2018-03-02T00:00:00\", \"2018-03-09T00:00:00\", \"2018-03-16T00:00:00\", \"2018-03-23T00:00:00\", \"2018-03-30T00:00:00\", \"2018-04-06T00:00:00\", \"2018-04-13T00:00:00\", \"2018-04-20T00:00:00\", \"2018-04-27T00:00:00\", \"2018-05-04T00:00:00\", \"2018-05-11T00:00:00\", \"2018-05-18T00:00:00\", \"2018-05-25T00:00:00\", \"2018-06-01T00:00:00\", \"2018-06-08T00:00:00\", \"2018-06-15T00:00:00\", \"2018-06-22T00:00:00\", \"2018-06-29T00:00:00\", \"2018-07-06T00:00:00\", \"2018-07-13T00:00:00\", \"2018-07-20T00:00:00\", \"2018-07-27T00:00:00\", \"2018-08-03T00:00:00\", \"2018-08-10T00:00:00\", \"2018-08-17T00:00:00\", \"2018-08-24T00:00:00\", \"2018-08-31T00:00:00\", \"2018-09-07T00:00:00\", \"2018-09-14T00:00:00\", \"2018-09-21T00:00:00\", \"2018-09-28T00:00:00\", \"2018-10-05T00:00:00\", \"2018-10-12T00:00:00\", \"2018-10-19T00:00:00\", \"2018-10-26T00:00:00\", \"2018-11-02T00:00:00\"], \"xaxis\": \"x\", \"y\": [0.00959063384993924, -0.02844983687843632, -0.009288606549883853, 0.023823452056953125, 0.018989149801556377, -0.009242990121453912, -0.0021740024284121473, 0.022926539000891887, 0.02686451485297428, -0.030992547531313835, -0.006374068490378173, -0.006148086372087716, -0.006691280503026, -0.0067138599680528575, -0.007968241209666339, 0.007726727421479443, -0.009437530962563742, -0.006590333014511964, -0.0019866776468369686, 0.019970267524273264, 0.006305053616862264, 0.02372735655729482, -0.0012404190164754874, 0.008902426597751272, 0.003747798385582512, 0.01583311761198662, -0.004834027264285476, 0.011301039496213366, 0.006405648275682638, -0.0007778662915166925, -0.01712673742596449, 0.010002080039577093, 0.008015528952654751, 0.009438548261617339, -0.00784212129490163, -0.003642842499183734, 0.015985608221545197, -0.0022883420948974125, 0.011825603984669536, -0.018394307715641413, -0.009224190800191117, 0.009252962947734025, 0.021382343871885333, -0.022242700080746313, 0.010809009807232603, -0.005477766948598212, 0.015798577255917677, -0.003946757002405272, -0.009896413787691138, -0.013192644703537008, -0.013222621679906168, -0.03632717233302485, -0.021706848747422874, 0.003740484804492138, -0.017081700148795082, -0.020327121858523024, 0.011403959762235233, -0.0051258684014719655, 0.0007049907682911085, 0.016337939128961334, -0.015649629722437754, 0.007293454834845678, 0.004670840011262777, -0.00749402661109759, -0.01578851068249104, -0.014921728494154692, 0.032447759543157546, 0.009594797262525176, 0.006871143979659353, -0.004701597894682715, 0.011394276496258711, 0.011348265428334427, -0.03462347600682427, 0.02467835716230966, -0.018650495195613723, -0.01242757827989986, -0.0021197419788108766, -0.01996105567777773, 0.0007726545862057414, 0.03934805468911254, 0.008282551174867847, -0.022843755214616745, 0.012312990532689673, 0.0037073810402752424, -0.000949784196636559, -0.004859017817248713, 0.010454556519881274, -0.010569809986021727, -0.0027794919008695593, 0.015418426045655936, 0.016483614509258674, -0.0009365600649170845, -0.010793147675845764, 0.0013715089274982401, -0.00260361161578941, 0.010463056786836844, 0.01805024103956475, 0.013171013899614914, -0.009054273994788743, -0.023707828768069362, 0.02680329342414941, -0.001091278233282267, -0.00117000167915225, -0.008903561775973476, 0.0025883715904977548, 0.003588875932748712, -0.0282412653579911, 0.01924586408317728, -0.006577733529763839, -0.002590573183019485, 0.038994405267687465, -0.008903129615203741, 0.011106104763565796, -0.013626343844025059, 0.01875278769833858, -0.00998037845731778, -0.004655397297347198, -0.002719303135864877, -0.0020735416688978394, 0.03534226293632245, 0.005779465663941625, 0.006449165795463677, 0.007090902239386131, -0.017107473854924022, 0.019807427055874783, -0.029488830179800214, 0.017472024730114485], \"yaxis\": \"y\"}, {\"hovertemplate\": \"era=test<br>date=%{x}<br>era_score=%{y}<extra></extra>\", \"legendgroup\": \"test\", \"line\": {\"color\": \"#00cc96\", \"dash\": \"solid\"}, \"mode\": \"lines\", \"name\": \"test\", \"orientation\": \"v\", \"showlegend\": true, \"type\": \"scatter\", \"x\": [\"2018-11-02T00:00:00\", \"2018-11-09T00:00:00\", \"2018-11-16T00:00:00\", \"2018-11-23T00:00:00\", \"2018-11-30T00:00:00\", \"2018-12-07T00:00:00\", \"2018-12-14T00:00:00\", \"2018-12-21T00:00:00\", \"2018-12-28T00:00:00\", \"2019-01-04T00:00:00\", \"2019-01-11T00:00:00\", \"2019-01-18T00:00:00\", \"2019-01-25T00:00:00\", \"2019-02-01T00:00:00\", \"2019-02-08T00:00:00\", \"2019-02-15T00:00:00\", \"2019-02-22T00:00:00\", \"2019-03-01T00:00:00\", \"2019-03-08T00:00:00\", \"2019-03-15T00:00:00\", \"2019-03-22T00:00:00\", \"2019-03-29T00:00:00\", \"2019-04-05T00:00:00\", \"2019-04-12T00:00:00\", \"2019-04-19T00:00:00\", \"2019-04-26T00:00:00\", \"2019-05-03T00:00:00\", \"2019-05-10T00:00:00\", \"2019-05-17T00:00:00\", \"2019-05-24T00:00:00\", \"2019-05-31T00:00:00\", \"2019-06-07T00:00:00\", \"2019-06-14T00:00:00\", \"2019-06-21T00:00:00\", \"2019-06-28T00:00:00\", \"2019-07-05T00:00:00\", \"2019-07-12T00:00:00\", \"2019-07-19T00:00:00\", \"2019-07-26T00:00:00\", \"2019-08-02T00:00:00\", \"2019-08-09T00:00:00\", \"2019-08-16T00:00:00\", \"2019-08-23T00:00:00\", \"2019-08-30T00:00:00\", \"2019-09-06T00:00:00\", \"2019-09-13T00:00:00\", \"2019-09-20T00:00:00\", \"2019-09-27T00:00:00\", \"2019-10-04T00:00:00\", \"2019-10-11T00:00:00\", \"2019-10-18T00:00:00\", \"2019-10-25T00:00:00\", \"2019-11-01T00:00:00\", \"2019-11-08T00:00:00\", \"2019-11-15T00:00:00\", \"2019-11-22T00:00:00\", \"2019-11-29T00:00:00\", \"2019-12-06T00:00:00\", \"2019-12-13T00:00:00\", \"2019-12-20T00:00:00\", \"2019-12-27T00:00:00\", \"2020-01-03T00:00:00\", \"2020-01-10T00:00:00\", \"2020-01-17T00:00:00\", \"2020-01-24T00:00:00\", \"2020-01-31T00:00:00\", \"2020-02-07T00:00:00\", \"2020-02-14T00:00:00\", \"2020-02-21T00:00:00\", \"2020-02-28T00:00:00\", \"2020-03-06T00:00:00\", \"2020-03-13T00:00:00\", \"2020-03-20T00:00:00\", \"2020-03-27T00:00:00\", \"2020-04-03T00:00:00\", \"2020-04-10T00:00:00\", \"2020-04-17T00:00:00\", \"2020-04-24T00:00:00\", \"2020-05-01T00:00:00\", \"2020-05-08T00:00:00\", \"2020-05-15T00:00:00\", \"2020-05-22T00:00:00\", \"2020-05-29T00:00:00\", \"2020-06-05T00:00:00\", \"2020-06-12T00:00:00\", \"2020-06-19T00:00:00\", \"2020-06-26T00:00:00\", \"2020-07-03T00:00:00\", \"2020-07-10T00:00:00\", \"2020-07-17T00:00:00\", \"2020-07-24T00:00:00\", \"2020-07-31T00:00:00\", \"2020-08-07T00:00:00\", \"2020-08-14T00:00:00\", \"2020-08-21T00:00:00\", \"2020-08-28T00:00:00\", \"2020-09-04T00:00:00\", \"2020-09-11T00:00:00\", \"2020-09-18T00:00:00\", \"2020-09-25T00:00:00\", \"2020-10-02T00:00:00\", \"2020-10-09T00:00:00\", \"2020-10-16T00:00:00\", \"2020-10-23T00:00:00\", \"2020-10-30T00:00:00\", \"2020-11-06T00:00:00\", \"2020-11-13T00:00:00\", \"2020-11-20T00:00:00\", \"2020-11-27T00:00:00\", \"2020-12-04T00:00:00\", \"2020-12-11T00:00:00\", \"2020-12-18T00:00:00\", \"2020-12-25T00:00:00\", \"2021-01-01T00:00:00\", \"2021-01-08T00:00:00\", \"2021-01-15T00:00:00\", \"2021-01-22T00:00:00\", \"2021-01-29T00:00:00\", \"2021-02-05T00:00:00\", \"2021-02-12T00:00:00\", \"2021-02-19T00:00:00\", \"2021-02-26T00:00:00\", \"2021-03-05T00:00:00\", \"2021-03-12T00:00:00\", \"2021-03-19T00:00:00\", \"2021-03-26T00:00:00\", \"2021-04-02T00:00:00\"], \"xaxis\": \"x\", \"y\": [0.012783560571046643, 0.002542763721714337, -0.01312232639341382, 0.022686906841219448, 0.009851413853764892, 0.0016378476712327731, -0.00869497993705676, 0.006446128633429081, 0.023907382006575936, -0.005806916607199754, 0.004557790582158805, -0.0019106449162472755, 0.019084098786135272, 0.0027144908381171694, 0.02835074502716931, 0.007930384591308825, -0.002019761810664098, -0.004001685840986322, -0.02963717356113845, -0.0006386352724177414, 0.008690229699703666, -0.009450557694866624, 0.01312426345378177, 0.01894714761678805, -0.005665533649697928, -0.015326718164430722, 0.006459886432337505, -0.0068822570230450035, 0.03325707232668795, 0.0037260164713778837, -0.018022764518227673, 0.0073131181770771745, 0.006966311603025568, 0.0063599306701592855, -0.005637552566890119, 0.012134576116835799, 0.015670831174891965, 0.00554749929250805, 0.016722850136222628, 0.006068070906275934, -0.000373826018809898, 0.0027377002465161725, 0.012302467569702958, 0.01629191615248167, 0.04257983460584284, -0.001293992092610874, 0.005711602353082381, 0.02065670677273458, 0.013714936428307593, 0.027387670135182597, 0.025536499227307306, 0.011109725430250426, 0.002861478990160911, 0.01412225331551223, -0.005646998244651468, -0.01890213025814967, -0.016695385019433753, -0.001194426848907773, -0.0065620242321395, -0.005379347985749951, -0.00408606773266705, -0.009353086713000785, 0.006945180913315621, -0.010881259852028936, 0.014930263627580279, -0.0028093198352276967, -0.021796957223908703, -0.003968879232900657, 0.01726050228986477, 0.04012647118529707, 0.0032068066113180933, 0.0077449903679411595, -0.031065633880742387, 0.018550132788758743, -0.000311458410422388, -0.020282472171591435, 0.018167118821435964, -0.000912995066283006, -0.006307986551300225, 0.0129361261825602, 0.006679965804271006, 0.0025082328599575756, -0.018035982672883307, -0.017979356834934925, 0.0041571808814691745, -0.0009320309100313333, -0.0011372678236498048, 0.009637780459296525, -0.0017086904520864131, 0.004458231544850719, 0.012021130817332155, 0.014534126687186247, -0.012196840689242164, 0.005909930720098032, 0.00461181771673841, -0.007817269307808903, -0.00233316456607685, -0.003059721454254215, -0.012088253330308663, 0.005516926336857831, -0.01998898435593619, 0.009613301337965043, 0.01160479273017506, -0.00978303858089281, -0.008179089516516113, 0.03475889199550504, -0.00431704613113377, -0.01444886450113123, -0.0016305759337386146, -0.0004955605883205359, -0.01429309049617551, 0.017874031782657143, 0.009239342776680844, 0.0066582836387224405, 0.005986488660977792, -0.0118881555200781, -0.007564096548639736, 0.010479156396546412, -0.004016219058589116, -0.01285857230609903, 0.019133199126677197, 0.02944734205817947, -0.03111101110343791, -0.011809667253927897, -0.013116406360284714, -0.005146403721276977, -0.020958648477753753], \"yaxis\": \"y\"}],                        {\"legend\": {\"title\": {\"text\": \"era\"}, \"tracegroupgap\": 0}, \"margin\": {\"t\": 60}, \"template\": {\"data\": {\"bar\": [{\"error_x\": {\"color\": \"#2a3f5f\"}, \"error_y\": {\"color\": \"#2a3f5f\"}, \"marker\": {\"line\": {\"color\": \"#E5ECF6\", \"width\": 0.5}}, \"type\": \"bar\"}], \"barpolar\": [{\"marker\": {\"line\": {\"color\": \"#E5ECF6\", \"width\": 0.5}}, \"type\": \"barpolar\"}], \"carpet\": [{\"aaxis\": {\"endlinecolor\": \"#2a3f5f\", \"gridcolor\": \"white\", \"linecolor\": \"white\", \"minorgridcolor\": \"white\", \"startlinecolor\": \"#2a3f5f\"}, \"baxis\": {\"endlinecolor\": \"#2a3f5f\", \"gridcolor\": \"white\", \"linecolor\": \"white\", \"minorgridcolor\": \"white\", \"startlinecolor\": \"#2a3f5f\"}, \"type\": \"carpet\"}], \"choropleth\": [{\"colorbar\": {\"outlinewidth\": 0, \"ticks\": \"\"}, \"type\": \"choropleth\"}], \"contour\": [{\"colorbar\": {\"outlinewidth\": 0, \"ticks\": \"\"}, \"colorscale\": [[0.0, \"#0d0887\"], [0.1111111111111111, \"#46039f\"], [0.2222222222222222, \"#7201a8\"], [0.3333333333333333, \"#9c179e\"], [0.4444444444444444, \"#bd3786\"], [0.5555555555555556, \"#d8576b\"], [0.6666666666666666, \"#ed7953\"], [0.7777777777777778, \"#fb9f3a\"], [0.8888888888888888, \"#fdca26\"], [1.0, \"#f0f921\"]], \"type\": \"contour\"}], \"contourcarpet\": [{\"colorbar\": {\"outlinewidth\": 0, \"ticks\": \"\"}, \"type\": \"contourcarpet\"}], \"heatmap\": [{\"colorbar\": {\"outlinewidth\": 0, \"ticks\": \"\"}, \"colorscale\": [[0.0, \"#0d0887\"], [0.1111111111111111, \"#46039f\"], [0.2222222222222222, \"#7201a8\"], [0.3333333333333333, \"#9c179e\"], [0.4444444444444444, \"#bd3786\"], [0.5555555555555556, \"#d8576b\"], [0.6666666666666666, \"#ed7953\"], [0.7777777777777778, \"#fb9f3a\"], [0.8888888888888888, \"#fdca26\"], [1.0, \"#f0f921\"]], \"type\": \"heatmap\"}], \"heatmapgl\": [{\"colorbar\": {\"outlinewidth\": 0, \"ticks\": \"\"}, \"colorscale\": [[0.0, \"#0d0887\"], [0.1111111111111111, \"#46039f\"], [0.2222222222222222, \"#7201a8\"], [0.3333333333333333, \"#9c179e\"], [0.4444444444444444, \"#bd3786\"], [0.5555555555555556, \"#d8576b\"], [0.6666666666666666, \"#ed7953\"], [0.7777777777777778, \"#fb9f3a\"], [0.8888888888888888, \"#fdca26\"], [1.0, \"#f0f921\"]], \"type\": \"heatmapgl\"}], \"histogram\": [{\"marker\": {\"colorbar\": {\"outlinewidth\": 0, \"ticks\": \"\"}}, \"type\": \"histogram\"}], \"histogram2d\": [{\"colorbar\": {\"outlinewidth\": 0, \"ticks\": \"\"}, \"colorscale\": [[0.0, \"#0d0887\"], [0.1111111111111111, \"#46039f\"], [0.2222222222222222, \"#7201a8\"], [0.3333333333333333, \"#9c179e\"], [0.4444444444444444, \"#bd3786\"], [0.5555555555555556, \"#d8576b\"], [0.6666666666666666, \"#ed7953\"], [0.7777777777777778, \"#fb9f3a\"], [0.8888888888888888, \"#fdca26\"], [1.0, \"#f0f921\"]], \"type\": \"histogram2d\"}], \"histogram2dcontour\": [{\"colorbar\": {\"outlinewidth\": 0, \"ticks\": \"\"}, \"colorscale\": [[0.0, \"#0d0887\"], [0.1111111111111111, \"#46039f\"], [0.2222222222222222, \"#7201a8\"], [0.3333333333333333, \"#9c179e\"], [0.4444444444444444, \"#bd3786\"], [0.5555555555555556, \"#d8576b\"], [0.6666666666666666, \"#ed7953\"], [0.7777777777777778, \"#fb9f3a\"], [0.8888888888888888, \"#fdca26\"], [1.0, \"#f0f921\"]], \"type\": \"histogram2dcontour\"}], \"mesh3d\": [{\"colorbar\": {\"outlinewidth\": 0, \"ticks\": \"\"}, \"type\": \"mesh3d\"}], \"parcoords\": [{\"line\": {\"colorbar\": {\"outlinewidth\": 0, \"ticks\": \"\"}}, \"type\": \"parcoords\"}], \"pie\": [{\"automargin\": true, \"type\": \"pie\"}], \"scatter\": [{\"marker\": {\"colorbar\": {\"outlinewidth\": 0, \"ticks\": \"\"}}, \"type\": \"scatter\"}], \"scatter3d\": [{\"line\": {\"colorbar\": {\"outlinewidth\": 0, \"ticks\": \"\"}}, \"marker\": {\"colorbar\": {\"outlinewidth\": 0, \"ticks\": \"\"}}, \"type\": \"scatter3d\"}], \"scattercarpet\": [{\"marker\": {\"colorbar\": {\"outlinewidth\": 0, \"ticks\": \"\"}}, \"type\": \"scattercarpet\"}], \"scattergeo\": [{\"marker\": {\"colorbar\": {\"outlinewidth\": 0, \"ticks\": \"\"}}, \"type\": \"scattergeo\"}], \"scattergl\": [{\"marker\": {\"colorbar\": {\"outlinewidth\": 0, \"ticks\": \"\"}}, \"type\": \"scattergl\"}], \"scattermapbox\": [{\"marker\": {\"colorbar\": {\"outlinewidth\": 0, \"ticks\": \"\"}}, \"type\": \"scattermapbox\"}], \"scatterpolar\": [{\"marker\": {\"colorbar\": {\"outlinewidth\": 0, \"ticks\": \"\"}}, \"type\": \"scatterpolar\"}], \"scatterpolargl\": [{\"marker\": {\"colorbar\": {\"outlinewidth\": 0, \"ticks\": \"\"}}, \"type\": \"scatterpolargl\"}], \"scatterternary\": [{\"marker\": {\"colorbar\": {\"outlinewidth\": 0, \"ticks\": \"\"}}, \"type\": \"scatterternary\"}], \"surface\": [{\"colorbar\": {\"outlinewidth\": 0, \"ticks\": \"\"}, \"colorscale\": [[0.0, \"#0d0887\"], [0.1111111111111111, \"#46039f\"], [0.2222222222222222, \"#7201a8\"], [0.3333333333333333, \"#9c179e\"], [0.4444444444444444, \"#bd3786\"], [0.5555555555555556, \"#d8576b\"], [0.6666666666666666, \"#ed7953\"], [0.7777777777777778, \"#fb9f3a\"], [0.8888888888888888, \"#fdca26\"], [1.0, \"#f0f921\"]], \"type\": \"surface\"}], \"table\": [{\"cells\": {\"fill\": {\"color\": \"#EBF0F8\"}, \"line\": {\"color\": \"white\"}}, \"header\": {\"fill\": {\"color\": \"#C8D4E3\"}, \"line\": {\"color\": \"white\"}}, \"type\": \"table\"}]}, \"layout\": {\"annotationdefaults\": {\"arrowcolor\": \"#2a3f5f\", \"arrowhead\": 0, \"arrowwidth\": 1}, \"autotypenumbers\": \"strict\", \"coloraxis\": {\"colorbar\": {\"outlinewidth\": 0, \"ticks\": \"\"}}, \"colorscale\": {\"diverging\": [[0, \"#8e0152\"], [0.1, \"#c51b7d\"], [0.2, \"#de77ae\"], [0.3, \"#f1b6da\"], [0.4, \"#fde0ef\"], [0.5, \"#f7f7f7\"], [0.6, \"#e6f5d0\"], [0.7, \"#b8e186\"], [0.8, \"#7fbc41\"], [0.9, \"#4d9221\"], [1, \"#276419\"]], \"sequential\": [[0.0, \"#0d0887\"], [0.1111111111111111, \"#46039f\"], [0.2222222222222222, \"#7201a8\"], [0.3333333333333333, \"#9c179e\"], [0.4444444444444444, \"#bd3786\"], [0.5555555555555556, \"#d8576b\"], [0.6666666666666666, \"#ed7953\"], [0.7777777777777778, \"#fb9f3a\"], [0.8888888888888888, \"#fdca26\"], [1.0, \"#f0f921\"]], \"sequentialminus\": [[0.0, \"#0d0887\"], [0.1111111111111111, \"#46039f\"], [0.2222222222222222, \"#7201a8\"], [0.3333333333333333, \"#9c179e\"], [0.4444444444444444, \"#bd3786\"], [0.5555555555555556, \"#d8576b\"], [0.6666666666666666, \"#ed7953\"], [0.7777777777777778, \"#fb9f3a\"], [0.8888888888888888, \"#fdca26\"], [1.0, \"#f0f921\"]]}, \"colorway\": [\"#636efa\", \"#EF553B\", \"#00cc96\", \"#ab63fa\", \"#FFA15A\", \"#19d3f3\", \"#FF6692\", \"#B6E880\", \"#FF97FF\", \"#FECB52\"], \"font\": {\"color\": \"#2a3f5f\"}, \"geo\": {\"bgcolor\": \"white\", \"lakecolor\": \"white\", \"landcolor\": \"#E5ECF6\", \"showlakes\": true, \"showland\": true, \"subunitcolor\": \"white\"}, \"hoverlabel\": {\"align\": \"left\"}, \"hovermode\": \"closest\", \"mapbox\": {\"style\": \"light\"}, \"paper_bgcolor\": \"white\", \"plot_bgcolor\": \"#E5ECF6\", \"polar\": {\"angularaxis\": {\"gridcolor\": \"white\", \"linecolor\": \"white\", \"ticks\": \"\"}, \"bgcolor\": \"#E5ECF6\", \"radialaxis\": {\"gridcolor\": \"white\", \"linecolor\": \"white\", \"ticks\": \"\"}}, \"scene\": {\"xaxis\": {\"backgroundcolor\": \"#E5ECF6\", \"gridcolor\": \"white\", \"gridwidth\": 2, \"linecolor\": \"white\", \"showbackground\": true, \"ticks\": \"\", \"zerolinecolor\": \"white\"}, \"yaxis\": {\"backgroundcolor\": \"#E5ECF6\", \"gridcolor\": \"white\", \"gridwidth\": 2, \"linecolor\": \"white\", \"showbackground\": true, \"ticks\": \"\", \"zerolinecolor\": \"white\"}, \"zaxis\": {\"backgroundcolor\": \"#E5ECF6\", \"gridcolor\": \"white\", \"gridwidth\": 2, \"linecolor\": \"white\", \"showbackground\": true, \"ticks\": \"\", \"zerolinecolor\": \"white\"}}, \"shapedefaults\": {\"line\": {\"color\": \"#2a3f5f\"}}, \"ternary\": {\"aaxis\": {\"gridcolor\": \"white\", \"linecolor\": \"white\", \"ticks\": \"\"}, \"baxis\": {\"gridcolor\": \"white\", \"linecolor\": \"white\", \"ticks\": \"\"}, \"bgcolor\": \"#E5ECF6\", \"caxis\": {\"gridcolor\": \"white\", \"linecolor\": \"white\", \"ticks\": \"\"}}, \"title\": {\"x\": 0.05}, \"xaxis\": {\"automargin\": true, \"gridcolor\": \"white\", \"linecolor\": \"white\", \"ticks\": \"\", \"title\": {\"standoff\": 15}, \"zerolinecolor\": \"white\", \"zerolinewidth\": 2}, \"yaxis\": {\"automargin\": true, \"gridcolor\": \"white\", \"linecolor\": \"white\", \"ticks\": \"\", \"title\": {\"standoff\": 15}, \"zerolinecolor\": \"white\", \"zerolinewidth\": 2}}}, \"xaxis\": {\"anchor\": \"y\", \"domain\": [0.0, 1.0], \"title\": {\"text\": \"date\"}}, \"yaxis\": {\"anchor\": \"x\", \"domain\": [0.0, 1.0], \"title\": {\"text\": \"era_score\"}}},                        {\"responsive\": true}                    ).then(function(){\n",
       "                            \n",
       "var gd = document.getElementById('73f6cdc5-0372-445b-b1f1-824c8ab79eb4');\n",
       "var x = new MutationObserver(function (mutations, observer) {{\n",
       "        var display = window.getComputedStyle(gd).display;\n",
       "        if (!display || display === 'none') {{\n",
       "            console.log([gd, 'removed!']);\n",
       "            Plotly.purge(gd);\n",
       "            observer.disconnect();\n",
       "        }}\n",
       "}});\n",
       "\n",
       "// Listen for the removal of the full notebook cells\n",
       "var notebookContainer = gd.closest('#notebook-container');\n",
       "if (notebookContainer) {{\n",
       "    x.observe(notebookContainer, {childList: true});\n",
       "}}\n",
       "\n",
       "// Listen for the clearing of the current output cell\n",
       "var outputEl = gd.closest('.output');\n",
       "if (outputEl) {{\n",
       "    x.observe(outputEl, {childList: true});\n",
       "}}\n",
       "\n",
       "                        })                };                });            </script>        </div>"
      ]
     },
     "metadata": {},
     "output_type": "display_data"
    }
   ],
   "source": [
    "### plot the coef scores / print the hit rates ###\n",
    "\n",
    "train_era_scores = pd.DataFrame(train_era_scores, columns=['era_score']).assign(era='train')\n",
    "val_era_scores = pd.DataFrame(val_era_scores, columns=['era_score']).assign(era='val')\n",
    "test_era_scores = pd.DataFrame(test_era_scores, columns=['era_score']).assign(era='test')\n",
    "era_scores = pd.concat([train_era_scores, val_era_scores, test_era_scores])\n",
    "\n",
    "fig = px.line(era_scores.reset_index(), x=\"date\", y=\"era_score\", line_group='era', color='era')\n",
    "fig.show()"
   ]
  },
  {
   "cell_type": "markdown",
   "metadata": {},
   "source": [
    "### save model"
   ]
  },
  {
   "cell_type": "code",
   "execution_count": 79,
   "metadata": {},
   "outputs": [],
   "source": [
    "if SAVE_MODEL:\n",
    "    dill.dump(model_dict['model'], open(MODEL_OUTPATH + \\\n",
    "                                        type(model_dict['model']).__name__ + '_' + \\\n",
    "                                        str(datetime.datetime.today()\\\n",
    "                                            .replace(second=0, microsecond=0))\\\n",
    "                                            .replace(' ', '_')\\\n",
    "                                            .replace(':', '_') + '.pkl',\\\n",
    "                                            'wb'))"
   ]
  },
  {
   "cell_type": "markdown",
   "metadata": {},
   "source": [
    "### submit model sandbox"
   ]
  },
  {
   "cell_type": "code",
   "execution_count": 45,
   "metadata": {},
   "outputs": [
    {
     "name": "stdout",
     "output_type": "stream",
     "text": [
      "(2161626, 4)\n"
     ]
    },
    {
     "data": {
      "text/html": [
       "<div>\n",
       "<style scoped>\n",
       "    .dataframe tbody tr th:only-of-type {\n",
       "        vertical-align: middle;\n",
       "    }\n",
       "\n",
       "    .dataframe tbody tr th {\n",
       "        vertical-align: top;\n",
       "    }\n",
       "\n",
       "    .dataframe thead th {\n",
       "        text-align: right;\n",
       "    }\n",
       "</style>\n",
       "<table border=\"1\" class=\"dataframe\">\n",
       "  <thead>\n",
       "    <tr style=\"text-align: right;\">\n",
       "      <th></th>\n",
       "      <th>ticker</th>\n",
       "      <th>friday_date</th>\n",
       "      <th>data_type</th>\n",
       "      <th>target</th>\n",
       "    </tr>\n",
       "  </thead>\n",
       "  <tbody>\n",
       "    <tr>\n",
       "      <th>2148958</th>\n",
       "      <td>000060 KS</td>\n",
       "      <td>20130104</td>\n",
       "      <td>validation</td>\n",
       "      <td>1.00000</td>\n",
       "    </tr>\n",
       "    <tr>\n",
       "      <th>2148959</th>\n",
       "      <td>000080 KS</td>\n",
       "      <td>20130104</td>\n",
       "      <td>validation</td>\n",
       "      <td>0.75000</td>\n",
       "    </tr>\n",
       "  </tbody>\n",
       "</table>\n",
       "</div>"
      ],
      "text/plain": [
       "            ticker  friday_date   data_type  target\n",
       "2148958  000060 KS     20130104  validation 1.00000\n",
       "2148959  000080 KS     20130104  validation 0.75000"
      ]
     },
     "execution_count": 45,
     "metadata": {},
     "output_type": "execute_result"
    }
   ],
   "source": [
    "df_val = pd.read_csv(napi.download_validation_data())\n",
    "df_val = df_val[df_val['data_type'] == 'validation'].rename(columns={'bloomberg_ticker': 'ticker'})\n",
    "print(df_val.shape)\n",
    "df_val.head(2)"
   ]
  },
  {
   "cell_type": "code",
   "execution_count": 41,
   "metadata": {},
   "outputs": [
    {
     "name": "stdout",
     "output_type": "stream",
     "text": [
      "(2156196, 4)\n"
     ]
    },
    {
     "data": {
      "text/html": [
       "<div>\n",
       "<style scoped>\n",
       "    .dataframe tbody tr th:only-of-type {\n",
       "        vertical-align: middle;\n",
       "    }\n",
       "\n",
       "    .dataframe tbody tr th {\n",
       "        vertical-align: top;\n",
       "    }\n",
       "\n",
       "    .dataframe thead th {\n",
       "        text-align: right;\n",
       "    }\n",
       "</style>\n",
       "<table border=\"1\" class=\"dataframe\">\n",
       "  <thead>\n",
       "    <tr style=\"text-align: right;\">\n",
       "      <th></th>\n",
       "      <th>ticker</th>\n",
       "      <th>signal</th>\n",
       "      <th>friday_date</th>\n",
       "      <th>data_type</th>\n",
       "    </tr>\n",
       "  </thead>\n",
       "  <tbody>\n",
       "    <tr>\n",
       "      <th>2148958</th>\n",
       "      <td>000060 KS</td>\n",
       "      <td>0.47222</td>\n",
       "      <td>20130104.00000</td>\n",
       "      <td>validation</td>\n",
       "    </tr>\n",
       "    <tr>\n",
       "      <th>2148959</th>\n",
       "      <td>000080 KS</td>\n",
       "      <td>0.58933</td>\n",
       "      <td>20130104.00000</td>\n",
       "      <td>validation</td>\n",
       "    </tr>\n",
       "  </tbody>\n",
       "</table>\n",
       "</div>"
      ],
      "text/plain": [
       "            ticker  signal    friday_date   data_type\n",
       "2148958  000060 KS 0.47222 20130104.00000  validation\n",
       "2148959  000080 KS 0.58933 20130104.00000  validation"
      ]
     },
     "execution_count": 41,
     "metadata": {},
     "output_type": "execute_result"
    }
   ],
   "source": [
    "df_to_submit = model_dict['df_pred'][\\\n",
    "                                     model_dict['df_pred']['data_type'] == 'validation'][\\\n",
    "                                                                                         ['bloomberg_ticker', 'friday_date', 'data_type', 'target', pred_colname]]\\\n",
    "                                                                                            .rename(columns={pred_colname: 'signal',\n",
    "                                                                                                             'bloomberg_ticker': 'ticker'})\n",
    "df_to_submit = df_to_submit[['ticker', 'signal', 'friday_date', 'data_type']]\n",
    "print(df_to_submit.shape)\n",
    "df_to_submit.head(2)"
   ]
  },
  {
   "cell_type": "code",
   "execution_count": 46,
   "metadata": {},
   "outputs": [
    {
     "name": "stdout",
     "output_type": "stream",
     "text": [
      "(2156196, 4)\n"
     ]
    },
    {
     "data": {
      "text/html": [
       "<div>\n",
       "<style scoped>\n",
       "    .dataframe tbody tr th:only-of-type {\n",
       "        vertical-align: middle;\n",
       "    }\n",
       "\n",
       "    .dataframe tbody tr th {\n",
       "        vertical-align: top;\n",
       "    }\n",
       "\n",
       "    .dataframe thead th {\n",
       "        text-align: right;\n",
       "    }\n",
       "</style>\n",
       "<table border=\"1\" class=\"dataframe\">\n",
       "  <thead>\n",
       "    <tr style=\"text-align: right;\">\n",
       "      <th></th>\n",
       "      <th>ticker</th>\n",
       "      <th>signal</th>\n",
       "      <th>friday_date</th>\n",
       "      <th>data_type</th>\n",
       "    </tr>\n",
       "  </thead>\n",
       "  <tbody>\n",
       "    <tr>\n",
       "      <th>0</th>\n",
       "      <td>000060 KS</td>\n",
       "      <td>0.47222</td>\n",
       "      <td>20130104.00000</td>\n",
       "      <td>validation</td>\n",
       "    </tr>\n",
       "    <tr>\n",
       "      <th>1</th>\n",
       "      <td>000080 KS</td>\n",
       "      <td>0.58933</td>\n",
       "      <td>20130104.00000</td>\n",
       "      <td>validation</td>\n",
       "    </tr>\n",
       "  </tbody>\n",
       "</table>\n",
       "</div>"
      ],
      "text/plain": [
       "      ticker  signal    friday_date   data_type\n",
       "0  000060 KS 0.47222 20130104.00000  validation\n",
       "1  000080 KS 0.58933 20130104.00000  validation"
      ]
     },
     "execution_count": 46,
     "metadata": {},
     "output_type": "execute_result"
    }
   ],
   "source": [
    "df_to_submit = pd.merge(df_to_submit,\n",
    "                        df_val[['friday_date', 'ticker']], on=['friday_date', 'ticker'])\n",
    "print(df_to_submit.shape)\n",
    "df_to_submit.head(2)"
   ]
  },
  {
   "cell_type": "code",
   "execution_count": 51,
   "metadata": {},
   "outputs": [
    {
     "data": {
      "text/plain": [
       "'852fd5ba-3e09-4d50-b89a-4b91485aef7c'"
      ]
     },
     "execution_count": 51,
     "metadata": {},
     "output_type": "execute_result"
    }
   ],
   "source": []
  },
  {
   "cell_type": "code",
   "execution_count": 52,
   "metadata": {},
   "outputs": [
    {
     "data": {
      "text/html": [
       "<div>\n",
       "<style scoped>\n",
       "    .dataframe tbody tr th:only-of-type {\n",
       "        vertical-align: middle;\n",
       "    }\n",
       "\n",
       "    .dataframe tbody tr th {\n",
       "        vertical-align: top;\n",
       "    }\n",
       "\n",
       "    .dataframe thead th {\n",
       "        text-align: right;\n",
       "    }\n",
       "</style>\n",
       "<table border=\"1\" class=\"dataframe\">\n",
       "  <thead>\n",
       "    <tr style=\"text-align: right;\">\n",
       "      <th></th>\n",
       "      <th>ticker</th>\n",
       "      <th>signal</th>\n",
       "      <th>friday_date</th>\n",
       "      <th>data_type</th>\n",
       "    </tr>\n",
       "  </thead>\n",
       "  <tbody>\n",
       "    <tr>\n",
       "      <th>2156194</th>\n",
       "      <td>ZYXI US</td>\n",
       "      <td>0.52891</td>\n",
       "      <td>20210402.00000</td>\n",
       "      <td>validation</td>\n",
       "    </tr>\n",
       "    <tr>\n",
       "      <th>2156195</th>\n",
       "      <td>ZZZ CN</td>\n",
       "      <td>0.51358</td>\n",
       "      <td>20210402.00000</td>\n",
       "      <td>validation</td>\n",
       "    </tr>\n",
       "  </tbody>\n",
       "</table>\n",
       "</div>"
      ],
      "text/plain": [
       "          ticker  signal    friday_date   data_type\n",
       "2156194  ZYXI US 0.52891 20210402.00000  validation\n",
       "2156195   ZZZ CN 0.51358 20210402.00000  validation"
      ]
     },
     "execution_count": 52,
     "metadata": {},
     "output_type": "execute_result"
    }
   ],
   "source": [
    "df_to_submit.tail(2)"
   ]
  },
  {
   "cell_type": "code",
   "execution_count": 57,
   "metadata": {},
   "outputs": [],
   "source": [
    "df_to_submit.to_csv('/media/melgazar9/HDD_10TB/trading/data/numerai/submissions/df_to_submit_example.csv')"
   ]
  },
  {
   "cell_type": "code",
   "execution_count": 58,
   "metadata": {},
   "outputs": [
    {
     "name": "stderr",
     "output_type": "stream",
     "text": [
      "2021-04-24 12:39:21,783 INFO numerapi.base_api: uploading predictions...\n",
      "2021-04-24 12:40:42,062 ERROR numerapi.base_api: headers must be signal, and bloomberg_ticker, cusip or sedol\n"
     ]
    },
    {
     "ename": "ValueError",
     "evalue": "headers must be signal, and bloomberg_ticker, cusip or sedol",
     "output_type": "error",
     "traceback": [
      "\u001b[0;31m---------------------------------------------------------------------------\u001b[0m",
      "\u001b[0;31mValueError\u001b[0m                                Traceback (most recent call last)",
      "\u001b[0;32m<ipython-input-58-e9f9652a576f>\u001b[0m in \u001b[0;36m<module>\u001b[0;34m\u001b[0m\n\u001b[1;32m      1\u001b[0m \u001b[0;31m# test submition\u001b[0m\u001b[0;34m\u001b[0m\u001b[0;34m\u001b[0m\u001b[0;34m\u001b[0m\u001b[0m\n\u001b[1;32m      2\u001b[0m napi.upload_predictions('/media/melgazar9/HDD_10TB/trading/data/numerai/submissions/df_to_submit_example.csv',\n\u001b[0;32m----> 3\u001b[0;31m                         model_id=list(napi.get_models().values())[0])\n\u001b[0m",
      "\u001b[0;32m~/anaconda3/lib/python3.7/site-packages/numerapi/signalsapi.py\u001b[0m in \u001b[0;36mupload_predictions\u001b[0;34m(self, file_path, model_id)\u001b[0m\n\u001b[1;32m    125\u001b[0m                      \u001b[0;34m'modelId'\u001b[0m\u001b[0;34m:\u001b[0m \u001b[0mmodel_id\u001b[0m\u001b[0;34m,\u001b[0m\u001b[0;34m\u001b[0m\u001b[0;34m\u001b[0m\u001b[0m\n\u001b[1;32m    126\u001b[0m                      'triggerId': os.getenv('TRIGGER_ID', None)}\n\u001b[0;32m--> 127\u001b[0;31m         \u001b[0mcreate\u001b[0m \u001b[0;34m=\u001b[0m \u001b[0mself\u001b[0m\u001b[0;34m.\u001b[0m\u001b[0mraw_query\u001b[0m\u001b[0;34m(\u001b[0m\u001b[0mcreate_query\u001b[0m\u001b[0;34m,\u001b[0m \u001b[0marguments\u001b[0m\u001b[0;34m,\u001b[0m \u001b[0mauthorization\u001b[0m\u001b[0;34m=\u001b[0m\u001b[0;32mTrue\u001b[0m\u001b[0;34m)\u001b[0m\u001b[0;34m\u001b[0m\u001b[0;34m\u001b[0m\u001b[0m\n\u001b[0m\u001b[1;32m    128\u001b[0m         \u001b[0;32mreturn\u001b[0m \u001b[0mcreate\u001b[0m\u001b[0;34m[\u001b[0m\u001b[0;34m'data'\u001b[0m\u001b[0;34m]\u001b[0m\u001b[0;34m[\u001b[0m\u001b[0;34m'createSignalsSubmission'\u001b[0m\u001b[0;34m]\u001b[0m\u001b[0;34m[\u001b[0m\u001b[0;34m'id'\u001b[0m\u001b[0;34m]\u001b[0m\u001b[0;34m\u001b[0m\u001b[0;34m\u001b[0m\u001b[0m\n\u001b[1;32m    129\u001b[0m \u001b[0;34m\u001b[0m\u001b[0m\n",
      "\u001b[0;32m~/anaconda3/lib/python3.7/site-packages/numerapi/base_api.py\u001b[0m in \u001b[0;36mraw_query\u001b[0;34m(self, query, variables, authorization)\u001b[0m\n\u001b[1;32m    119\u001b[0m             \u001b[0merr\u001b[0m \u001b[0;34m=\u001b[0m \u001b[0mself\u001b[0m\u001b[0;34m.\u001b[0m\u001b[0m_handle_call_error\u001b[0m\u001b[0;34m(\u001b[0m\u001b[0mresult\u001b[0m\u001b[0;34m[\u001b[0m\u001b[0;34m'errors'\u001b[0m\u001b[0;34m]\u001b[0m\u001b[0;34m)\u001b[0m\u001b[0;34m\u001b[0m\u001b[0;34m\u001b[0m\u001b[0m\n\u001b[1;32m    120\u001b[0m             \u001b[0;31m# fail!\u001b[0m\u001b[0;34m\u001b[0m\u001b[0;34m\u001b[0m\u001b[0;34m\u001b[0m\u001b[0m\n\u001b[0;32m--> 121\u001b[0;31m             \u001b[0;32mraise\u001b[0m \u001b[0mValueError\u001b[0m\u001b[0;34m(\u001b[0m\u001b[0merr\u001b[0m\u001b[0;34m)\u001b[0m\u001b[0;34m\u001b[0m\u001b[0;34m\u001b[0m\u001b[0m\n\u001b[0m\u001b[1;32m    122\u001b[0m         \u001b[0;32mreturn\u001b[0m \u001b[0mresult\u001b[0m\u001b[0;34m\u001b[0m\u001b[0;34m\u001b[0m\u001b[0m\n\u001b[1;32m    123\u001b[0m \u001b[0;34m\u001b[0m\u001b[0m\n",
      "\u001b[0;31mValueError\u001b[0m: headers must be signal, and bloomberg_ticker, cusip or sedol"
     ]
    }
   ],
   "source": [
    "# test submition\n",
    "napi.upload_predictions('/media/melgazar9/HDD_10TB/trading/data/numerai/submissions/df_to_submit_example.csv',\n",
    "                        model_id=list(napi.get_models().values())[0])"
   ]
  },
  {
   "cell_type": "code",
   "execution_count": null,
   "metadata": {},
   "outputs": [],
   "source": []
  }
 ],
 "metadata": {
  "kernelspec": {
   "display_name": "Python 3",
   "language": "python",
   "name": "python3"
  },
  "language_info": {
   "codemirror_mode": {
    "name": "ipython",
    "version": 3
   },
   "file_extension": ".py",
   "mimetype": "text/x-python",
   "name": "python",
   "nbconvert_exporter": "python",
   "pygments_lexer": "ipython3",
   "version": "3.7.6"
  }
 },
 "nbformat": 4,
 "nbformat_minor": 4
}
