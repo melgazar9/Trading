{
 "cells": [
  {
   "cell_type": "markdown",
   "metadata": {},
   "source": [
    "### Make cells wider"
   ]
  },
  {
   "cell_type": "code",
   "execution_count": 1,
   "metadata": {},
   "outputs": [
    {
     "data": {
      "text/html": [
       "<style>.container { width:100% !important; }</style>"
      ],
      "text/plain": [
       "<IPython.core.display.HTML object>"
      ]
     },
     "metadata": {},
     "output_type": "display_data"
    }
   ],
   "source": [
    "from IPython.core.display import display, HTML\n",
    "display(HTML(\"<style>.container { width:100% !important; }</style>\"))"
   ]
  },
  {
   "cell_type": "markdown",
   "metadata": {},
   "source": [
    "### Imports"
   ]
  },
  {
   "cell_type": "code",
   "execution_count": 2,
   "metadata": {},
   "outputs": [],
   "source": [
    "import os"
   ]
  },
  {
   "cell_type": "code",
   "execution_count": 3,
   "metadata": {},
   "outputs": [],
   "source": [
    "os.chdir('../..') # local"
   ]
  },
  {
   "cell_type": "code",
   "execution_count": 4,
   "metadata": {},
   "outputs": [],
   "source": [
    "os.environ['NUMEXPR_MAX_THREADS'] = '32'\n",
    "os.environ['NUMEXPR_NUM_THREADS'] = '16'"
   ]
  },
  {
   "cell_type": "code",
   "execution_count": 5,
   "metadata": {},
   "outputs": [
    {
     "name": "stdout",
     "output_type": "stream",
     "text": [
      "CPU times: user 1.65 s, sys: 1.97 s, total: 3.62 s\n",
      "Wall time: 1.37 s\n"
     ]
    }
   ],
   "source": [
    "%%time\n",
    "from dev.scripts.ML_utils import * # run if on local machine\n",
    "from dev.scripts.numerai_utils import *\n",
    "\n",
    "from dev.scripts.trading_utils import * # run if on local machine"
   ]
  },
  {
   "cell_type": "code",
   "execution_count": 6,
   "metadata": {},
   "outputs": [],
   "source": [
    "import configparser\n",
    "config = configparser.ConfigParser()\n",
    "config.read('numerai/numerai_keys.ini')\n",
    "\n",
    "OUTPUT_PATH = '/media/melgazar9/HDD_10TB/trading/data/numerai/'"
   ]
  },
  {
   "cell_type": "markdown",
   "metadata": {},
   "source": [
    "### Load in the df created in build_numerai_dataset.ipynb\n",
    "train / val columns are already populated into the dataset, but later I will create a test set and use the validation to improve hyperparameters "
   ]
  },
  {
   "cell_type": "code",
   "execution_count": 7,
   "metadata": {},
   "outputs": [
    {
     "name": "stdout",
     "output_type": "stream",
     "text": [
      "CPU times: user 4.27 s, sys: 12.2 s, total: 16.5 s\n",
      "Wall time: 1.08 s\n"
     ]
    },
    {
     "data": {
      "text/html": [
       "<div>\n",
       "<style scoped>\n",
       "    .dataframe tbody tr th:only-of-type {\n",
       "        vertical-align: middle;\n",
       "    }\n",
       "\n",
       "    .dataframe tbody tr th {\n",
       "        vertical-align: top;\n",
       "    }\n",
       "\n",
       "    .dataframe thead th {\n",
       "        text-align: right;\n",
       "    }\n",
       "</style>\n",
       "<table border=\"1\" class=\"dataframe\">\n",
       "  <thead>\n",
       "    <tr style=\"text-align: right;\">\n",
       "      <th></th>\n",
       "      <th>date</th>\n",
       "      <th>yahoo_ticker</th>\n",
       "      <th>adj_close_1d</th>\n",
       "      <th>close_1d</th>\n",
       "      <th>high_1d</th>\n",
       "      <th>low_1d</th>\n",
       "      <th>open_1d</th>\n",
       "      <th>volume_1d</th>\n",
       "      <th>adj_close_1h_0</th>\n",
       "      <th>adj_close_1h_1</th>\n",
       "      <th>...</th>\n",
       "      <th>prev1_target_rolling_mean</th>\n",
       "      <th>open_1d_rolling_mean</th>\n",
       "      <th>prev1_target_HL5_rolling_mean</th>\n",
       "      <th>high_1d_ewm_mean</th>\n",
       "      <th>low_1d_ewm_mean</th>\n",
       "      <th>adj_close_1d_ewm_mean</th>\n",
       "      <th>volume_1d_ewm_mean</th>\n",
       "      <th>prev1_target_ewm_mean</th>\n",
       "      <th>open_1d_ewm_mean</th>\n",
       "      <th>prev1_target_HL5_ewm_mean</th>\n",
       "    </tr>\n",
       "  </thead>\n",
       "  <tbody>\n",
       "    <tr>\n",
       "      <th>2633677</th>\n",
       "      <td>2021-03-26</td>\n",
       "      <td>ZZZ.TO</td>\n",
       "      <td>32.060001</td>\n",
       "      <td>32.060001</td>\n",
       "      <td>32.060001</td>\n",
       "      <td>31.625</td>\n",
       "      <td>31.709999</td>\n",
       "      <td>40900.0</td>\n",
       "      <td>NaN</td>\n",
       "      <td>NaN</td>\n",
       "      <td>...</td>\n",
       "      <td>0.516667</td>\n",
       "      <td>27.616333</td>\n",
       "      <td>2.000000</td>\n",
       "      <td>31.963528</td>\n",
       "      <td>31.342508</td>\n",
       "      <td>31.912844</td>\n",
       "      <td>73758.914766</td>\n",
       "      <td>0.525030</td>\n",
       "      <td>31.537437</td>\n",
       "      <td>2.780531</td>\n",
       "    </tr>\n",
       "    <tr>\n",
       "      <th>2633678</th>\n",
       "      <td>2021-03-26</td>\n",
       "      <td>ZZZ.TO</td>\n",
       "      <td>32.060001</td>\n",
       "      <td>32.060001</td>\n",
       "      <td>32.060001</td>\n",
       "      <td>31.625</td>\n",
       "      <td>31.709999</td>\n",
       "      <td>40900.0</td>\n",
       "      <td>NaN</td>\n",
       "      <td>NaN</td>\n",
       "      <td>...</td>\n",
       "      <td>0.516667</td>\n",
       "      <td>27.844000</td>\n",
       "      <td>2.033333</td>\n",
       "      <td>32.027844</td>\n",
       "      <td>31.530836</td>\n",
       "      <td>32.010949</td>\n",
       "      <td>51852.971589</td>\n",
       "      <td>0.508343</td>\n",
       "      <td>31.652478</td>\n",
       "      <td>2.260177</td>\n",
       "    </tr>\n",
       "  </tbody>\n",
       "</table>\n",
       "<p>2 rows × 216 columns</p>\n",
       "</div>"
      ],
      "text/plain": [
       "              date yahoo_ticker  adj_close_1d   close_1d    high_1d  low_1d  \\\n",
       "2633677 2021-03-26       ZZZ.TO     32.060001  32.060001  32.060001  31.625   \n",
       "2633678 2021-03-26       ZZZ.TO     32.060001  32.060001  32.060001  31.625   \n",
       "\n",
       "           open_1d  volume_1d  adj_close_1h_0  adj_close_1h_1  ...  \\\n",
       "2633677  31.709999    40900.0             NaN             NaN  ...   \n",
       "2633678  31.709999    40900.0             NaN             NaN  ...   \n",
       "\n",
       "         prev1_target_rolling_mean  open_1d_rolling_mean  \\\n",
       "2633677                   0.516667             27.616333   \n",
       "2633678                   0.516667             27.844000   \n",
       "\n",
       "         prev1_target_HL5_rolling_mean  high_1d_ewm_mean  low_1d_ewm_mean  \\\n",
       "2633677                       2.000000         31.963528        31.342508   \n",
       "2633678                       2.033333         32.027844        31.530836   \n",
       "\n",
       "         adj_close_1d_ewm_mean  volume_1d_ewm_mean  prev1_target_ewm_mean  \\\n",
       "2633677              31.912844        73758.914766               0.525030   \n",
       "2633678              32.010949        51852.971589               0.508343   \n",
       "\n",
       "         open_1d_ewm_mean  prev1_target_HL5_ewm_mean  \n",
       "2633677         31.537437                   2.780531  \n",
       "2633678         31.652478                   2.260177  \n",
       "\n",
       "[2 rows x 216 columns]"
      ]
     },
     "execution_count": 7,
     "metadata": {},
     "output_type": "execute_result"
    }
   ],
   "source": [
    "%%time\n",
    "DF_NUMERAI_PATH = '/media/melgazar9/HDD_10TB/trading/data/yfinance/df_numerai_2021-04-11.feather'\n",
    "df_numerai = pd.read_feather(DF_NUMERAI_PATH)\n",
    "\n",
    "df_numerai.tail(2)"
   ]
  },
  {
   "cell_type": "markdown",
   "metadata": {},
   "source": [
    "### Select input features\n",
    "OHLC are not valid input features since they are not stationary and there is no upper bound. I will only be selecting stationary or categorical features as input features."
   ]
  },
  {
   "cell_type": "code",
   "execution_count": 8,
   "metadata": {},
   "outputs": [],
   "source": [
    "import re"
   ]
  },
  {
   "cell_type": "code",
   "execution_count": 9,
   "metadata": {
    "scrolled": true
   },
   "outputs": [
    {
     "data": {
      "text/plain": [
       "['adj_close_1h_0',\n",
       " 'adj_close_1h_1',\n",
       " 'adj_close_1h_2',\n",
       " 'adj_close_1h_3',\n",
       " 'adj_close_1h_4',\n",
       " 'adj_close_1h_5',\n",
       " 'adj_close_1h_6',\n",
       " 'adj_close_1h_7',\n",
       " 'adj_close_1h_8',\n",
       " 'adj_close_1h_9']"
      ]
     },
     "execution_count": 9,
     "metadata": {},
     "output_type": "execute_result"
    }
   ],
   "source": [
    "non_features = list(filter(re.compile(\"open_.*[0-9]$|.*close_.*[0-9]$|low_.*[0-9]$|.*high_.*[0-9]$\").match, df_numerai.columns.tolist()))\n",
    "non_features[0:10]"
   ]
  },
  {
   "cell_type": "code",
   "execution_count": 83,
   "metadata": {},
   "outputs": [
    {
     "data": {
      "text/plain": [
       "0          2475.666504\n",
       "1          2800.644836\n",
       "2          2896.690993\n",
       "3          3240.220953\n",
       "4          3072.756077\n",
       "              ...     \n",
       "2633674      30.726770\n",
       "2633675      31.395590\n",
       "2633676      31.618530\n",
       "2633677      31.912844\n",
       "2633678      32.010949\n",
       "Name: adj_close_1d_ewm_mean, Length: 2633679, dtype: float64"
      ]
     },
     "execution_count": 83,
     "metadata": {},
     "output_type": "execute_result"
    }
   ],
   "source": [
    "df_numerai['adj_close_1d_ewm_mean']"
   ]
  },
  {
   "cell_type": "code",
   "execution_count": 9,
   "metadata": {},
   "outputs": [
    {
     "data": {
      "text/plain": [
       "['date',\n",
       " 'yahoo_ticker',\n",
       " 'adj_close_1d',\n",
       " 'close_1d',\n",
       " 'high_1d',\n",
       " 'low_1d',\n",
       " 'open_1d',\n",
       " 'volume_1d',\n",
       " 'adj_close_1h_0',\n",
       " 'adj_close_1h_1',\n",
       " 'adj_close_1h_2',\n",
       " 'adj_close_1h_3',\n",
       " 'adj_close_1h_4',\n",
       " 'adj_close_1h_5',\n",
       " 'adj_close_1h_6',\n",
       " 'adj_close_1h_7',\n",
       " 'adj_close_1h_8',\n",
       " 'adj_close_1h_9',\n",
       " 'adj_close_1h_10',\n",
       " 'adj_close_1h_11',\n",
       " 'adj_close_1h_12',\n",
       " 'adj_close_1h_13',\n",
       " 'adj_close_1h_14',\n",
       " 'adj_close_1h_15',\n",
       " 'adj_close_1h_16',\n",
       " 'adj_close_1h_17',\n",
       " 'adj_close_1h_18',\n",
       " 'adj_close_1h_19',\n",
       " 'adj_close_1h_20',\n",
       " 'adj_close_1h_21',\n",
       " 'adj_close_1h_22',\n",
       " 'adj_close_1h_23',\n",
       " 'close_1h_0',\n",
       " 'close_1h_1',\n",
       " 'close_1h_2',\n",
       " 'close_1h_3',\n",
       " 'close_1h_4',\n",
       " 'close_1h_5',\n",
       " 'close_1h_6',\n",
       " 'close_1h_7',\n",
       " 'close_1h_8',\n",
       " 'close_1h_9',\n",
       " 'close_1h_10',\n",
       " 'close_1h_11',\n",
       " 'close_1h_12',\n",
       " 'close_1h_13',\n",
       " 'close_1h_14',\n",
       " 'close_1h_15',\n",
       " 'close_1h_16',\n",
       " 'close_1h_17',\n",
       " 'close_1h_18',\n",
       " 'close_1h_19',\n",
       " 'close_1h_20',\n",
       " 'close_1h_21',\n",
       " 'close_1h_22',\n",
       " 'close_1h_23',\n",
       " 'high_1h_0',\n",
       " 'high_1h_1',\n",
       " 'high_1h_2',\n",
       " 'high_1h_3',\n",
       " 'high_1h_4',\n",
       " 'high_1h_5',\n",
       " 'high_1h_6',\n",
       " 'high_1h_7',\n",
       " 'high_1h_8',\n",
       " 'high_1h_9',\n",
       " 'high_1h_10',\n",
       " 'high_1h_11',\n",
       " 'high_1h_12',\n",
       " 'high_1h_13',\n",
       " 'high_1h_14',\n",
       " 'high_1h_15',\n",
       " 'high_1h_16',\n",
       " 'high_1h_17',\n",
       " 'high_1h_18',\n",
       " 'high_1h_19',\n",
       " 'high_1h_20',\n",
       " 'high_1h_21',\n",
       " 'high_1h_22',\n",
       " 'high_1h_23',\n",
       " 'low_1h_0',\n",
       " 'low_1h_1',\n",
       " 'low_1h_2',\n",
       " 'low_1h_3',\n",
       " 'low_1h_4',\n",
       " 'low_1h_5',\n",
       " 'low_1h_6',\n",
       " 'low_1h_7',\n",
       " 'low_1h_8',\n",
       " 'low_1h_9',\n",
       " 'low_1h_10',\n",
       " 'low_1h_11',\n",
       " 'low_1h_12',\n",
       " 'low_1h_13',\n",
       " 'low_1h_14',\n",
       " 'low_1h_15',\n",
       " 'low_1h_16',\n",
       " 'low_1h_17',\n",
       " 'low_1h_18',\n",
       " 'low_1h_19',\n",
       " 'low_1h_20',\n",
       " 'low_1h_21',\n",
       " 'low_1h_22',\n",
       " 'low_1h_23',\n",
       " 'open_1h_0',\n",
       " 'open_1h_1',\n",
       " 'open_1h_2',\n",
       " 'open_1h_3',\n",
       " 'open_1h_4',\n",
       " 'open_1h_5',\n",
       " 'open_1h_6',\n",
       " 'open_1h_7',\n",
       " 'open_1h_8',\n",
       " 'open_1h_9',\n",
       " 'open_1h_10',\n",
       " 'open_1h_11',\n",
       " 'open_1h_12',\n",
       " 'open_1h_13',\n",
       " 'open_1h_14',\n",
       " 'open_1h_15',\n",
       " 'open_1h_16',\n",
       " 'open_1h_17',\n",
       " 'open_1h_18',\n",
       " 'open_1h_19',\n",
       " 'open_1h_20',\n",
       " 'open_1h_21',\n",
       " 'open_1h_22',\n",
       " 'open_1h_23',\n",
       " 'volume_1h_0',\n",
       " 'volume_1h_1',\n",
       " 'volume_1h_2',\n",
       " 'volume_1h_3',\n",
       " 'volume_1h_4',\n",
       " 'volume_1h_5',\n",
       " 'volume_1h_6',\n",
       " 'volume_1h_7',\n",
       " 'volume_1h_8',\n",
       " 'volume_1h_9',\n",
       " 'volume_1h_10',\n",
       " 'volume_1h_11',\n",
       " 'volume_1h_12',\n",
       " 'volume_1h_13',\n",
       " 'volume_1h_14',\n",
       " 'volume_1h_15',\n",
       " 'volume_1h_16',\n",
       " 'volume_1h_17',\n",
       " 'volume_1h_18',\n",
       " 'volume_1h_19',\n",
       " 'volume_1h_20',\n",
       " 'volume_1h_21',\n",
       " 'volume_1h_22',\n",
       " 'volume_1h_23',\n",
       " 'bloomberg_ticker',\n",
       " 'friday_date',\n",
       " 'data_type',\n",
       " 'target',\n",
       " 'move_1d',\n",
       " 'move_pct_1d',\n",
       " 'move_pct_change_1d',\n",
       " 'open_minus_prev_close_1d',\n",
       " 'prev_close_pct_chg_1d',\n",
       " 'range_1d',\n",
       " 'range_pct_change_1d',\n",
       " 'high_move_1d',\n",
       " 'high_move_pct_1d',\n",
       " 'high_move_pct_change_1d',\n",
       " 'low_move_1d',\n",
       " 'low_move_pct_1d',\n",
       " 'low_move_pct_change_1d',\n",
       " 'volume_diff_1d',\n",
       " 'volume_pct_change_1d',\n",
       " 'low_minus_close_1d',\n",
       " 'high_minus_close_1d',\n",
       " 'low_minus_prev_close_1d',\n",
       " 'high_minus_prev_close_1d',\n",
       " 'target_HL3',\n",
       " 'target_HL5',\n",
       " 'prev1_target',\n",
       " 'prev1_volume_1d',\n",
       " 'prev1_move_1d',\n",
       " 'prev2_target',\n",
       " 'prev2_target_HL5',\n",
       " 'prev2_volume_1d',\n",
       " 'prev2_adj_close_1d',\n",
       " 'prev2_move_1d',\n",
       " 'prev3_target_HL5',\n",
       " 'prev3_volume_1d',\n",
       " 'prev3_adj_close_1d',\n",
       " 'prev3_move_1d',\n",
       " 'prev4_move_1d',\n",
       " 'prev5_adj_close_1d',\n",
       " 'prev5_move_1d',\n",
       " 'prev6_adj_close_1d',\n",
       " 'prev7_adj_close_1d',\n",
       " 'target_rolling_mean',\n",
       " 'adj_close_1d_rolling_mean',\n",
       " 'adj_close_1d_ewm_mean',\n",
       " 'target_HL5_ewm_mean']"
      ]
     },
     "execution_count": 9,
     "metadata": {},
     "output_type": "execute_result"
    }
   ],
   "source": [
    "df_numerai.columns.tolist()"
   ]
  },
  {
   "cell_type": "markdown",
   "metadata": {},
   "source": [
    "### Preprocess features"
   ]
  },
  {
   "cell_type": "code",
   "execution_count": null,
   "metadata": {},
   "outputs": [],
   "source": [
    "PRESERVE_VARS = ['date', 'yahoo_ticker', '']"
   ]
  },
  {
   "cell_type": "code",
   "execution_count": null,
   "metadata": {},
   "outputs": [],
   "source": [
    "feature_transformer = PreprocessFeatures(preserve_vars = PRESERVE_VARS, **FE_PARAMS).fit(X_train, y_train)"
   ]
  }
 ],
 "metadata": {
  "kernelspec": {
   "display_name": "Python 3",
   "language": "python",
   "name": "python3"
  },
  "language_info": {
   "codemirror_mode": {
    "name": "ipython",
    "version": 3
   },
   "file_extension": ".py",
   "mimetype": "text/x-python",
   "name": "python",
   "nbconvert_exporter": "python",
   "pygments_lexer": "ipython3",
   "version": "3.7.6"
  }
 },
 "nbformat": 4,
 "nbformat_minor": 4
}
