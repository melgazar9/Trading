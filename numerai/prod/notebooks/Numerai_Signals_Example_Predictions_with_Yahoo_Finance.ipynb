{
 "cells": [
  {
   "cell_type": "markdown",
   "metadata": {
    "id": "qxDjie9UBNVK"
   },
   "source": [
    "## Numerai Signals Example Predictions\n",
    "\n",
    "\n",
    "\n",
    "The goal of this notebook is to:\n",
    ">1. read some data from a free source (Yahoo Finance Wrapper: yfinance)\n",
    "2. create features within each era (RSI quintiles and lags)\n",
    "3. train a simple tree model on those features against the Numerai Signals targets (normalized and neutralized rankings per era)\n",
    "4. submit the model's predictions to Signals using numerapi"
   ]
  },
  {
   "cell_type": "markdown",
   "metadata": {
    "id": "7kbs4eCoUqcb"
   },
   "source": [
    "## 1. Setup"
   ]
  },
  {
   "cell_type": "markdown",
   "metadata": {
    "id": "Aj36S_VF1xEg"
   },
   "source": [
    "### Install and import dependencies"
   ]
  },
  {
   "cell_type": "code",
   "execution_count": 1,
   "metadata": {
    "id": "21i9tWw_TITr"
   },
   "outputs": [],
   "source": [
    "# !pip install numerapi==2.3.8\n",
    "# #!pip install yfinance\n",
    "# !pip install git+https://github.com/leonhma/yfinance.git #drop-in replacement yfinance fork for failed downloads, h/t ceunen\n",
    "# !pip install simplejson"
   ]
  },
  {
   "cell_type": "code",
   "execution_count": 5,
   "metadata": {
    "id": "8SHOTsA7S1kG"
   },
   "outputs": [],
   "source": [
    "import numerapi\n",
    "import yfinance\n",
    "import simplejson\n",
    "\n",
    "import numpy as np\n",
    "import matplotlib.pyplot as plt\n",
    "import pandas as pd\n",
    "import requests as re\n",
    "from datetime import datetime\n",
    "from dateutil.relativedelta import relativedelta, FR\n",
    "import os"
   ]
  },
  {
   "cell_type": "code",
   "execution_count": 6,
   "metadata": {
    "id": "fxVWvhua0Bnp"
   },
   "outputs": [],
   "source": [
    "from sklearn.ensemble import GradientBoostingRegressor\n",
    "from xgboost import XGBRegressor"
   ]
  },
  {
   "cell_type": "markdown",
   "metadata": {
    "id": "bCPBFOEYzySC"
   },
   "source": [
    "### Numerapi and Signals tickers\n",
    "Find your Numerapi public and private keys from https://numer.ai/account"
   ]
  },
  {
   "cell_type": "code",
   "execution_count": 7,
   "metadata": {},
   "outputs": [],
   "source": [
    "os.chdir('../..') # local"
   ]
  },
  {
   "cell_type": "code",
   "execution_count": 8,
   "metadata": {},
   "outputs": [
    {
     "data": {
      "text/plain": [
       "['numerai/numerai_keys.ini']"
      ]
     },
     "execution_count": 8,
     "metadata": {},
     "output_type": "execute_result"
    }
   ],
   "source": [
    "import configparser\n",
    "config = configparser.ConfigParser()\n",
    "config.read('numerai/numerai_keys.ini')"
   ]
  },
  {
   "cell_type": "code",
   "execution_count": 9,
   "metadata": {
    "id": "ilajosOCTNYN"
   },
   "outputs": [],
   "source": [
    "napi = numerapi.SignalsAPI(config['KEYS']['NUMERAI_PUBLIC_KEY'], config['KEYS']['NUMERAI_SECRET_KEY'])"
   ]
  },
  {
   "cell_type": "code",
   "execution_count": 5,
   "metadata": {
    "colab": {
     "base_uri": "https://localhost:8080/",
     "height": 34
    },
    "id": "7dBSZo-QTUVk",
    "outputId": "b05f5275-cd23-44ed-8a27-d6b92716b5d7"
   },
   "outputs": [
    {
     "name": "stdout",
     "output_type": "stream",
     "text": [
      "Number of eligible tickers: 5444\n"
     ]
    }
   ],
   "source": [
    "# read in list of active Signals tickers which can change slightly era to era\n",
    "eligible_tickers = pd.Series(napi.ticker_universe(), name='ticker') \n",
    "print(f\"Number of eligible tickers: {len(eligible_tickers)}\")"
   ]
  },
  {
   "cell_type": "code",
   "execution_count": 6,
   "metadata": {
    "colab": {
     "base_uri": "https://localhost:8080/",
     "height": 34
    },
    "id": "xZGJoRxJUTwV",
    "outputId": "43711d91-66c3-44bb-c5e6-ae2becfcd41c"
   },
   "outputs": [
    {
     "name": "stdout",
     "output_type": "stream",
     "text": [
      "Number of eligible tickers in map: 5443\n"
     ]
    }
   ],
   "source": [
    "# read in yahoo to numerai ticker map, still a work in progress, h/t wsouza and \n",
    "# this tickermap is a work in progress and not guaranteed to be 100% correct\n",
    "ticker_map = pd.read_csv('https://numerai-signals-public-data.s3-us-west-2.amazonaws.com/signals_ticker_map_w_bbg.csv')\n",
    "ticker_map = ticker_map[ticker_map.bloomberg_ticker.isin(eligible_tickers)]\n",
    "\n",
    "numerai_tickers = ticker_map['bloomberg_ticker']\n",
    "yfinance_tickers = ticker_map['yahoo']\n",
    "print(f\"Number of eligible tickers in map: {len(ticker_map)}\")"
   ]
  },
  {
   "cell_type": "markdown",
   "metadata": {
    "id": "3ZQ0TMzOn1cY"
   },
   "source": [
    "### YFinance price feed download\n",
    "Download price data (adjusted close) using Yahoo Finance wrapper: https://github.com/ranaroussi/yfinance and https://pypi.org/project/yfinance/. In this case, we're using a fork of yfinance to handle download errors. You should be able to download data for anywhere between 2,000 - 4,000 Signals tickers. Depending on your connection, downloading all of the tickers may take >15 minutes."
   ]
  },
  {
   "cell_type": "markdown",
   "metadata": {
    "id": "6nW0KDgghQzI"
   },
   "source": [
    "#### Option #1 (single download)"
   ]
  },
  {
   "cell_type": "code",
   "execution_count": 8,
   "metadata": {},
   "outputs": [],
   "source": [
    "import os\n",
    "os.environ['NUMEXPR_MAX_THREADS'] = '32'\n",
    "os.environ['NUMEXPR_NUM_THREADS'] = '16'"
   ]
  },
  {
   "cell_type": "code",
   "execution_count": 9,
   "metadata": {
    "id": "rXhwW1P8oAa2"
   },
   "outputs": [
    {
     "name": "stdout",
     "output_type": "stream",
     "text": [
      "[*********************100%***********************]  5393 of 5393 completed\n"
     ]
    }
   ],
   "source": [
    "raw_data = yfinance.download(yfinance_tickers.str.cat(sep=' '), start='2002-12-01', threads=True)\n",
    "raw_data.head()\n",
    "full_data = raw_data['Adj Close'].stack().reset_index()"
   ]
  },
  {
   "cell_type": "code",
   "execution_count": 45,
   "metadata": {},
   "outputs": [
    {
     "data": {
      "text/html": [
       "<div>\n",
       "<style scoped>\n",
       "    .dataframe tbody tr th:only-of-type {\n",
       "        vertical-align: middle;\n",
       "    }\n",
       "\n",
       "    .dataframe tbody tr th {\n",
       "        vertical-align: top;\n",
       "    }\n",
       "\n",
       "    .dataframe thead th {\n",
       "        text-align: right;\n",
       "    }\n",
       "</style>\n",
       "<table border=\"1\" class=\"dataframe\">\n",
       "  <thead>\n",
       "    <tr style=\"text-align: right;\">\n",
       "      <th></th>\n",
       "      <th>ticker</th>\n",
       "      <th>price</th>\n",
       "      <th>RSI</th>\n",
       "      <th>RSI_quintile</th>\n",
       "      <th>RSI_quintile_lag_0</th>\n",
       "      <th>RSI_quintile_lag_1</th>\n",
       "      <th>RSI_quintile_lag_2</th>\n",
       "      <th>RSI_quintile_lag_3</th>\n",
       "      <th>RSI_quintile_lag_4</th>\n",
       "      <th>RSI_quintile_lag_5</th>\n",
       "      <th>RSI_diff_0</th>\n",
       "      <th>RSI_abs_diff_0</th>\n",
       "      <th>RSI_diff_1</th>\n",
       "      <th>RSI_abs_diff_1</th>\n",
       "      <th>RSI_diff_2</th>\n",
       "      <th>RSI_abs_diff_2</th>\n",
       "      <th>RSI_diff_3</th>\n",
       "      <th>RSI_abs_diff_3</th>\n",
       "      <th>RSI_diff_4</th>\n",
       "      <th>RSI_abs_diff_4</th>\n",
       "    </tr>\n",
       "    <tr>\n",
       "      <th>date</th>\n",
       "      <th></th>\n",
       "      <th></th>\n",
       "      <th></th>\n",
       "      <th></th>\n",
       "      <th></th>\n",
       "      <th></th>\n",
       "      <th></th>\n",
       "      <th></th>\n",
       "      <th></th>\n",
       "      <th></th>\n",
       "      <th></th>\n",
       "      <th></th>\n",
       "      <th></th>\n",
       "      <th></th>\n",
       "      <th></th>\n",
       "      <th></th>\n",
       "      <th></th>\n",
       "      <th></th>\n",
       "      <th></th>\n",
       "      <th></th>\n",
       "    </tr>\n",
       "  </thead>\n",
       "  <tbody>\n",
       "    <tr>\n",
       "      <th>2002-12-20</th>\n",
       "      <td>1 HK</td>\n",
       "      <td>18.581551</td>\n",
       "      <td>18.748923</td>\n",
       "      <td>0.0</td>\n",
       "      <td>0.0</td>\n",
       "      <td>NaN</td>\n",
       "      <td>NaN</td>\n",
       "      <td>NaN</td>\n",
       "      <td>NaN</td>\n",
       "      <td>NaN</td>\n",
       "      <td>NaN</td>\n",
       "      <td>NaN</td>\n",
       "      <td>NaN</td>\n",
       "      <td>NaN</td>\n",
       "      <td>NaN</td>\n",
       "      <td>NaN</td>\n",
       "      <td>NaN</td>\n",
       "      <td>NaN</td>\n",
       "      <td>NaN</td>\n",
       "      <td>NaN</td>\n",
       "    </tr>\n",
       "    <tr>\n",
       "      <th>2002-12-20</th>\n",
       "      <td>000100 KS</td>\n",
       "      <td>6421.189941</td>\n",
       "      <td>70.731755</td>\n",
       "      <td>4.0</td>\n",
       "      <td>4.0</td>\n",
       "      <td>NaN</td>\n",
       "      <td>NaN</td>\n",
       "      <td>NaN</td>\n",
       "      <td>NaN</td>\n",
       "      <td>NaN</td>\n",
       "      <td>NaN</td>\n",
       "      <td>NaN</td>\n",
       "      <td>NaN</td>\n",
       "      <td>NaN</td>\n",
       "      <td>NaN</td>\n",
       "      <td>NaN</td>\n",
       "      <td>NaN</td>\n",
       "      <td>NaN</td>\n",
       "      <td>NaN</td>\n",
       "      <td>NaN</td>\n",
       "    </tr>\n",
       "    <tr>\n",
       "      <th>2002-12-20</th>\n",
       "      <td>2 HK</td>\n",
       "      <td>14.372512</td>\n",
       "      <td>58.823595</td>\n",
       "      <td>4.0</td>\n",
       "      <td>4.0</td>\n",
       "      <td>NaN</td>\n",
       "      <td>NaN</td>\n",
       "      <td>NaN</td>\n",
       "      <td>NaN</td>\n",
       "      <td>NaN</td>\n",
       "      <td>NaN</td>\n",
       "      <td>NaN</td>\n",
       "      <td>NaN</td>\n",
       "      <td>NaN</td>\n",
       "      <td>NaN</td>\n",
       "      <td>NaN</td>\n",
       "      <td>NaN</td>\n",
       "      <td>NaN</td>\n",
       "      <td>NaN</td>\n",
       "      <td>NaN</td>\n",
       "    </tr>\n",
       "    <tr>\n",
       "      <th>2002-12-20</th>\n",
       "      <td>3 HK</td>\n",
       "      <td>1.445166</td>\n",
       "      <td>45.453015</td>\n",
       "      <td>2.0</td>\n",
       "      <td>2.0</td>\n",
       "      <td>NaN</td>\n",
       "      <td>NaN</td>\n",
       "      <td>NaN</td>\n",
       "      <td>NaN</td>\n",
       "      <td>NaN</td>\n",
       "      <td>NaN</td>\n",
       "      <td>NaN</td>\n",
       "      <td>NaN</td>\n",
       "      <td>NaN</td>\n",
       "      <td>NaN</td>\n",
       "      <td>NaN</td>\n",
       "      <td>NaN</td>\n",
       "      <td>NaN</td>\n",
       "      <td>NaN</td>\n",
       "      <td>NaN</td>\n",
       "    </tr>\n",
       "    <tr>\n",
       "      <th>2002-12-20</th>\n",
       "      <td>4 HK</td>\n",
       "      <td>1.028013</td>\n",
       "      <td>36.231921</td>\n",
       "      <td>2.0</td>\n",
       "      <td>2.0</td>\n",
       "      <td>NaN</td>\n",
       "      <td>NaN</td>\n",
       "      <td>NaN</td>\n",
       "      <td>NaN</td>\n",
       "      <td>NaN</td>\n",
       "      <td>NaN</td>\n",
       "      <td>NaN</td>\n",
       "      <td>NaN</td>\n",
       "      <td>NaN</td>\n",
       "      <td>NaN</td>\n",
       "      <td>NaN</td>\n",
       "      <td>NaN</td>\n",
       "      <td>NaN</td>\n",
       "      <td>NaN</td>\n",
       "      <td>NaN</td>\n",
       "    </tr>\n",
       "  </tbody>\n",
       "</table>\n",
       "</div>"
      ],
      "text/plain": [
       "               ticker        price        RSI  RSI_quintile  \\\n",
       "date                                                          \n",
       "2002-12-20       1 HK    18.581551  18.748923           0.0   \n",
       "2002-12-20  000100 KS  6421.189941  70.731755           4.0   \n",
       "2002-12-20       2 HK    14.372512  58.823595           4.0   \n",
       "2002-12-20       3 HK     1.445166  45.453015           2.0   \n",
       "2002-12-20       4 HK     1.028013  36.231921           2.0   \n",
       "\n",
       "            RSI_quintile_lag_0  RSI_quintile_lag_1  RSI_quintile_lag_2  \\\n",
       "date                                                                     \n",
       "2002-12-20                 0.0                 NaN                 NaN   \n",
       "2002-12-20                 4.0                 NaN                 NaN   \n",
       "2002-12-20                 4.0                 NaN                 NaN   \n",
       "2002-12-20                 2.0                 NaN                 NaN   \n",
       "2002-12-20                 2.0                 NaN                 NaN   \n",
       "\n",
       "            RSI_quintile_lag_3  RSI_quintile_lag_4  RSI_quintile_lag_5  \\\n",
       "date                                                                     \n",
       "2002-12-20                 NaN                 NaN                 NaN   \n",
       "2002-12-20                 NaN                 NaN                 NaN   \n",
       "2002-12-20                 NaN                 NaN                 NaN   \n",
       "2002-12-20                 NaN                 NaN                 NaN   \n",
       "2002-12-20                 NaN                 NaN                 NaN   \n",
       "\n",
       "            RSI_diff_0  RSI_abs_diff_0  RSI_diff_1  RSI_abs_diff_1  \\\n",
       "date                                                                 \n",
       "2002-12-20         NaN             NaN         NaN             NaN   \n",
       "2002-12-20         NaN             NaN         NaN             NaN   \n",
       "2002-12-20         NaN             NaN         NaN             NaN   \n",
       "2002-12-20         NaN             NaN         NaN             NaN   \n",
       "2002-12-20         NaN             NaN         NaN             NaN   \n",
       "\n",
       "            RSI_diff_2  RSI_abs_diff_2  RSI_diff_3  RSI_abs_diff_3  \\\n",
       "date                                                                 \n",
       "2002-12-20         NaN             NaN         NaN             NaN   \n",
       "2002-12-20         NaN             NaN         NaN             NaN   \n",
       "2002-12-20         NaN             NaN         NaN             NaN   \n",
       "2002-12-20         NaN             NaN         NaN             NaN   \n",
       "2002-12-20         NaN             NaN         NaN             NaN   \n",
       "\n",
       "            RSI_diff_4  RSI_abs_diff_4  \n",
       "date                                    \n",
       "2002-12-20         NaN             NaN  \n",
       "2002-12-20         NaN             NaN  \n",
       "2002-12-20         NaN             NaN  \n",
       "2002-12-20         NaN             NaN  \n",
       "2002-12-20         NaN             NaN  "
      ]
     },
     "execution_count": 45,
     "metadata": {},
     "output_type": "execute_result"
    }
   ],
   "source": [
    "full_data.head()"
   ]
  },
  {
   "cell_type": "markdown",
   "metadata": {
    "id": "ajgwlHNwhP4C"
   },
   "source": [
    "#### Option #2 (chunk downloads if Option #1 fails)\n",
    "Since yfinance will sometimes hang/break with JSON Decode Errors, by chunking our downloads we can usually get more tickers. The library isn't perfect, so sometimes even valid tickers will fail."
   ]
  },
  {
   "cell_type": "markdown",
   "metadata": {
    "id": "C3wLhYLoLn5j"
   },
   "source": [
    "If Option #1 doesn't work, uncomment all cells below and try to re-download the data"
   ]
  },
  {
   "cell_type": "code",
   "execution_count": null,
   "metadata": {
    "id": "gls84BzjXMIT"
   },
   "outputs": [],
   "source": [
    "# n = 600  #chunk row size\n",
    "# chunk_df = [yfinance_tickers.iloc[i:i+n] for i in range(0, len(yfinance_tickers), n)]"
   ]
  },
  {
   "cell_type": "code",
   "execution_count": null,
   "metadata": {
    "id": "b77QcGRlYCyg"
   },
   "outputs": [],
   "source": [
    "# concat_dfs = []\n",
    "# for df in chunk_df:\n",
    "#     try:\n",
    "#         # set threads = True for faster performance, but tickers will fail, scipt may hang\n",
    "#         # set threads = False for slower performance, but more tickers will succeed\n",
    "#         temp_df = yfinance.download(df.str.cat(sep=' '), start='2002-12-01', threads=False)\n",
    "#         temp_df = temp_df['Adj Close'].stack().reset_index()\n",
    "#         concat_dfs.append(temp_df)\n",
    "#     except simplejson.errors.JSONDecodeError:\n",
    "#         pass"
   ]
  },
  {
   "cell_type": "code",
   "execution_count": null,
   "metadata": {
    "id": "7O1XSSC2hGW3"
   },
   "outputs": [],
   "source": [
    "# full_data = pd.concat(concat_dfs)"
   ]
  },
  {
   "cell_type": "markdown",
   "metadata": {
    "id": "29iBAylDSDuf"
   },
   "source": [
    "## 2. Data wrangle"
   ]
  },
  {
   "cell_type": "code",
   "execution_count": 10,
   "metadata": {
    "colab": {
     "base_uri": "https://localhost:8080/",
     "height": 246
    },
    "id": "jZtr6mAGzguD",
    "outputId": "317e9fc6-be42-4b24-e856-b216e613eae5"
   },
   "outputs": [
    {
     "name": "stdout",
     "output_type": "stream",
     "text": [
      "Number of tickers with data: 5373\n"
     ]
    },
    {
     "data": {
      "text/html": [
       "<div>\n",
       "<style scoped>\n",
       "    .dataframe tbody tr th:only-of-type {\n",
       "        vertical-align: middle;\n",
       "    }\n",
       "\n",
       "    .dataframe tbody tr th {\n",
       "        vertical-align: top;\n",
       "    }\n",
       "\n",
       "    .dataframe thead th {\n",
       "        text-align: right;\n",
       "    }\n",
       "</style>\n",
       "<table border=\"1\" class=\"dataframe\">\n",
       "  <thead>\n",
       "    <tr style=\"text-align: right;\">\n",
       "      <th></th>\n",
       "      <th>ticker</th>\n",
       "      <th>price</th>\n",
       "    </tr>\n",
       "    <tr>\n",
       "      <th>date</th>\n",
       "      <th></th>\n",
       "      <th></th>\n",
       "    </tr>\n",
       "  </thead>\n",
       "  <tbody>\n",
       "    <tr>\n",
       "      <th>2002-12-02</th>\n",
       "      <td>1 HK</td>\n",
       "      <td>20.359694</td>\n",
       "    </tr>\n",
       "    <tr>\n",
       "      <th>2002-12-02</th>\n",
       "      <td>000100 KS</td>\n",
       "      <td>6222.359863</td>\n",
       "    </tr>\n",
       "    <tr>\n",
       "      <th>2002-12-02</th>\n",
       "      <td>2 HK</td>\n",
       "      <td>14.236922</td>\n",
       "    </tr>\n",
       "    <tr>\n",
       "      <th>2002-12-02</th>\n",
       "      <td>3 HK</td>\n",
       "      <td>1.459269</td>\n",
       "    </tr>\n",
       "    <tr>\n",
       "      <th>2002-12-02</th>\n",
       "      <td>4 HK</td>\n",
       "      <td>1.091019</td>\n",
       "    </tr>\n",
       "  </tbody>\n",
       "</table>\n",
       "</div>"
      ],
      "text/plain": [
       "               ticker        price\n",
       "date                              \n",
       "2002-12-02       1 HK    20.359694\n",
       "2002-12-02  000100 KS  6222.359863\n",
       "2002-12-02       2 HK    14.236922\n",
       "2002-12-02       3 HK     1.459269\n",
       "2002-12-02       4 HK     1.091019"
      ]
     },
     "execution_count": 10,
     "metadata": {},
     "output_type": "execute_result"
    }
   ],
   "source": [
    "# properly position and clean raw data, after taking adjusted close only\n",
    "full_data.columns = ['date', 'ticker', 'price']\n",
    "full_data.set_index('date', inplace=True)\n",
    "\n",
    "# convert yahoo finance tickers back to numerai tickers\n",
    "full_data['ticker'] = full_data.ticker.map(dict(zip(yfinance_tickers, numerai_tickers)))\n",
    "\n",
    "print(f\"Number of tickers with data: {len(full_data.ticker.unique())}\")\n",
    "full_data.head()"
   ]
  },
  {
   "cell_type": "markdown",
   "metadata": {
    "id": "63rNOZkD4_U2"
   },
   "source": [
    "### Engineer features\n",
    "Now that we've downloaded the raw price data, we need to set up features we want to use to predict the target. For this example, we'll use RSI, which is a technical indicator that attempts to measure how \"oversold\" or \"overbought\" a stock is. A good rule of thumb is that an RSI > 70 indicates a stock is overbought and an RSI < 30 indicates a stock is oversold."
   ]
  },
  {
   "cell_type": "code",
   "execution_count": 11,
   "metadata": {
    "id": "tTBUzPep2dm3"
   },
   "outputs": [],
   "source": [
    "def RSI(prices, interval=14):\n",
    "    '''Computes Relative Strength Index given a price series and lookback interval\n",
    "    Modified from https://stackoverflow.com/questions/20526414/relative-strength-index-in-python-pandas\n",
    "    See more here https://www.investopedia.com/terms/r/rsi.asp'''\n",
    "    delta = prices.diff()\n",
    "\n",
    "    dUp, dDown = delta.copy(), delta.copy()\n",
    "    dUp[dUp < 0] = 0\n",
    "    dDown[dDown > 0] = 0\n",
    "\n",
    "    RolUp = dUp.rolling(interval).mean()\n",
    "    RolDown = dDown.rolling(interval).mean().abs()\n",
<<<<<<< HEAD
    "    RS = RolUp / RolDown\n",
    "    \n",
=======
    "\n",
    "    RS = RolUp / RolDown\n",
>>>>>>> 607218e44551219d2aa08469d9fe08dc6e05db2a
    "    RSI = 100.0 - (100.0 / (1.0 + RS))\n",
    "    return RSI"
   ]
  },
  {
   "cell_type": "code",
   "execution_count": 12,
   "metadata": {
    "id": "UMpvTiBPNZoM"
   },
   "outputs": [],
   "source": [
    "ticker_groups = full_data.groupby('ticker')\n",
    "full_data['RSI'] = ticker_groups['price'].transform(lambda x: RSI(x))"
   ]
  },
  {
   "cell_type": "code",
   "execution_count": 13,
   "metadata": {
    "colab": {
     "base_uri": "https://localhost:8080/",
     "height": 228
    },
    "id": "Y8O55hxKkNDK",
    "outputId": "15501ee2-2b05-495d-c8eb-0deaafdd9e26"
   },
   "outputs": [
    {
     "data": {
      "text/html": [
       "<div>\n",
       "<style scoped>\n",
       "    .dataframe tbody tr th:only-of-type {\n",
       "        vertical-align: middle;\n",
       "    }\n",
       "\n",
       "    .dataframe tbody tr th {\n",
       "        vertical-align: top;\n",
       "    }\n",
       "\n",
       "    .dataframe thead th {\n",
       "        text-align: right;\n",
       "    }\n",
       "</style>\n",
       "<table border=\"1\" class=\"dataframe\">\n",
       "  <thead>\n",
       "    <tr style=\"text-align: right;\">\n",
       "      <th></th>\n",
       "      <th>ticker</th>\n",
       "      <th>price</th>\n",
       "      <th>RSI</th>\n",
       "      <th>RSI_quintile</th>\n",
       "    </tr>\n",
       "    <tr>\n",
       "      <th>date</th>\n",
       "      <th></th>\n",
       "      <th></th>\n",
       "      <th></th>\n",
       "      <th></th>\n",
       "    </tr>\n",
       "  </thead>\n",
       "  <tbody>\n",
       "    <tr>\n",
       "      <th>2002-12-20</th>\n",
       "      <td>1 HK</td>\n",
       "      <td>18.581551</td>\n",
       "      <td>18.748923</td>\n",
       "      <td>0.0</td>\n",
       "    </tr>\n",
       "    <tr>\n",
       "      <th>2002-12-20</th>\n",
       "      <td>000100 KS</td>\n",
       "      <td>6421.189941</td>\n",
       "      <td>70.731755</td>\n",
       "      <td>4.0</td>\n",
       "    </tr>\n",
       "    <tr>\n",
       "      <th>2002-12-20</th>\n",
       "      <td>2 HK</td>\n",
       "      <td>14.372512</td>\n",
       "      <td>58.823595</td>\n",
       "      <td>4.0</td>\n",
       "    </tr>\n",
       "    <tr>\n",
       "      <th>2002-12-20</th>\n",
       "      <td>3 HK</td>\n",
       "      <td>1.445166</td>\n",
       "      <td>45.453015</td>\n",
       "      <td>2.0</td>\n",
       "    </tr>\n",
       "    <tr>\n",
       "      <th>2002-12-20</th>\n",
       "      <td>4 HK</td>\n",
       "      <td>1.028013</td>\n",
       "      <td>36.231921</td>\n",
       "      <td>2.0</td>\n",
       "    </tr>\n",
       "  </tbody>\n",
       "</table>\n",
       "</div>"
      ],
      "text/plain": [
       "               ticker        price        RSI  RSI_quintile\n",
       "date                                                       \n",
       "2002-12-20       1 HK    18.581551  18.748923           0.0\n",
       "2002-12-20  000100 KS  6421.189941  70.731755           4.0\n",
       "2002-12-20       2 HK    14.372512  58.823595           4.0\n",
       "2002-12-20       3 HK     1.445166  45.453015           2.0\n",
       "2002-12-20       4 HK     1.028013  36.231921           2.0"
      ]
     },
     "execution_count": 13,
     "metadata": {},
     "output_type": "execute_result"
    }
   ],
   "source": [
    "# group by era (date) and create quintile labels within each era, useful for learning relative ranking\n",
    "date_groups = full_data.groupby(full_data.index)\n",
    "full_data['RSI_quintile'] = date_groups['RSI'].transform(lambda group: pd.qcut(group, 5, labels=False, duplicates='drop'))\n",
    "full_data.dropna(inplace=True)\n",
    "\n",
    "full_data.head()"
   ]
  },
  {
   "cell_type": "code",
   "execution_count": 14,
   "metadata": {
    "id": "j3u0601Gzp_x"
   },
   "outputs": [],
   "source": [
    "ticker_groups = full_data.groupby('ticker')\n",
    "\n",
    "#create lagged features, lag 0 is that day's value, lag 1 is yesterday's value, etc\n",
    "num_days = 5\n",
    "for day in range(num_days+1):\n",
    "    full_data[f'RSI_quintile_lag_{day}'] = ticker_groups['RSI_quintile'].transform(lambda group: group.shift(day))"
   ]
  },
  {
   "cell_type": "code",
   "execution_count": 15,
   "metadata": {
    "colab": {
     "base_uri": "https://localhost:8080/",
     "height": 315
    },
    "id": "-_6oNVe0ZmGM",
    "outputId": "8ce62411-006a-43e7-ffa1-349a382ab707"
   },
   "outputs": [
    {
     "data": {
      "text/html": [
       "<div>\n",
       "<style scoped>\n",
       "    .dataframe tbody tr th:only-of-type {\n",
       "        vertical-align: middle;\n",
       "    }\n",
       "\n",
       "    .dataframe tbody tr th {\n",
       "        vertical-align: top;\n",
       "    }\n",
       "\n",
       "    .dataframe thead th {\n",
       "        text-align: right;\n",
       "    }\n",
       "</style>\n",
       "<table border=\"1\" class=\"dataframe\">\n",
       "  <thead>\n",
       "    <tr style=\"text-align: right;\">\n",
       "      <th></th>\n",
       "      <th>ticker</th>\n",
       "      <th>price</th>\n",
       "      <th>RSI</th>\n",
       "      <th>RSI_quintile</th>\n",
       "      <th>RSI_quintile_lag_0</th>\n",
       "      <th>RSI_quintile_lag_1</th>\n",
       "      <th>RSI_quintile_lag_2</th>\n",
       "      <th>RSI_quintile_lag_3</th>\n",
       "      <th>RSI_quintile_lag_4</th>\n",
       "      <th>RSI_quintile_lag_5</th>\n",
       "    </tr>\n",
       "    <tr>\n",
       "      <th>date</th>\n",
       "      <th></th>\n",
       "      <th></th>\n",
       "      <th></th>\n",
       "      <th></th>\n",
       "      <th></th>\n",
       "      <th></th>\n",
       "      <th></th>\n",
       "      <th></th>\n",
       "      <th></th>\n",
       "      <th></th>\n",
       "    </tr>\n",
       "  </thead>\n",
       "  <tbody>\n",
       "    <tr>\n",
       "      <th>2021-03-30</th>\n",
       "      <td>9962 JP</td>\n",
       "      <td>3300.00</td>\n",
       "      <td>56.757202</td>\n",
       "      <td>2.0</td>\n",
       "      <td>2.0</td>\n",
       "      <td>3.0</td>\n",
       "      <td>2.0</td>\n",
       "      <td>1.0</td>\n",
       "      <td>1.0</td>\n",
       "      <td>1.0</td>\n",
       "    </tr>\n",
       "    <tr>\n",
       "      <th>2021-03-30</th>\n",
       "      <td>9987 JP</td>\n",
       "      <td>4470.00</td>\n",
       "      <td>84.020074</td>\n",
       "      <td>4.0</td>\n",
       "      <td>4.0</td>\n",
       "      <td>4.0</td>\n",
       "      <td>4.0</td>\n",
       "      <td>4.0</td>\n",
       "      <td>4.0</td>\n",
       "      <td>4.0</td>\n",
       "    </tr>\n",
       "    <tr>\n",
       "      <th>2021-03-30</th>\n",
       "      <td>9989 JP</td>\n",
       "      <td>4155.00</td>\n",
       "      <td>56.128607</td>\n",
       "      <td>1.0</td>\n",
       "      <td>1.0</td>\n",
       "      <td>2.0</td>\n",
       "      <td>2.0</td>\n",
       "      <td>1.0</td>\n",
       "      <td>2.0</td>\n",
       "      <td>2.0</td>\n",
       "    </tr>\n",
       "    <tr>\n",
       "      <th>2021-03-30</th>\n",
       "      <td>ALX AU</td>\n",
       "      <td>5.70</td>\n",
       "      <td>56.215836</td>\n",
       "      <td>1.0</td>\n",
       "      <td>1.0</td>\n",
       "      <td>3.0</td>\n",
       "      <td>3.0</td>\n",
       "      <td>4.0</td>\n",
       "      <td>3.0</td>\n",
       "      <td>3.0</td>\n",
       "    </tr>\n",
       "    <tr>\n",
       "      <th>2021-03-30</th>\n",
       "      <td>MEL NZ</td>\n",
       "      <td>5.24</td>\n",
       "      <td>45.124015</td>\n",
       "      <td>0.0</td>\n",
       "      <td>0.0</td>\n",
       "      <td>1.0</td>\n",
       "      <td>1.0</td>\n",
       "      <td>1.0</td>\n",
       "      <td>0.0</td>\n",
       "      <td>0.0</td>\n",
       "    </tr>\n",
       "  </tbody>\n",
       "</table>\n",
       "</div>"
      ],
      "text/plain": [
       "             ticker    price        RSI  RSI_quintile  RSI_quintile_lag_0  \\\n",
       "date                                                                        \n",
       "2021-03-30  9962 JP  3300.00  56.757202           2.0                 2.0   \n",
       "2021-03-30  9987 JP  4470.00  84.020074           4.0                 4.0   \n",
       "2021-03-30  9989 JP  4155.00  56.128607           1.0                 1.0   \n",
       "2021-03-30   ALX AU     5.70  56.215836           1.0                 1.0   \n",
       "2021-03-30   MEL NZ     5.24  45.124015           0.0                 0.0   \n",
       "\n",
       "            RSI_quintile_lag_1  RSI_quintile_lag_2  RSI_quintile_lag_3  \\\n",
       "date                                                                     \n",
       "2021-03-30                 3.0                 2.0                 1.0   \n",
       "2021-03-30                 4.0                 4.0                 4.0   \n",
       "2021-03-30                 2.0                 2.0                 1.0   \n",
       "2021-03-30                 3.0                 3.0                 4.0   \n",
       "2021-03-30                 1.0                 1.0                 1.0   \n",
       "\n",
       "            RSI_quintile_lag_4  RSI_quintile_lag_5  \n",
       "date                                                \n",
       "2021-03-30                 1.0                 1.0  \n",
       "2021-03-30                 4.0                 4.0  \n",
       "2021-03-30                 2.0                 2.0  \n",
       "2021-03-30                 3.0                 3.0  \n",
       "2021-03-30                 0.0                 0.0  "
      ]
     },
     "execution_count": 15,
     "metadata": {},
     "output_type": "execute_result"
    }
   ],
   "source": [
    "full_data.tail()"
   ]
  },
  {
   "cell_type": "code",
   "execution_count": 16,
   "metadata": {
    "id": "qMnJoa5-9b5K"
   },
   "outputs": [],
   "source": [
    "# create difference of the lagged features (change in RSI quintile by day)\n",
    "for day in range(num_days):\n",
    "    full_data[f'RSI_diff_{day}'] = full_data[f'RSI_quintile_lag_{day}'] - full_data[f'RSI_quintile_lag_{day + 1}']\n",
    "    full_data[f'RSI_abs_diff_{day}'] = np.abs(full_data[f'RSI_quintile_lag_{day}'] - full_data[f'RSI_quintile_lag_{day + 1}'])"
   ]
  },
  {
   "cell_type": "code",
   "execution_count": 17,
   "metadata": {
    "colab": {
     "base_uri": "https://localhost:8080/",
     "height": 335
    },
    "id": "ixZoZhYbl2Kr",
    "outputId": "82070c56-7d7a-419b-820d-95459c12e9c3"
   },
   "outputs": [
    {
     "data": {
      "text/html": [
       "<div>\n",
       "<style scoped>\n",
       "    .dataframe tbody tr th:only-of-type {\n",
       "        vertical-align: middle;\n",
       "    }\n",
       "\n",
       "    .dataframe tbody tr th {\n",
       "        vertical-align: top;\n",
       "    }\n",
       "\n",
       "    .dataframe thead th {\n",
       "        text-align: right;\n",
       "    }\n",
       "</style>\n",
       "<table border=\"1\" class=\"dataframe\">\n",
       "  <thead>\n",
       "    <tr style=\"text-align: right;\">\n",
       "      <th></th>\n",
       "      <th>ticker</th>\n",
       "      <th>price</th>\n",
       "      <th>RSI</th>\n",
       "      <th>RSI_quintile</th>\n",
       "      <th>RSI_quintile_lag_0</th>\n",
       "      <th>RSI_quintile_lag_1</th>\n",
       "      <th>RSI_quintile_lag_2</th>\n",
       "      <th>RSI_quintile_lag_3</th>\n",
       "      <th>RSI_quintile_lag_4</th>\n",
       "      <th>RSI_quintile_lag_5</th>\n",
       "      <th>RSI_diff_0</th>\n",
       "      <th>RSI_abs_diff_0</th>\n",
       "      <th>RSI_diff_1</th>\n",
       "      <th>RSI_abs_diff_1</th>\n",
       "      <th>RSI_diff_2</th>\n",
       "      <th>RSI_abs_diff_2</th>\n",
       "      <th>RSI_diff_3</th>\n",
       "      <th>RSI_abs_diff_3</th>\n",
       "      <th>RSI_diff_4</th>\n",
       "      <th>RSI_abs_diff_4</th>\n",
       "    </tr>\n",
       "    <tr>\n",
       "      <th>date</th>\n",
       "      <th></th>\n",
       "      <th></th>\n",
       "      <th></th>\n",
       "      <th></th>\n",
       "      <th></th>\n",
       "      <th></th>\n",
       "      <th></th>\n",
       "      <th></th>\n",
       "      <th></th>\n",
       "      <th></th>\n",
       "      <th></th>\n",
       "      <th></th>\n",
       "      <th></th>\n",
       "      <th></th>\n",
       "      <th></th>\n",
       "      <th></th>\n",
       "      <th></th>\n",
       "      <th></th>\n",
       "      <th></th>\n",
       "      <th></th>\n",
       "    </tr>\n",
       "  </thead>\n",
       "  <tbody>\n",
       "    <tr>\n",
       "      <th>2021-03-30</th>\n",
       "      <td>9962 JP</td>\n",
       "      <td>3300.00</td>\n",
       "      <td>56.757202</td>\n",
       "      <td>2.0</td>\n",
       "      <td>2.0</td>\n",
       "      <td>3.0</td>\n",
       "      <td>2.0</td>\n",
       "      <td>1.0</td>\n",
       "      <td>1.0</td>\n",
       "      <td>1.0</td>\n",
       "      <td>-1.0</td>\n",
       "      <td>1.0</td>\n",
       "      <td>1.0</td>\n",
       "      <td>1.0</td>\n",
       "      <td>1.0</td>\n",
       "      <td>1.0</td>\n",
       "      <td>0.0</td>\n",
       "      <td>0.0</td>\n",
       "      <td>0.0</td>\n",
       "      <td>0.0</td>\n",
       "    </tr>\n",
       "    <tr>\n",
       "      <th>2021-03-30</th>\n",
       "      <td>9987 JP</td>\n",
       "      <td>4470.00</td>\n",
       "      <td>84.020074</td>\n",
       "      <td>4.0</td>\n",
       "      <td>4.0</td>\n",
       "      <td>4.0</td>\n",
       "      <td>4.0</td>\n",
       "      <td>4.0</td>\n",
       "      <td>4.0</td>\n",
       "      <td>4.0</td>\n",
       "      <td>0.0</td>\n",
       "      <td>0.0</td>\n",
       "      <td>0.0</td>\n",
       "      <td>0.0</td>\n",
       "      <td>0.0</td>\n",
       "      <td>0.0</td>\n",
       "      <td>0.0</td>\n",
       "      <td>0.0</td>\n",
       "      <td>0.0</td>\n",
       "      <td>0.0</td>\n",
       "    </tr>\n",
       "    <tr>\n",
       "      <th>2021-03-30</th>\n",
       "      <td>9989 JP</td>\n",
       "      <td>4155.00</td>\n",
       "      <td>56.128607</td>\n",
       "      <td>1.0</td>\n",
       "      <td>1.0</td>\n",
       "      <td>2.0</td>\n",
       "      <td>2.0</td>\n",
       "      <td>1.0</td>\n",
       "      <td>2.0</td>\n",
       "      <td>2.0</td>\n",
       "      <td>-1.0</td>\n",
       "      <td>1.0</td>\n",
       "      <td>0.0</td>\n",
       "      <td>0.0</td>\n",
       "      <td>1.0</td>\n",
       "      <td>1.0</td>\n",
       "      <td>-1.0</td>\n",
       "      <td>1.0</td>\n",
       "      <td>0.0</td>\n",
       "      <td>0.0</td>\n",
       "    </tr>\n",
       "    <tr>\n",
       "      <th>2021-03-30</th>\n",
       "      <td>ALX AU</td>\n",
       "      <td>5.70</td>\n",
       "      <td>56.215836</td>\n",
       "      <td>1.0</td>\n",
       "      <td>1.0</td>\n",
       "      <td>3.0</td>\n",
       "      <td>3.0</td>\n",
       "      <td>4.0</td>\n",
       "      <td>3.0</td>\n",
       "      <td>3.0</td>\n",
       "      <td>-2.0</td>\n",
       "      <td>2.0</td>\n",
       "      <td>0.0</td>\n",
       "      <td>0.0</td>\n",
       "      <td>-1.0</td>\n",
       "      <td>1.0</td>\n",
       "      <td>1.0</td>\n",
       "      <td>1.0</td>\n",
       "      <td>0.0</td>\n",
       "      <td>0.0</td>\n",
       "    </tr>\n",
       "    <tr>\n",
       "      <th>2021-03-30</th>\n",
       "      <td>MEL NZ</td>\n",
       "      <td>5.24</td>\n",
       "      <td>45.124015</td>\n",
       "      <td>0.0</td>\n",
       "      <td>0.0</td>\n",
       "      <td>1.0</td>\n",
       "      <td>1.0</td>\n",
       "      <td>1.0</td>\n",
       "      <td>0.0</td>\n",
       "      <td>0.0</td>\n",
       "      <td>-1.0</td>\n",
       "      <td>1.0</td>\n",
       "      <td>0.0</td>\n",
       "      <td>0.0</td>\n",
       "      <td>0.0</td>\n",
       "      <td>0.0</td>\n",
       "      <td>1.0</td>\n",
       "      <td>1.0</td>\n",
       "      <td>0.0</td>\n",
       "      <td>0.0</td>\n",
       "    </tr>\n",
       "  </tbody>\n",
       "</table>\n",
       "</div>"
      ],
      "text/plain": [
       "             ticker    price        RSI  RSI_quintile  RSI_quintile_lag_0  \\\n",
       "date                                                                        \n",
       "2021-03-30  9962 JP  3300.00  56.757202           2.0                 2.0   \n",
       "2021-03-30  9987 JP  4470.00  84.020074           4.0                 4.0   \n",
       "2021-03-30  9989 JP  4155.00  56.128607           1.0                 1.0   \n",
       "2021-03-30   ALX AU     5.70  56.215836           1.0                 1.0   \n",
       "2021-03-30   MEL NZ     5.24  45.124015           0.0                 0.0   \n",
       "\n",
       "            RSI_quintile_lag_1  RSI_quintile_lag_2  RSI_quintile_lag_3  \\\n",
       "date                                                                     \n",
       "2021-03-30                 3.0                 2.0                 1.0   \n",
       "2021-03-30                 4.0                 4.0                 4.0   \n",
       "2021-03-30                 2.0                 2.0                 1.0   \n",
       "2021-03-30                 3.0                 3.0                 4.0   \n",
       "2021-03-30                 1.0                 1.0                 1.0   \n",
       "\n",
       "            RSI_quintile_lag_4  RSI_quintile_lag_5  RSI_diff_0  \\\n",
       "date                                                             \n",
       "2021-03-30                 1.0                 1.0        -1.0   \n",
       "2021-03-30                 4.0                 4.0         0.0   \n",
       "2021-03-30                 2.0                 2.0        -1.0   \n",
       "2021-03-30                 3.0                 3.0        -2.0   \n",
       "2021-03-30                 0.0                 0.0        -1.0   \n",
       "\n",
       "            RSI_abs_diff_0  RSI_diff_1  RSI_abs_diff_1  RSI_diff_2  \\\n",
       "date                                                                 \n",
       "2021-03-30             1.0         1.0             1.0         1.0   \n",
       "2021-03-30             0.0         0.0             0.0         0.0   \n",
       "2021-03-30             1.0         0.0             0.0         1.0   \n",
       "2021-03-30             2.0         0.0             0.0        -1.0   \n",
       "2021-03-30             1.0         0.0             0.0         0.0   \n",
       "\n",
       "            RSI_abs_diff_2  RSI_diff_3  RSI_abs_diff_3  RSI_diff_4  \\\n",
       "date                                                                 \n",
       "2021-03-30             1.0         0.0             0.0         0.0   \n",
       "2021-03-30             0.0         0.0             0.0         0.0   \n",
       "2021-03-30             1.0        -1.0             1.0         0.0   \n",
       "2021-03-30             1.0         1.0             1.0         0.0   \n",
       "2021-03-30             0.0         1.0             1.0         0.0   \n",
       "\n",
       "            RSI_abs_diff_4  \n",
       "date                        \n",
       "2021-03-30             0.0  \n",
       "2021-03-30             0.0  \n",
       "2021-03-30             0.0  \n",
       "2021-03-30             0.0  \n",
       "2021-03-30             0.0  "
      ]
     },
     "execution_count": 17,
     "metadata": {},
     "output_type": "execute_result"
    }
   ],
   "source": [
    "full_data.tail()"
   ]
  },
  {
   "cell_type": "code",
   "execution_count": 18,
   "metadata": {
    "colab": {
     "base_uri": "https://localhost:8080/",
     "height": 74
    },
    "id": "c-DHdOu2j5i4",
    "outputId": "79d5fb41-304f-4398-e9d8-b35b64564efa"
   },
   "outputs": [
    {
     "name": "stdout",
     "output_type": "stream",
     "text": [
      "Features for training:\n",
      " ['RSI_quintile_lag_0', 'RSI_quintile_lag_1', 'RSI_quintile_lag_2', 'RSI_quintile_lag_3', 'RSI_quintile_lag_4', 'RSI_diff_0', 'RSI_diff_1', 'RSI_diff_2', 'RSI_diff_3', 'RSI_diff_4', 'RSI_abs_diff_0', 'RSI_abs_diff_1', 'RSI_abs_diff_2', 'RSI_abs_diff_3', 'RSI_abs_diff_4']\n"
     ]
    }
   ],
   "source": [
    "feature_names = [f'RSI_quintile_lag_{num}' for num in range(num_days)] + [f'RSI_diff_{num}' for num in range(num_days)] + [f'RSI_abs_diff_{num}' for num in range(num_days)]\n",
    "print(f'Features for training:\\n {feature_names}')"
   ]
  },
  {
   "cell_type": "markdown",
   "metadata": {
    "id": "bFDkbb1CHtYz"
   },
   "source": [
    "### Numerai targets\n",
    "Every era will begin on a Friday, ignore first two days of return (i.e. Mon, Tues) and then be based on the subsequent 4 days of return (i.e. Tuesday Close to Monday Close). The targets take on values of {0, 0.25, 0.5, 0.75, 1}, but they are not balanced classes. \n",
    "\n",
    "Try to think of the targets as normalized and neutralized rankings of returns within each era. 10% of the values take on 0 or 1. 40% of the values take on 0.25 or 0.75. And 50% of the values take on 0.5."
   ]
  },
  {
   "cell_type": "code",
   "execution_count": 19,
   "metadata": {
    "id": "S40T-PKNW54U"
   },
   "outputs": [],
   "source": [
    "TARGET_NAME = 'target'"
   ]
  },
  {
   "cell_type": "code",
   "execution_count": 20,
   "metadata": {
    "id": "Pod7d3YFHqIB"
   },
   "outputs": [],
   "source": [
    "# read in Signals targets\n",
    "numerai_targets = 'https://numerai-signals-public-data.s3-us-west-2.amazonaws.com/signals_train_val.csv'\n",
    "targets = pd.read_csv(numerai_targets)\n",
    "targets['date'] = pd.to_datetime(targets['friday_date'], format='%Y%m%d')"
   ]
  },
  {
   "cell_type": "code",
   "execution_count": 21,
   "metadata": {
    "colab": {
     "base_uri": "https://localhost:8080/",
     "height": 198
    },
    "id": "4Bbi2_jFIG8V",
    "outputId": "2446ab0e-f7d5-4459-8617-90fcec9f47f5"
   },
   "outputs": [
    {
     "data": {
      "text/html": [
       "<div>\n",
       "<style scoped>\n",
       "    .dataframe tbody tr th:only-of-type {\n",
       "        vertical-align: middle;\n",
       "    }\n",
       "\n",
       "    .dataframe tbody tr th {\n",
       "        vertical-align: top;\n",
       "    }\n",
       "\n",
       "    .dataframe thead th {\n",
       "        text-align: right;\n",
       "    }\n",
       "</style>\n",
       "<table border=\"1\" class=\"dataframe\">\n",
       "  <thead>\n",
       "    <tr style=\"text-align: right;\">\n",
       "      <th></th>\n",
       "      <th>ticker</th>\n",
       "      <th>friday_date</th>\n",
       "      <th>data_type</th>\n",
       "      <th>target</th>\n",
       "      <th>date</th>\n",
       "    </tr>\n",
       "  </thead>\n",
       "  <tbody>\n",
       "    <tr>\n",
       "      <th>0</th>\n",
       "      <td>000270 KS</td>\n",
       "      <td>20030131</td>\n",
       "      <td>train</td>\n",
       "      <td>0.50</td>\n",
       "      <td>2003-01-31</td>\n",
       "    </tr>\n",
       "    <tr>\n",
       "      <th>1</th>\n",
       "      <td>000810 KS</td>\n",
       "      <td>20030131</td>\n",
       "      <td>train</td>\n",
       "      <td>0.50</td>\n",
       "      <td>2003-01-31</td>\n",
       "    </tr>\n",
       "    <tr>\n",
       "      <th>2</th>\n",
       "      <td>000830 KS</td>\n",
       "      <td>20030131</td>\n",
       "      <td>train</td>\n",
       "      <td>0.50</td>\n",
       "      <td>2003-01-31</td>\n",
       "    </tr>\n",
       "    <tr>\n",
       "      <th>3</th>\n",
       "      <td>002790 KS</td>\n",
       "      <td>20030131</td>\n",
       "      <td>train</td>\n",
       "      <td>0.25</td>\n",
       "      <td>2003-01-31</td>\n",
       "    </tr>\n",
       "    <tr>\n",
       "      <th>4</th>\n",
       "      <td>003450 KS</td>\n",
       "      <td>20030131</td>\n",
       "      <td>train</td>\n",
       "      <td>0.25</td>\n",
       "      <td>2003-01-31</td>\n",
       "    </tr>\n",
       "  </tbody>\n",
       "</table>\n",
       "</div>"
      ],
      "text/plain": [
       "      ticker  friday_date data_type  target       date\n",
       "0  000270 KS     20030131     train    0.50 2003-01-31\n",
       "1  000810 KS     20030131     train    0.50 2003-01-31\n",
       "2  000830 KS     20030131     train    0.50 2003-01-31\n",
       "3  002790 KS     20030131     train    0.25 2003-01-31\n",
       "4  003450 KS     20030131     train    0.25 2003-01-31"
      ]
     },
     "execution_count": 21,
     "metadata": {},
     "output_type": "execute_result"
    }
   ],
   "source": [
    "targets.head()"
   ]
  },
  {
   "cell_type": "code",
   "execution_count": 22,
   "metadata": {
    "colab": {
     "base_uri": "https://localhost:8080/",
     "height": 313
    },
    "id": "Ea1f_GxAbOqC",
    "outputId": "ad55ad3f-667f-41f6-820b-be503fc0027f"
   },
   "outputs": [
    {
     "data": {
      "text/plain": [
       "<AxesSubplot:title={'center':'Number of tickers per era'}, xlabel='date'>"
      ]
     },
     "execution_count": 22,
     "metadata": {},
     "output_type": "execute_result"
    },
    {
     "data": {
      "image/png": "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\n",
      "text/plain": [
       "<Figure size 720x288 with 1 Axes>"
      ]
     },
     "metadata": {
      "needs_background": "light"
     },
     "output_type": "display_data"
    }
   ],
   "source": [
    "# the number of tickers per era has generally increased\n",
    "targets.groupby('date').apply(lambda x: len(x)).plot(kind='line', figsize=(10,4), title='Number of tickers per era')"
   ]
  },
  {
   "cell_type": "code",
   "execution_count": 23,
   "metadata": {
    "colab": {
     "base_uri": "https://localhost:8080/",
     "height": 126
    },
    "id": "c3DuaZLXa5_R",
    "outputId": "6209ff75-ba88-4e3f-8b8c-d48584d6f56d"
   },
   "outputs": [
    {
     "data": {
      "text/plain": [
       "0.50    2024820\n",
       "0.25     807654\n",
       "0.75     807475\n",
       "1.00     201771\n",
       "0.00     201715\n",
       "Name: target, dtype: int64"
      ]
     },
     "execution_count": 23,
     "metadata": {},
     "output_type": "execute_result"
    }
   ],
   "source": [
    "# the target classes are imbalanced, but we can treat this like a regression problem\n",
    "targets.target.value_counts()"
   ]
  },
  {
   "cell_type": "code",
   "execution_count": 24,
   "metadata": {
    "colab": {
     "base_uri": "https://localhost:8080/",
     "height": 673
    },
    "id": "SDLPHkbqboJu",
    "outputId": "0912b0aa-bd85-4a8f-9a77-f7af12461994"
   },
   "outputs": [
    {
     "data": {
      "text/plain": [
       "<AxesSubplot:title={'center':'Proportion of tickers in each class per era'}, xlabel='date'>"
      ]
     },
     "execution_count": 24,
     "metadata": {},
     "output_type": "execute_result"
    },
    {
     "data": {
      "image/png": "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\n",
      "text/plain": [
       "<Figure size 648x216 with 1 Axes>"
      ]
     },
     "metadata": {
      "needs_background": "light"
     },
     "output_type": "display_data"
    },
    {
     "data": {
      "image/png": "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\n",
      "text/plain": [
       "<Figure size 648x216 with 1 Axes>"
      ]
     },
     "metadata": {
      "needs_background": "light"
     },
     "output_type": "display_data"
    }
   ],
   "source": [
    "# the imbalance is consistent across eras with a constant class ratio of: 5%, 20%, 50%, 20%, 5%\n",
    "pivot_target = targets.groupby(['date','target']).apply(lambda x: len(x)).reset_index(1).pivot(columns='target',values=0)\n",
    "pivot_target.iloc[::20].plot(kind='bar', stacked=True, figsize=(9,3), title='Number of tickers in each class per era')\n",
    "\n",
    "stacked_data = pivot_target.apply(lambda x: x/sum(x), axis=1)\n",
    "stacked_data.iloc[::20].plot(kind='bar', stacked=True, figsize=(9,3), title='Proportion of tickers in each class per era')"
   ]
  },
  {
   "cell_type": "code",
   "execution_count": 26,
   "metadata": {
    "colab": {
     "base_uri": "https://localhost:8080/",
     "height": 198
    },
    "id": "8v1YekOYIMqO",
    "outputId": "94a4e6ce-02d7-4fcb-a0a8-7fe4442c3cb9"
   },
   "outputs": [
    {
     "data": {
      "text/html": [
       "<div>\n",
       "<style scoped>\n",
       "    .dataframe tbody tr th:only-of-type {\n",
       "        vertical-align: middle;\n",
       "    }\n",
       "\n",
       "    .dataframe tbody tr th {\n",
       "        vertical-align: top;\n",
       "    }\n",
       "\n",
       "    .dataframe thead th {\n",
       "        text-align: right;\n",
       "    }\n",
       "</style>\n",
       "<table border=\"1\" class=\"dataframe\">\n",
       "  <thead>\n",
       "    <tr style=\"text-align: right;\">\n",
       "      <th></th>\n",
       "      <th>ticker</th>\n",
       "      <th>friday_date</th>\n",
       "      <th>data_type</th>\n",
       "      <th>target</th>\n",
       "      <th>date</th>\n",
       "    </tr>\n",
       "  </thead>\n",
       "  <tbody>\n",
       "    <tr>\n",
       "      <th>0</th>\n",
       "      <td>000270 KS</td>\n",
       "      <td>20030131</td>\n",
       "      <td>train</td>\n",
       "      <td>0.50</td>\n",
       "      <td>2003-01-31</td>\n",
       "    </tr>\n",
       "    <tr>\n",
       "      <th>1</th>\n",
       "      <td>000810 KS</td>\n",
       "      <td>20030131</td>\n",
       "      <td>train</td>\n",
       "      <td>0.50</td>\n",
       "      <td>2003-01-31</td>\n",
       "    </tr>\n",
       "    <tr>\n",
       "      <th>2</th>\n",
       "      <td>000830 KS</td>\n",
       "      <td>20030131</td>\n",
       "      <td>train</td>\n",
       "      <td>0.50</td>\n",
       "      <td>2003-01-31</td>\n",
       "    </tr>\n",
       "    <tr>\n",
       "      <th>3</th>\n",
       "      <td>002790 KS</td>\n",
       "      <td>20030131</td>\n",
       "      <td>train</td>\n",
       "      <td>0.25</td>\n",
       "      <td>2003-01-31</td>\n",
       "    </tr>\n",
       "    <tr>\n",
       "      <th>4</th>\n",
       "      <td>003450 KS</td>\n",
       "      <td>20030131</td>\n",
       "      <td>train</td>\n",
       "      <td>0.25</td>\n",
       "      <td>2003-01-31</td>\n",
       "    </tr>\n",
       "  </tbody>\n",
       "</table>\n",
       "</div>"
      ],
      "text/plain": [
       "      ticker  friday_date data_type  target       date\n",
       "0  000270 KS     20030131     train    0.50 2003-01-31\n",
       "1  000810 KS     20030131     train    0.50 2003-01-31\n",
       "2  000830 KS     20030131     train    0.50 2003-01-31\n",
       "3  002790 KS     20030131     train    0.25 2003-01-31\n",
       "4  003450 KS     20030131     train    0.25 2003-01-31"
      ]
     },
     "execution_count": 26,
     "metadata": {},
     "output_type": "execute_result"
    }
   ],
   "source": [
    "targets.head()"
   ]
  },
  {
   "cell_type": "markdown",
   "metadata": {
    "id": "2iNwZrgpK-kZ"
   },
   "source": [
    "### Combine features and targets"
   ]
  },
  {
   "cell_type": "code",
   "execution_count": 27,
   "metadata": {
    "colab": {
     "base_uri": "https://localhost:8080/",
     "height": 54
    },
    "id": "zK97KlFBK3eu",
    "outputId": "af20dc92-3f64-4823-88fb-250152075eae"
   },
   "outputs": [
    {
     "name": "stderr",
     "output_type": "stream",
     "text": [
      "C:\\Users\\Matt\\anaconda3\\lib\\site-packages\\ipykernel_launcher.py:8: UserWarning: Boolean Series key will be reindexed to match DataFrame index.\n",
      "  \n"
     ]
    }
   ],
   "source": [
    "# merge our feature data with Numerai targets\n",
    "ML_data = pd.merge(full_data.reset_index(), targets, on=['date','ticker']).set_index('date')\n",
    "# print(f'Number of eras in data: {len(ML_data.index.unique())}')\n",
    "\n",
    "# for training and testing we want clean, complete data only\n",
    "ML_data.dropna(inplace=True)\n",
    "ML_data = ML_data[ML_data.index.weekday==4] # ensure we have only fridays\n",
    "ML_data = ML_data[ML_data.index.value_counts() > 200] # drop eras with under 200 observations per era"
   ]
  },
  {
   "cell_type": "code",
   "execution_count": 28,
   "metadata": {
    "colab": {
     "base_uri": "https://localhost:8080/",
     "height": 35
    },
    "id": "dzxbG3ApToIx",
    "outputId": "263a7b17-196b-4c67-f74f-5956c855596e",
    "scrolled": true
   },
   "outputs": [
    {
     "name": "stdout",
     "output_type": "stream",
     "text": [
      "Number of eras in data: 884\n"
     ]
    }
   ],
   "source": [
    "print(f'Number of eras in data: {len(ML_data.index.unique())}')"
   ]
  },
  {
   "cell_type": "code",
   "execution_count": 29,
   "metadata": {
    "colab": {
     "base_uri": "https://localhost:8080/",
     "height": 335
    },
    "id": "NLUhbxwsd0ra",
    "outputId": "0f1460d8-28a8-477d-b31f-c7dd12fe0a60"
   },
   "outputs": [
    {
     "data": {
      "text/html": [
       "<div>\n",
       "<style scoped>\n",
       "    .dataframe tbody tr th:only-of-type {\n",
       "        vertical-align: middle;\n",
       "    }\n",
       "\n",
       "    .dataframe tbody tr th {\n",
       "        vertical-align: top;\n",
       "    }\n",
       "\n",
       "    .dataframe thead th {\n",
       "        text-align: right;\n",
       "    }\n",
       "</style>\n",
       "<table border=\"1\" class=\"dataframe\">\n",
       "  <thead>\n",
       "    <tr style=\"text-align: right;\">\n",
       "      <th></th>\n",
       "      <th>ticker</th>\n",
       "      <th>price</th>\n",
       "      <th>RSI</th>\n",
       "      <th>RSI_quintile</th>\n",
       "      <th>RSI_quintile_lag_0</th>\n",
       "      <th>RSI_quintile_lag_1</th>\n",
       "      <th>RSI_quintile_lag_2</th>\n",
       "      <th>RSI_quintile_lag_3</th>\n",
       "      <th>RSI_quintile_lag_4</th>\n",
       "      <th>RSI_quintile_lag_5</th>\n",
       "      <th>...</th>\n",
       "      <th>RSI_abs_diff_1</th>\n",
       "      <th>RSI_diff_2</th>\n",
       "      <th>RSI_abs_diff_2</th>\n",
       "      <th>RSI_diff_3</th>\n",
       "      <th>RSI_abs_diff_3</th>\n",
       "      <th>RSI_diff_4</th>\n",
       "      <th>RSI_abs_diff_4</th>\n",
       "      <th>friday_date</th>\n",
       "      <th>data_type</th>\n",
       "      <th>target</th>\n",
       "    </tr>\n",
       "    <tr>\n",
       "      <th>date</th>\n",
       "      <th></th>\n",
       "      <th></th>\n",
       "      <th></th>\n",
       "      <th></th>\n",
       "      <th></th>\n",
       "      <th></th>\n",
       "      <th></th>\n",
       "      <th></th>\n",
       "      <th></th>\n",
       "      <th></th>\n",
       "      <th></th>\n",
       "      <th></th>\n",
       "      <th></th>\n",
       "      <th></th>\n",
       "      <th></th>\n",
       "      <th></th>\n",
       "      <th></th>\n",
       "      <th></th>\n",
       "      <th></th>\n",
       "      <th></th>\n",
       "      <th></th>\n",
       "    </tr>\n",
       "  </thead>\n",
       "  <tbody>\n",
       "    <tr>\n",
       "      <th>2003-01-31</th>\n",
       "      <td>1 HK</td>\n",
       "      <td>18.137012</td>\n",
       "      <td>35.293461</td>\n",
       "      <td>2.0</td>\n",
       "      <td>2.0</td>\n",
       "      <td>2.0</td>\n",
       "      <td>1.0</td>\n",
       "      <td>2.0</td>\n",
       "      <td>2.0</td>\n",
       "      <td>2.0</td>\n",
       "      <td>...</td>\n",
       "      <td>1.0</td>\n",
       "      <td>-1.0</td>\n",
       "      <td>1.0</td>\n",
       "      <td>0.0</td>\n",
       "      <td>0.0</td>\n",
       "      <td>0.0</td>\n",
       "      <td>0.0</td>\n",
       "      <td>20030131</td>\n",
       "      <td>train</td>\n",
       "      <td>0.25</td>\n",
       "    </tr>\n",
       "    <tr>\n",
       "      <th>2003-01-31</th>\n",
       "      <td>3 HK</td>\n",
       "      <td>1.381722</td>\n",
       "      <td>39.999080</td>\n",
       "      <td>2.0</td>\n",
       "      <td>2.0</td>\n",
       "      <td>2.0</td>\n",
       "      <td>2.0</td>\n",
       "      <td>3.0</td>\n",
       "      <td>3.0</td>\n",
       "      <td>3.0</td>\n",
       "      <td>...</td>\n",
       "      <td>0.0</td>\n",
       "      <td>-1.0</td>\n",
       "      <td>1.0</td>\n",
       "      <td>0.0</td>\n",
       "      <td>0.0</td>\n",
       "      <td>0.0</td>\n",
       "      <td>0.0</td>\n",
       "      <td>20030131</td>\n",
       "      <td>train</td>\n",
       "      <td>0.50</td>\n",
       "    </tr>\n",
       "    <tr>\n",
       "      <th>2003-01-31</th>\n",
       "      <td>4 HK</td>\n",
       "      <td>1.041278</td>\n",
       "      <td>38.461267</td>\n",
       "      <td>2.0</td>\n",
       "      <td>2.0</td>\n",
       "      <td>3.0</td>\n",
       "      <td>3.0</td>\n",
       "      <td>3.0</td>\n",
       "      <td>3.0</td>\n",
       "      <td>4.0</td>\n",
       "      <td>...</td>\n",
       "      <td>0.0</td>\n",
       "      <td>0.0</td>\n",
       "      <td>0.0</td>\n",
       "      <td>0.0</td>\n",
       "      <td>0.0</td>\n",
       "      <td>-1.0</td>\n",
       "      <td>1.0</td>\n",
       "      <td>20030131</td>\n",
       "      <td>train</td>\n",
       "      <td>0.75</td>\n",
       "    </tr>\n",
       "    <tr>\n",
       "      <th>2003-01-31</th>\n",
       "      <td>6 HK</td>\n",
       "      <td>11.130108</td>\n",
       "      <td>39.999922</td>\n",
       "      <td>2.0</td>\n",
       "      <td>2.0</td>\n",
       "      <td>2.0</td>\n",
       "      <td>2.0</td>\n",
       "      <td>2.0</td>\n",
       "      <td>2.0</td>\n",
       "      <td>2.0</td>\n",
       "      <td>...</td>\n",
       "      <td>0.0</td>\n",
       "      <td>0.0</td>\n",
       "      <td>0.0</td>\n",
       "      <td>0.0</td>\n",
       "      <td>0.0</td>\n",
       "      <td>0.0</td>\n",
       "      <td>0.0</td>\n",
       "      <td>20030131</td>\n",
       "      <td>train</td>\n",
       "      <td>0.25</td>\n",
       "    </tr>\n",
       "    <tr>\n",
       "      <th>2003-01-31</th>\n",
       "      <td>12 HK</td>\n",
       "      <td>5.123345</td>\n",
       "      <td>20.194113</td>\n",
       "      <td>0.0</td>\n",
       "      <td>0.0</td>\n",
       "      <td>1.0</td>\n",
       "      <td>0.0</td>\n",
       "      <td>0.0</td>\n",
       "      <td>1.0</td>\n",
       "      <td>2.0</td>\n",
       "      <td>...</td>\n",
       "      <td>1.0</td>\n",
       "      <td>0.0</td>\n",
       "      <td>0.0</td>\n",
       "      <td>-1.0</td>\n",
       "      <td>1.0</td>\n",
       "      <td>-1.0</td>\n",
       "      <td>1.0</td>\n",
       "      <td>20030131</td>\n",
       "      <td>train</td>\n",
       "      <td>0.50</td>\n",
       "    </tr>\n",
       "  </tbody>\n",
       "</table>\n",
       "<p>5 rows × 23 columns</p>\n",
       "</div>"
      ],
      "text/plain": [
       "           ticker      price        RSI  RSI_quintile  RSI_quintile_lag_0  \\\n",
       "date                                                                        \n",
       "2003-01-31   1 HK  18.137012  35.293461           2.0                 2.0   \n",
       "2003-01-31   3 HK   1.381722  39.999080           2.0                 2.0   \n",
       "2003-01-31   4 HK   1.041278  38.461267           2.0                 2.0   \n",
       "2003-01-31   6 HK  11.130108  39.999922           2.0                 2.0   \n",
       "2003-01-31  12 HK   5.123345  20.194113           0.0                 0.0   \n",
       "\n",
       "            RSI_quintile_lag_1  RSI_quintile_lag_2  RSI_quintile_lag_3  \\\n",
       "date                                                                     \n",
       "2003-01-31                 2.0                 1.0                 2.0   \n",
       "2003-01-31                 2.0                 2.0                 3.0   \n",
       "2003-01-31                 3.0                 3.0                 3.0   \n",
       "2003-01-31                 2.0                 2.0                 2.0   \n",
       "2003-01-31                 1.0                 0.0                 0.0   \n",
       "\n",
       "            RSI_quintile_lag_4  RSI_quintile_lag_5  ...  RSI_abs_diff_1  \\\n",
       "date                                                ...                   \n",
       "2003-01-31                 2.0                 2.0  ...             1.0   \n",
       "2003-01-31                 3.0                 3.0  ...             0.0   \n",
       "2003-01-31                 3.0                 4.0  ...             0.0   \n",
       "2003-01-31                 2.0                 2.0  ...             0.0   \n",
       "2003-01-31                 1.0                 2.0  ...             1.0   \n",
       "\n",
       "            RSI_diff_2  RSI_abs_diff_2  RSI_diff_3  RSI_abs_diff_3  \\\n",
       "date                                                                 \n",
       "2003-01-31        -1.0             1.0         0.0             0.0   \n",
       "2003-01-31        -1.0             1.0         0.0             0.0   \n",
       "2003-01-31         0.0             0.0         0.0             0.0   \n",
       "2003-01-31         0.0             0.0         0.0             0.0   \n",
       "2003-01-31         0.0             0.0        -1.0             1.0   \n",
       "\n",
       "            RSI_diff_4  RSI_abs_diff_4  friday_date  data_type  target  \n",
       "date                                                                    \n",
       "2003-01-31         0.0             0.0     20030131      train    0.25  \n",
       "2003-01-31         0.0             0.0     20030131      train    0.50  \n",
       "2003-01-31        -1.0             1.0     20030131      train    0.75  \n",
       "2003-01-31         0.0             0.0     20030131      train    0.25  \n",
       "2003-01-31        -1.0             1.0     20030131      train    0.50  \n",
       "\n",
       "[5 rows x 23 columns]"
      ]
     },
     "execution_count": 29,
     "metadata": {},
     "output_type": "execute_result"
    }
   ],
   "source": [
    "ML_data.head()"
   ]
  },
  {
   "cell_type": "code",
   "execution_count": 39,
   "metadata": {},
   "outputs": [
    {
     "data": {
      "text/plain": [
       "(833952, 23)"
      ]
     },
     "execution_count": 39,
     "metadata": {},
     "output_type": "execute_result"
    }
   ],
   "source": [
    "ML_data.shape"
   ]
  },
  {
   "cell_type": "markdown",
   "metadata": {
    "id": "FDaVugc9K4VZ"
   },
   "source": [
    "## 3. Model"
   ]
  },
  {
   "cell_type": "markdown",
   "metadata": {
    "id": "eqowe1wyQfZo"
   },
   "source": [
    "### Train test split"
   ]
  },
  {
   "cell_type": "code",
   "execution_count": null,
   "metadata": {
    "id": "X5wedA3zNQh9"
   },
   "outputs": [],
   "source": [
    "train_data = ML_data[ML_data['data_type'] == 'train']\n",
    "test_data = ML_data[ML_data['data_type'] == 'validation']"
   ]
  },
  {
   "cell_type": "markdown",
   "metadata": {
    "id": "EHovY6frz0ea"
   },
   "source": [
    "### Train ML model on training data\n",
    "Rather than creating rules like \"assign 2 points if RSI < 30,\" let's just give these features derived from technical indicators to a machine learning model and see what rules the model comes up with given the targets."
   ]
  },
  {
   "cell_type": "code",
   "execution_count": null,
   "metadata": {
    "colab": {
     "base_uri": "https://localhost:8080/",
     "height": 181
    },
    "id": "fFGAcy_z0NOc",
    "outputId": "bcae1947-69f4-4e29-e1ba-078513a4f0b7"
   },
   "outputs": [
    {
     "data": {
      "text/plain": [
       "GradientBoostingRegressor(alpha=0.9, ccp_alpha=0.0, criterion='friedman_mse',\n",
       "                          init=None, learning_rate=0.1, loss='ls', max_depth=3,\n",
       "                          max_features=None, max_leaf_nodes=None,\n",
       "                          min_impurity_decrease=0.0, min_impurity_split=None,\n",
       "                          min_samples_leaf=1, min_samples_split=2,\n",
       "                          min_weight_fraction_leaf=0.0, n_estimators=100,\n",
       "                          n_iter_no_change=None, presort='deprecated',\n",
       "                          random_state=None, subsample=1.0, tol=0.0001,\n",
       "                          validation_fraction=0.1, verbose=0, warm_start=False)"
      ]
     },
     "execution_count": 53,
     "metadata": {
      "tags": []
     },
     "output_type": "execute_result"
    }
   ],
   "source": [
    "model = GradientBoostingRegressor()\n",
    "model.fit(train_data[feature_names], train_data['target'])"
   ]
  },
  {
   "cell_type": "code",
   "execution_count": null,
   "metadata": {
    "colab": {
     "base_uri": "https://localhost:8080/",
     "height": 290
    },
    "id": "P9EbBaoHFuQ1",
    "outputId": "8e405c5b-4f49-4e1b-c5df-8650f0986af8"
   },
   "outputs": [
    {
     "data": {
      "image/png": "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\n",
      "text/plain": [
       "<Figure size 1080x216 with 1 Axes>"
      ]
     },
     "metadata": {
      "needs_background": "light",
      "tags": []
     },
     "output_type": "display_data"
    }
   ],
   "source": [
    "plt.figure(figsize=(15,3))\n",
    "plt.bar(feature_names, model.feature_importances_)\n",
    "plt.xticks(rotation=70)\n",
    "plt.show()"
   ]
  },
  {
   "cell_type": "markdown",
   "metadata": {
    "id": "mmzSyQIi1JvZ"
   },
   "source": [
    "## 4. Predict and score model on validation data"
   ]
  },
  {
   "cell_type": "markdown",
   "metadata": {
    "id": "8YeFNf2kXWtc"
   },
   "source": [
    "### Predict validation data"
   ]
  },
  {
   "cell_type": "code",
   "execution_count": null,
   "metadata": {
    "id": "Ffas7lUdI1XB"
   },
   "outputs": [],
   "source": [
    "PREDICTION_NAME = 'prediction'"
   ]
  },
  {
   "cell_type": "code",
   "execution_count": null,
   "metadata": {
    "colab": {
     "base_uri": "https://localhost:8080/",
     "height": 501
    },
    "id": "a2qNS0BDJTaG",
    "outputId": "e07d38b1-3c3b-4334-f5d3-3f637a2a40a0"
   },
   "outputs": [
    {
     "name": "stderr",
     "output_type": "stream",
     "text": [
      "/usr/local/lib/python3.6/dist-packages/ipykernel_launcher.py:1: SettingWithCopyWarning: \n",
      "A value is trying to be set on a copy of a slice from a DataFrame.\n",
      "Try using .loc[row_indexer,col_indexer] = value instead\n",
      "\n",
      "See the caveats in the documentation: https://pandas.pydata.org/pandas-docs/stable/user_guide/indexing.html#returning-a-view-versus-a-copy\n",
      "  \"\"\"Entry point for launching an IPython kernel.\n",
      "/usr/local/lib/python3.6/dist-packages/ipykernel_launcher.py:2: SettingWithCopyWarning: \n",
      "A value is trying to be set on a copy of a slice from a DataFrame.\n",
      "Try using .loc[row_indexer,col_indexer] = value instead\n",
      "\n",
      "See the caveats in the documentation: https://pandas.pydata.org/pandas-docs/stable/user_guide/indexing.html#returning-a-view-versus-a-copy\n",
      "  \n"
     ]
    },
    {
     "data": {
      "text/plain": [
       "<matplotlib.axes._subplots.AxesSubplot at 0x7efe998bc128>"
      ]
     },
     "execution_count": 56,
     "metadata": {
      "tags": []
     },
     "output_type": "execute_result"
    },
    {
     "data": {
      "image/png": "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\n",
      "text/plain": [
       "<Figure size 432x288 with 1 Axes>"
      ]
     },
     "metadata": {
      "needs_background": "light",
      "tags": []
     },
     "output_type": "display_data"
    }
   ],
   "source": [
    "train_data[PREDICTION_NAME] = model.predict(train_data[feature_names])\n",
    "test_data[PREDICTION_NAME] = model.predict(test_data[feature_names])\n",
    "\n",
    "#show prediction distribution, most should around the center\n",
    "test_data[PREDICTION_NAME].hist(bins=30)"
   ]
  },
  {
   "cell_type": "markdown",
   "metadata": {
    "id": "N67AYhS9V1co"
   },
   "source": [
    "### Evaluate validation data predictions\n",
    "We care about the relative rankings of our predictions relative to the targets, so use spearm correlation within each era"
   ]
  },
  {
   "cell_type": "code",
   "execution_count": null,
   "metadata": {
    "id": "OxB2Lcg91LeS"
   },
   "outputs": [],
   "source": [
    "def score(df):\n",
    "    '''Takes df and calculates spearm correlation from pre-defined cols'''\n",
    "    # method=\"first\" breaks ties based on order in array\n",
    "    return np.corrcoef(\n",
    "        df[TARGET_NAME],\n",
    "        df[PREDICTION_NAME].rank(pct=True, method=\"first\")\n",
    "    )[0,1]\n",
    "\n",
    "def run_analytics(era_scores):\n",
    "    print(f\"Mean Correlation: {era_scores.mean():.4f}\")\n",
    "    print(f\"Median Correlation: {era_scores.median():.4f}\")\n",
    "    print(f\"Standard Deviation: {era_scores.std():.4f}\")\n",
    "    print('\\n')\n",
    "    print(f\"Mean Pseudo-Sharpe: {era_scores.mean()/era_scores.std():.4f}\")\n",
    "    print(f\"Median Pseudo-Sharpe: {era_scores.median()/era_scores.std():.4f}\")\n",
    "    print('\\n')\n",
    "    print(f'Hit Rate (% positive eras): {era_scores.apply(lambda x: np.sign(x)).value_counts()[1]/len(era_scores):.2%}')\n",
    "\n",
    "    era_scores.rolling(10).mean().plot(kind='line', title='Rolling Per Era Correlation Mean', figsize=(15,4))\n",
    "    plt.axhline(y=0.0, color=\"r\", linestyle=\"--\"); plt.show()\n",
    "\n",
    "    era_scores.cumsum().plot(title='Cumulative Sum of Era Scores', figsize=(15,4))\n",
    "    plt.axhline(y=0.0, color=\"r\", linestyle=\"--\"); plt.show()"
   ]
  },
  {
   "cell_type": "code",
   "execution_count": null,
   "metadata": {
    "id": "S0LMDQhHWI2Z"
   },
   "outputs": [],
   "source": [
    "# spearman scores by era\n",
    "train_era_scores = train_data.groupby(train_data.index).apply(score)\n",
    "test_era_scores = test_data.groupby(test_data.index).apply(score)"
   ]
  },
  {
   "cell_type": "code",
   "execution_count": null,
   "metadata": {
    "colab": {
     "base_uri": "https://localhost:8080/",
     "height": 735
    },
    "id": "WTkfJj4ra_AM",
    "outputId": "315ef47d-22df-4b0d-c54e-c4cca43ea8e3"
   },
   "outputs": [
    {
     "name": "stdout",
     "output_type": "stream",
     "text": [
      "Mean Correlation: 0.0241\n",
      "Median Correlation: 0.0238\n",
      "Standard Deviation: 0.0504\n",
      "\n",
      "\n",
      "Mean Pseudo-Sharpe: 0.4784\n",
      "Median Pseudo-Sharpe: 0.4723\n",
      "\n",
      "\n",
      "Hit Rate (% positive eras): 68.25%\n"
     ]
    },
    {
     "data": {
      "image/png": "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\n",
      "text/plain": [
       "<Figure size 1080x288 with 1 Axes>"
      ]
     },
     "metadata": {
      "needs_background": "light",
      "tags": []
     },
     "output_type": "display_data"
    },
    {
     "data": {
      "image/png": "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\n",
      "text/plain": [
       "<Figure size 1080x288 with 1 Axes>"
      ]
     },
     "metadata": {
      "needs_background": "light",
      "tags": []
     },
     "output_type": "display_data"
    }
   ],
   "source": [
    "#train scores, in-sample and will be significantly overfit\n",
    "run_analytics(train_era_scores)"
   ]
  },
  {
   "cell_type": "code",
   "execution_count": null,
   "metadata": {
    "colab": {
     "base_uri": "https://localhost:8080/",
     "height": 735
    },
    "id": "peXA4TUbbJMC",
    "outputId": "532408db-f310-4cfc-8743-1762597baedc"
   },
   "outputs": [
    {
     "name": "stdout",
     "output_type": "stream",
     "text": [
      "Mean Correlation: 0.0014\n",
      "Median Correlation: 0.0014\n",
      "Standard Deviation: 0.0309\n",
      "\n",
      "\n",
      "Mean Pseudo-Sharpe: 0.0441\n",
      "Median Pseudo-Sharpe: 0.0457\n",
      "\n",
      "\n",
      "Hit Rate (% positive eras): 51.64%\n"
     ]
    },
    {
     "data": {
      "image/png": "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\n",
      "text/plain": [
       "<Figure size 1080x288 with 1 Axes>"
      ]
     },
     "metadata": {
      "needs_background": "light",
      "tags": []
     },
     "output_type": "display_data"
    },
    {
     "data": {
      "image/png": "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\n",
      "text/plain": [
       "<Figure size 1080x288 with 1 Axes>"
      ]
     },
     "metadata": {
      "needs_background": "light",
      "tags": []
     },
     "output_type": "display_data"
    }
   ],
   "source": [
    "#test scores, out of sample\n",
    "run_analytics(test_era_scores)"
   ]
  },
  {
   "cell_type": "markdown",
   "metadata": {
    "id": "7Q6oXvbN0YxC"
   },
   "source": [
    "## 5. Predict and submit on live data"
   ]
  },
  {
   "cell_type": "markdown",
   "metadata": {
    "id": "Q3CIaZW_VsEx"
   },
   "source": [
    "### Choose live data"
   ]
  },
  {
   "cell_type": "code",
   "execution_count": null,
   "metadata": {
    "id": "THUZ39Vk75Wi"
   },
   "outputs": [],
   "source": [
    "# choose data as of most recent friday\n",
    "last_friday = datetime.now() + relativedelta(weekday=FR(-1))\n",
    "date_string = last_friday.strftime('%Y-%m-%d')\n",
    "\n",
    "live_data = full_data.loc[date_string].copy()\n",
    "live_data.dropna(subset=feature_names, inplace=True)"
   ]
  },
  {
   "cell_type": "code",
   "execution_count": null,
   "metadata": {
    "colab": {
     "base_uri": "https://localhost:8080/",
     "height": 35
    },
    "id": "cYfRZ_-CB-B3",
    "outputId": "bf59ffac-ed03-4400-ce47-b779b251dcc5"
   },
   "outputs": [
    {
     "name": "stdout",
     "output_type": "stream",
     "text": [
      "Number of live tickers to submit: 4439\n"
     ]
    }
   ],
   "source": [
    "print(f\"Number of live tickers to submit: {len(live_data)}\")"
   ]
  },
  {
   "cell_type": "code",
   "execution_count": null,
   "metadata": {
    "colab": {
     "base_uri": "https://localhost:8080/",
     "height": 335
    },
    "id": "YXvjMZezLqPq",
    "outputId": "7702b32d-dad6-4d2b-ef4f-227bafa10768"
   },
   "outputs": [
    {
     "data": {
      "text/html": [
       "<div>\n",
       "<style scoped>\n",
       "    .dataframe tbody tr th:only-of-type {\n",
       "        vertical-align: middle;\n",
       "    }\n",
       "\n",
       "    .dataframe tbody tr th {\n",
       "        vertical-align: top;\n",
       "    }\n",
       "\n",
       "    .dataframe thead th {\n",
       "        text-align: right;\n",
       "    }\n",
       "</style>\n",
       "<table border=\"1\" class=\"dataframe\">\n",
       "  <thead>\n",
       "    <tr style=\"text-align: right;\">\n",
       "      <th></th>\n",
       "      <th>ticker</th>\n",
       "      <th>price</th>\n",
       "      <th>RSI</th>\n",
       "      <th>RSI_quintile</th>\n",
       "      <th>RSI_quintile_lag_0</th>\n",
       "      <th>RSI_quintile_lag_1</th>\n",
       "      <th>RSI_quintile_lag_2</th>\n",
       "      <th>RSI_quintile_lag_3</th>\n",
       "      <th>RSI_quintile_lag_4</th>\n",
       "      <th>RSI_quintile_lag_5</th>\n",
       "      <th>RSI_diff_0</th>\n",
       "      <th>RSI_abs_diff_0</th>\n",
       "      <th>RSI_diff_1</th>\n",
       "      <th>RSI_abs_diff_1</th>\n",
       "      <th>RSI_diff_2</th>\n",
       "      <th>RSI_abs_diff_2</th>\n",
       "      <th>RSI_diff_3</th>\n",
       "      <th>RSI_abs_diff_3</th>\n",
       "      <th>RSI_diff_4</th>\n",
       "      <th>RSI_abs_diff_4</th>\n",
       "    </tr>\n",
       "    <tr>\n",
       "      <th>date</th>\n",
       "      <th></th>\n",
       "      <th></th>\n",
       "      <th></th>\n",
       "      <th></th>\n",
       "      <th></th>\n",
       "      <th></th>\n",
       "      <th></th>\n",
       "      <th></th>\n",
       "      <th></th>\n",
       "      <th></th>\n",
       "      <th></th>\n",
       "      <th></th>\n",
       "      <th></th>\n",
       "      <th></th>\n",
       "      <th></th>\n",
       "      <th></th>\n",
       "      <th></th>\n",
       "      <th></th>\n",
       "      <th></th>\n",
       "      <th></th>\n",
       "    </tr>\n",
       "  </thead>\n",
       "  <tbody>\n",
       "    <tr>\n",
       "      <th>2020-10-09</th>\n",
       "      <td>TXT US</td>\n",
       "      <td>31.290001</td>\n",
       "      <td>71.811032</td>\n",
       "      <td>3.0</td>\n",
       "      <td>3.0</td>\n",
       "      <td>2.0</td>\n",
       "      <td>1.0</td>\n",
       "      <td>1.0</td>\n",
       "      <td>0.0</td>\n",
       "      <td>2.0</td>\n",
       "      <td>1.0</td>\n",
       "      <td>1.0</td>\n",
       "      <td>1.0</td>\n",
       "      <td>1.0</td>\n",
       "      <td>0.0</td>\n",
       "      <td>0.0</td>\n",
       "      <td>1.0</td>\n",
       "      <td>1.0</td>\n",
       "      <td>-2.0</td>\n",
       "      <td>2.0</td>\n",
       "    </tr>\n",
       "    <tr>\n",
       "      <th>2020-10-09</th>\n",
       "      <td>SAF FP</td>\n",
       "      <td>11.060000</td>\n",
       "      <td>65.399258</td>\n",
       "      <td>2.0</td>\n",
       "      <td>2.0</td>\n",
       "      <td>3.0</td>\n",
       "      <td>3.0</td>\n",
       "      <td>3.0</td>\n",
       "      <td>3.0</td>\n",
       "      <td>3.0</td>\n",
       "      <td>-1.0</td>\n",
       "      <td>1.0</td>\n",
       "      <td>0.0</td>\n",
       "      <td>0.0</td>\n",
       "      <td>0.0</td>\n",
       "      <td>0.0</td>\n",
       "      <td>0.0</td>\n",
       "      <td>0.0</td>\n",
       "      <td>0.0</td>\n",
       "      <td>0.0</td>\n",
       "    </tr>\n",
       "    <tr>\n",
       "      <th>2020-10-09</th>\n",
       "      <td>CAST SS</td>\n",
       "      <td>321.799988</td>\n",
       "      <td>39.090895</td>\n",
       "      <td>0.0</td>\n",
       "      <td>0.0</td>\n",
       "      <td>0.0</td>\n",
       "      <td>0.0</td>\n",
       "      <td>0.0</td>\n",
       "      <td>0.0</td>\n",
       "      <td>0.0</td>\n",
       "      <td>0.0</td>\n",
       "      <td>0.0</td>\n",
       "      <td>0.0</td>\n",
       "      <td>0.0</td>\n",
       "      <td>0.0</td>\n",
       "      <td>0.0</td>\n",
       "      <td>0.0</td>\n",
       "      <td>0.0</td>\n",
       "      <td>0.0</td>\n",
       "      <td>0.0</td>\n",
       "    </tr>\n",
       "    <tr>\n",
       "      <th>2020-10-09</th>\n",
       "      <td>TDG US</td>\n",
       "      <td>19.730000</td>\n",
       "      <td>71.810462</td>\n",
       "      <td>3.0</td>\n",
       "      <td>3.0</td>\n",
       "      <td>3.0</td>\n",
       "      <td>4.0</td>\n",
       "      <td>4.0</td>\n",
       "      <td>4.0</td>\n",
       "      <td>3.0</td>\n",
       "      <td>0.0</td>\n",
       "      <td>0.0</td>\n",
       "      <td>-1.0</td>\n",
       "      <td>1.0</td>\n",
       "      <td>0.0</td>\n",
       "      <td>0.0</td>\n",
       "      <td>0.0</td>\n",
       "      <td>0.0</td>\n",
       "      <td>1.0</td>\n",
       "      <td>1.0</td>\n",
       "    </tr>\n",
       "    <tr>\n",
       "      <th>2020-10-09</th>\n",
       "      <td>7012 JP</td>\n",
       "      <td>20.940001</td>\n",
       "      <td>65.301733</td>\n",
       "      <td>2.0</td>\n",
       "      <td>2.0</td>\n",
       "      <td>3.0</td>\n",
       "      <td>3.0</td>\n",
       "      <td>1.0</td>\n",
       "      <td>2.0</td>\n",
       "      <td>2.0</td>\n",
       "      <td>-1.0</td>\n",
       "      <td>1.0</td>\n",
       "      <td>0.0</td>\n",
       "      <td>0.0</td>\n",
       "      <td>2.0</td>\n",
       "      <td>2.0</td>\n",
       "      <td>-1.0</td>\n",
       "      <td>1.0</td>\n",
       "      <td>0.0</td>\n",
       "      <td>0.0</td>\n",
       "    </tr>\n",
       "  </tbody>\n",
       "</table>\n",
       "</div>"
      ],
      "text/plain": [
       "             ticker       price  ...  RSI_diff_4  RSI_abs_diff_4\n",
       "date                             ...                            \n",
       "2020-10-09   TXT US   31.290001  ...        -2.0             2.0\n",
       "2020-10-09   SAF FP   11.060000  ...         0.0             0.0\n",
       "2020-10-09  CAST SS  321.799988  ...         0.0             0.0\n",
       "2020-10-09   TDG US   19.730000  ...         1.0             1.0\n",
       "2020-10-09  7012 JP   20.940001  ...         0.0             0.0\n",
       "\n",
       "[5 rows x 20 columns]"
      ]
     },
     "execution_count": 63,
     "metadata": {
      "tags": []
     },
     "output_type": "execute_result"
    }
   ],
   "source": [
    "live_data.tail()"
   ]
  },
  {
   "cell_type": "markdown",
   "metadata": {
    "id": "eGIrqIpL_FoS"
   },
   "source": [
    "### Predict"
   ]
  },
  {
   "cell_type": "code",
   "execution_count": null,
   "metadata": {
    "id": "DzbbmZPJAJ7k"
   },
   "outputs": [],
   "source": [
    "live_data[PREDICTION_NAME] = model.predict(live_data[feature_names])"
   ]
  },
  {
   "cell_type": "code",
   "execution_count": null,
   "metadata": {
    "colab": {
     "base_uri": "https://localhost:8080/",
     "height": 283
    },
    "id": "PGbBLciLPSwW",
    "outputId": "a3a4a2f0-da55-411c-8832-38c7c5147a52"
   },
   "outputs": [
    {
     "data": {
      "text/plain": [
       "<matplotlib.axes._subplots.AxesSubplot at 0x7efe99d469b0>"
      ]
     },
     "execution_count": 65,
     "metadata": {
      "tags": []
     },
     "output_type": "execute_result"
    },
    {
     "data": {
      "image/png": "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\n",
      "text/plain": [
       "<Figure size 432x288 with 1 Axes>"
      ]
     },
     "metadata": {
      "needs_background": "light",
      "tags": []
     },
     "output_type": "display_data"
    }
   ],
   "source": [
    "# live prediction distribution\n",
    "live_data[PREDICTION_NAME].hist()"
   ]
  },
  {
   "cell_type": "code",
   "execution_count": null,
   "metadata": {
    "id": "CUl5DouW-fBO"
   },
   "outputs": [],
   "source": [
    "diagnostic_df = pd.concat([test_data, live_data])"
   ]
  },
  {
   "cell_type": "code",
   "execution_count": null,
   "metadata": {
    "colab": {
     "base_uri": "https://localhost:8080/",
     "height": 335
    },
    "id": "KdI40Q248Vij",
    "outputId": "27fbadcd-6c3b-493c-db95-fe1903819c1a"
   },
   "outputs": [
    {
     "data": {
      "text/html": [
       "<div>\n",
       "<style scoped>\n",
       "    .dataframe tbody tr th:only-of-type {\n",
       "        vertical-align: middle;\n",
       "    }\n",
       "\n",
       "    .dataframe tbody tr th {\n",
       "        vertical-align: top;\n",
       "    }\n",
       "\n",
       "    .dataframe thead th {\n",
       "        text-align: right;\n",
       "    }\n",
       "</style>\n",
       "<table border=\"1\" class=\"dataframe\">\n",
       "  <thead>\n",
       "    <tr style=\"text-align: right;\">\n",
       "      <th></th>\n",
       "      <th>ticker</th>\n",
       "      <th>price</th>\n",
       "      <th>RSI</th>\n",
       "      <th>RSI_quintile</th>\n",
       "      <th>RSI_quintile_lag_0</th>\n",
       "      <th>RSI_quintile_lag_1</th>\n",
       "      <th>RSI_quintile_lag_2</th>\n",
       "      <th>RSI_quintile_lag_3</th>\n",
       "      <th>RSI_quintile_lag_4</th>\n",
       "      <th>RSI_quintile_lag_5</th>\n",
       "      <th>RSI_diff_0</th>\n",
       "      <th>RSI_abs_diff_0</th>\n",
       "      <th>RSI_diff_1</th>\n",
       "      <th>RSI_abs_diff_1</th>\n",
       "      <th>RSI_diff_2</th>\n",
       "      <th>RSI_abs_diff_2</th>\n",
       "      <th>RSI_diff_3</th>\n",
       "      <th>RSI_abs_diff_3</th>\n",
       "      <th>RSI_diff_4</th>\n",
       "      <th>RSI_abs_diff_4</th>\n",
       "      <th>friday_date</th>\n",
       "      <th>data_type</th>\n",
       "      <th>target</th>\n",
       "      <th>prediction</th>\n",
       "    </tr>\n",
       "    <tr>\n",
       "      <th>date</th>\n",
       "      <th></th>\n",
       "      <th></th>\n",
       "      <th></th>\n",
       "      <th></th>\n",
       "      <th></th>\n",
       "      <th></th>\n",
       "      <th></th>\n",
       "      <th></th>\n",
       "      <th></th>\n",
       "      <th></th>\n",
       "      <th></th>\n",
       "      <th></th>\n",
       "      <th></th>\n",
       "      <th></th>\n",
       "      <th></th>\n",
       "      <th></th>\n",
       "      <th></th>\n",
       "      <th></th>\n",
       "      <th></th>\n",
       "      <th></th>\n",
       "      <th></th>\n",
       "      <th></th>\n",
       "      <th></th>\n",
       "      <th></th>\n",
       "    </tr>\n",
       "  </thead>\n",
       "  <tbody>\n",
       "    <tr>\n",
       "      <th>2020-10-09</th>\n",
       "      <td>TXT US</td>\n",
       "      <td>31.290001</td>\n",
       "      <td>71.811032</td>\n",
       "      <td>3.0</td>\n",
       "      <td>3.0</td>\n",
       "      <td>2.0</td>\n",
       "      <td>1.0</td>\n",
       "      <td>1.0</td>\n",
       "      <td>0.0</td>\n",
       "      <td>2.0</td>\n",
       "      <td>1.0</td>\n",
       "      <td>1.0</td>\n",
       "      <td>1.0</td>\n",
       "      <td>1.0</td>\n",
       "      <td>0.0</td>\n",
       "      <td>0.0</td>\n",
       "      <td>1.0</td>\n",
       "      <td>1.0</td>\n",
       "      <td>-2.0</td>\n",
       "      <td>2.0</td>\n",
       "      <td>NaN</td>\n",
       "      <td>NaN</td>\n",
       "      <td>NaN</td>\n",
       "      <td>0.506929</td>\n",
       "    </tr>\n",
       "    <tr>\n",
       "      <th>2020-10-09</th>\n",
       "      <td>SAF FP</td>\n",
       "      <td>11.060000</td>\n",
       "      <td>65.399258</td>\n",
       "      <td>2.0</td>\n",
       "      <td>2.0</td>\n",
       "      <td>3.0</td>\n",
       "      <td>3.0</td>\n",
       "      <td>3.0</td>\n",
       "      <td>3.0</td>\n",
       "      <td>3.0</td>\n",
       "      <td>-1.0</td>\n",
       "      <td>1.0</td>\n",
       "      <td>0.0</td>\n",
       "      <td>0.0</td>\n",
       "      <td>0.0</td>\n",
       "      <td>0.0</td>\n",
       "      <td>0.0</td>\n",
       "      <td>0.0</td>\n",
       "      <td>0.0</td>\n",
       "      <td>0.0</td>\n",
       "      <td>NaN</td>\n",
       "      <td>NaN</td>\n",
       "      <td>NaN</td>\n",
       "      <td>0.503254</td>\n",
       "    </tr>\n",
       "    <tr>\n",
       "      <th>2020-10-09</th>\n",
       "      <td>CAST SS</td>\n",
       "      <td>321.799988</td>\n",
       "      <td>39.090895</td>\n",
       "      <td>0.0</td>\n",
       "      <td>0.0</td>\n",
       "      <td>0.0</td>\n",
       "      <td>0.0</td>\n",
       "      <td>0.0</td>\n",
       "      <td>0.0</td>\n",
       "      <td>0.0</td>\n",
       "      <td>0.0</td>\n",
       "      <td>0.0</td>\n",
       "      <td>0.0</td>\n",
       "      <td>0.0</td>\n",
       "      <td>0.0</td>\n",
       "      <td>0.0</td>\n",
       "      <td>0.0</td>\n",
       "      <td>0.0</td>\n",
       "      <td>0.0</td>\n",
       "      <td>0.0</td>\n",
       "      <td>NaN</td>\n",
       "      <td>NaN</td>\n",
       "      <td>NaN</td>\n",
       "      <td>0.504174</td>\n",
       "    </tr>\n",
       "    <tr>\n",
       "      <th>2020-10-09</th>\n",
       "      <td>TDG US</td>\n",
       "      <td>19.730000</td>\n",
       "      <td>71.810462</td>\n",
       "      <td>3.0</td>\n",
       "      <td>3.0</td>\n",
       "      <td>3.0</td>\n",
       "      <td>4.0</td>\n",
       "      <td>4.0</td>\n",
       "      <td>4.0</td>\n",
       "      <td>3.0</td>\n",
       "      <td>0.0</td>\n",
       "      <td>0.0</td>\n",
       "      <td>-1.0</td>\n",
       "      <td>1.0</td>\n",
       "      <td>0.0</td>\n",
       "      <td>0.0</td>\n",
       "      <td>0.0</td>\n",
       "      <td>0.0</td>\n",
       "      <td>1.0</td>\n",
       "      <td>1.0</td>\n",
       "      <td>NaN</td>\n",
       "      <td>NaN</td>\n",
       "      <td>NaN</td>\n",
       "      <td>0.503139</td>\n",
       "    </tr>\n",
       "    <tr>\n",
       "      <th>2020-10-09</th>\n",
       "      <td>7012 JP</td>\n",
       "      <td>20.940001</td>\n",
       "      <td>65.301733</td>\n",
       "      <td>2.0</td>\n",
       "      <td>2.0</td>\n",
       "      <td>3.0</td>\n",
       "      <td>3.0</td>\n",
       "      <td>1.0</td>\n",
       "      <td>2.0</td>\n",
       "      <td>2.0</td>\n",
       "      <td>-1.0</td>\n",
       "      <td>1.0</td>\n",
       "      <td>0.0</td>\n",
       "      <td>0.0</td>\n",
       "      <td>2.0</td>\n",
       "      <td>2.0</td>\n",
       "      <td>-1.0</td>\n",
       "      <td>1.0</td>\n",
       "      <td>0.0</td>\n",
       "      <td>0.0</td>\n",
       "      <td>NaN</td>\n",
       "      <td>NaN</td>\n",
       "      <td>NaN</td>\n",
       "      <td>0.502368</td>\n",
       "    </tr>\n",
       "  </tbody>\n",
       "</table>\n",
       "</div>"
      ],
      "text/plain": [
       "             ticker       price        RSI  ...  data_type  target  prediction\n",
       "date                                        ...                               \n",
       "2020-10-09   TXT US   31.290001  71.811032  ...        NaN     NaN    0.506929\n",
       "2020-10-09   SAF FP   11.060000  65.399258  ...        NaN     NaN    0.503254\n",
       "2020-10-09  CAST SS  321.799988  39.090895  ...        NaN     NaN    0.504174\n",
       "2020-10-09   TDG US   19.730000  71.810462  ...        NaN     NaN    0.503139\n",
       "2020-10-09  7012 JP   20.940001  65.301733  ...        NaN     NaN    0.502368\n",
       "\n",
       "[5 rows x 24 columns]"
      ]
     },
     "execution_count": 67,
     "metadata": {
      "tags": []
     },
     "output_type": "execute_result"
    }
   ],
   "source": [
    "diagnostic_df.tail()"
   ]
  },
  {
   "cell_type": "code",
   "execution_count": null,
   "metadata": {
    "id": "tHrl0XzB-wJY"
   },
   "outputs": [],
   "source": [
    "diagnostic_df['friday_date'] = diagnostic_df.friday_date.fillna(last_friday.strftime('%Y%m%d')).astype(int)\n",
    "diagnostic_df['data_type'] = diagnostic_df.data_type.fillna('live')\n",
    "diagnostic_df[['ticker','friday_date','data_type','prediction']].reset_index(drop=True).to_csv('example_signal_upload.csv', index=False)"
   ]
  },
  {
   "cell_type": "markdown",
   "metadata": {
    "id": "Ar8DYqDJdxzl"
   },
   "source": [
    "### Submit live predictions via API"
   ]
  },
  {
   "cell_type": "code",
   "execution_count": null,
   "metadata": {
    "id": "UBK32lZsAwNP"
   },
   "outputs": [],
   "source": [
    "# format predictions to match Numerai submission format\n",
    "predictions = live_data[['ticker', PREDICTION_NAME]].copy()\n",
    "\n",
    "# choose account\n",
    "ACCOUNT_NAME = 'ENTER_ACCOUNT_NAME'\n",
    "\n",
    "# write predictions to csv\n",
    "live_data[['ticker', PREDICTION_NAME]].to_csv(f\"{ACCOUNT_NAME} {datetime.now().strftime('%Y%m%d')}.csv\", index=False)"
   ]
  },
  {
   "cell_type": "code",
   "execution_count": null,
   "metadata": {
    "id": "_yi1Je2PdgRw"
   },
   "outputs": [],
   "source": [
    "def submit_model(account_name):\n",
    "    filename = f\"{account_name} {datetime.now().strftime('%Y%m%d')}.csv\"\n",
    "    model_id = napi.get_models()[f'{account_name}']\n",
    "    submission = napi.upload_predictions(filename, model_id=model_id)\n",
    "    print(submission)"
   ]
  },
  {
   "cell_type": "code",
   "execution_count": null,
   "metadata": {
    "id": "mHyZL-jhdgMe"
   },
   "outputs": [],
   "source": [
    "submit_model(ACCOUNT_NAME)"
   ]
  },
  {
   "cell_type": "markdown",
   "metadata": {
    "id": "yBbqnCZMsE44"
   },
   "source": [
    "### Stake on submission\n",
    "Confident in your live signals? Visit https://signals.numer.ai/models to place and manage stakes"
   ]
  },
  {
   "cell_type": "markdown",
   "metadata": {
    "id": "RxbG2LejfeUm"
   },
   "source": [
    "## Suggestions for improvement\n",
    "This example script isn't perfect, but it's a great framework to build off of.\n",
    "\n",
    "* Try different features or other technical indicators derived from price data. RSI is used as an example here, but there are many others like it (MACD, EWMA, etc.). We used a short-term window of time. Try to use longer time windows and intervals.\n",
    "\n",
    "* Additional feature engineering may go a long way. We took RSI quintiles and their lags and differences, but the number of possible combinations is much larger. See https://github.com/blue-yonder/tsfresh/blob/main/tsfresh/feature_extraction/feature_calculators.py for other ideas (h/t objectscience). Think about how to turn time series price data into a cross-sectional machine learning problem.\n",
    "\n",
    "* Neutralize your features with respect to time. Taking relative rankings within each era and differencing can help like we did here, but more attention to stationarity will likely improve performance.\n",
    "\n",
    "* Find non-price data to layer into your feature set. Pricing data and its derivatives will be the most common and therefore likely the most correlated with other submissions.\n",
    "\n",
    "* Neutralize your features to country, sector, industry, or other fields/metadata that may be specific to a group of securities.\n",
    "\n",
    "* Try other types of algorithms/models and tune your hyper-parameters with time-series cross-validation. https://forum.numer.ai/t/era-wise-time-series-cross-validation/791\n",
    "\n",
    "* Make your own targets. It's possible your alpha from other timeframes and strategies will do well on Numerai Signals. Submit and check your diagnostics.\n",
    "\n",
    "* Lean on the community. This script already has many suggestions and implementations from other community members baked in. Share your thoughts at https://community.numer.ai/channel/signals"
   ]
  },
  {
   "cell_type": "markdown",
   "metadata": {
    "id": "uMx966Lc928I"
   },
   "source": [
    "# About\n",
    "\n",
    "Last updated: 2020-10-16\n",
    "\n",
    "Created by: Jason Rosenfeld\n",
    "\n",
    "- Numerai: [jrai](https://numer.ai/jrai)\n",
    "\n",
    "- Twitter: [@jrosenfeld13](https://twitter.com/jrosenfeld13)"
   ]
  }
 ],
 "metadata": {
  "colab": {
   "collapsed_sections": [],
   "name": "Numerai Signals Example Predictions with Yahoo Finance.ipynb",
   "provenance": [],
   "toc_visible": true
  },
  "kernelspec": {
   "display_name": "Python 3",
   "language": "python",
   "name": "python3"
  },
  "language_info": {
   "codemirror_mode": {
    "name": "ipython",
    "version": 3
   },
   "file_extension": ".py",
   "mimetype": "text/x-python",
   "name": "python",
   "nbconvert_exporter": "python",
   "pygments_lexer": "ipython3",
<<<<<<< HEAD
   "version": "3.7.6"
=======
   "version": "3.9.1"
>>>>>>> 607218e44551219d2aa08469d9fe08dc6e05db2a
  }
 },
 "nbformat": 4,
 "nbformat_minor": 1
}
